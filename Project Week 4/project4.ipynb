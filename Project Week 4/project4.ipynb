{
  "nbformat": 4,
  "nbformat_minor": 0,
  "metadata": {
    "colab": {
      "name": "project4.ipynb",
      "provenance": [],
      "collapsed_sections": [
        "edfXgjNHnLJa"
      ]
    },
    "kernelspec": {
      "name": "python3",
      "display_name": "Python 3"
    },
    "language_info": {
      "name": "python"
    }
  },
  "cells": [
    {
      "cell_type": "markdown",
      "metadata": {
        "id": "Vce2WQyvTImF"
      },
      "source": [
        "# Project Week 4 | TEAM 3\n",
        "---\n",
        "\n"
      ]
    },
    {
      "cell_type": "markdown",
      "metadata": {
        "id": "VJJjO9Y2Xgje"
      },
      "source": [
        "## Setup PySpark"
      ]
    },
    {
      "cell_type": "code",
      "metadata": {
        "id": "ILg6ccwPXTs7"
      },
      "source": [
        "!apt-get install openjdk-8-jdk-headless -qq > /dev/null\n",
        "!wget -q https://archive.apache.org/dist/spark/spark-3.0.0/spark-3.0.0-bin-hadoop3.2.tgz\n",
        "!tar xf spark-3.0.0-bin-hadoop3.2.tgz\n",
        "!pip install -q findspark"
      ],
      "execution_count": 1,
      "outputs": []
    },
    {
      "cell_type": "code",
      "metadata": {
        "id": "oIGEFO5vXciq"
      },
      "source": [
        "import os\n",
        "os.environ[\"JAVA_HOME\"] = \"/usr/lib/jvm/java-8-openjdk-amd64\"\n",
        "os.environ[\"SPARK_HOME\"] = \"/content/spark-3.0.0-bin-hadoop3.2\""
      ],
      "execution_count": 2,
      "outputs": []
    },
    {
      "cell_type": "code",
      "metadata": {
        "id": "96GuhgprXfi7"
      },
      "source": [
        "import findspark\n",
        "import matplotlib.pyplot as plt\n",
        "findspark.init()\n",
        "from pyspark.sql import SparkSession\n",
        "spark = SparkSession.builder.master(\"local[*]\").getOrCreate()"
      ],
      "execution_count": 3,
      "outputs": []
    },
    {
      "cell_type": "code",
      "metadata": {
        "colab": {
          "base_uri": "https://localhost:8080/",
          "height": 36
        },
        "id": "eTdKDaPsXByA",
        "outputId": "430ab5ac-a23e-4c70-c5bc-4fdb7f3632df"
      },
      "source": [
        "spark.version"
      ],
      "execution_count": 4,
      "outputs": [
        {
          "output_type": "execute_result",
          "data": {
            "application/vnd.google.colaboratory.intrinsic+json": {
              "type": "string"
            },
            "text/plain": [
              "'3.0.0'"
            ]
          },
          "metadata": {},
          "execution_count": 4
        }
      ]
    },
    {
      "cell_type": "markdown",
      "metadata": {
        "id": "ChQY-nxhThWO"
      },
      "source": [
        "# Data Exploration\n",
        "- USE SPARK / SPARK SQL methods for the following sub-tasks, if possible. \n",
        "- Read-in the data and gather statistical information about the data, such as summary statistics, attribute distributions, correlation between attributes, outliers, information about missing data etc.  \n",
        "- Present and discuss your findings in the report (at least 3 things) and use appropriate visualization if possible. \n",
        "- Preprocess the data (imputation, sub-sampling, etc.). Describe in the report in detail what you \n",
        "did.  \n",
        "- Use at least two imputation methods. Analyze and compare the results."
      ]
    },
    {
      "cell_type": "markdown",
      "metadata": {
        "id": "xSNr1ZcIViVG"
      },
      "source": [
        "## Read Data"
      ]
    },
    {
      "cell_type": "markdown",
      "metadata": {
        "id": "Dc93Wv0dK98H"
      },
      "source": [
        "Use this code if `train.csv` and `test.csv` are in your Google Drive. Otherwise import both files into Google Colab and ignore this line."
      ]
    },
    {
      "cell_type": "code",
      "metadata": {
        "id": "at1Egf-m8Zct",
        "colab": {
          "base_uri": "https://localhost:8080/"
        },
        "outputId": "898db0d8-1fc2-4df3-c2cf-85aac93ee2cc"
      },
      "source": [
        "from google.colab import drive\n",
        "drive.mount('/content/drive')"
      ],
      "execution_count": 5,
      "outputs": [
        {
          "output_type": "stream",
          "name": "stdout",
          "text": [
            "Drive already mounted at /content/drive; to attempt to forcibly remount, call drive.mount(\"/content/drive\", force_remount=True).\n"
          ]
        }
      ]
    },
    {
      "cell_type": "code",
      "metadata": {
        "id": "6WDSh1SyLQuC"
      },
      "source": [
        "!cp drive/My\\ Drive/test.csv test.csv\n",
        "!cp drive/My\\ Drive/train.csv train.csv"
      ],
      "execution_count": 6,
      "outputs": []
    },
    {
      "cell_type": "markdown",
      "metadata": {
        "id": "E1m5iTKwVETS"
      },
      "source": [
        "First the given data-csv files need to be imported into the current Google Colab runtime."
      ]
    },
    {
      "cell_type": "code",
      "metadata": {
        "id": "btLtkJk-U1Vi",
        "colab": {
          "base_uri": "https://localhost:8080/"
        },
        "outputId": "494dc09c-c6a9-4b0f-9b8e-1cefbd732112"
      },
      "source": [
        "# schema = \"id INT, gender STRING, age INT, hypertension BOOLEAN, heart_disease STRING, ever_married STRING, work_type STRING, Residence_type STRING, avg_glucose_level DOUBLE, bmi DOUBLE, smoking_status STRING\"\n",
        "test_df = spark.read.csv(\"test.csv\", \n",
        "                         # schema = schema,\n",
        "                         inferSchema = True, \n",
        "                         header = True)\n",
        "train_df = spark.read.csv(\"train.csv\", \n",
        "                          # schema = schema +\", stroke BOOLEAN\",\n",
        "                          inferSchema = True,\n",
        "                          header = True)\n",
        "train_df.printSchema()\n",
        "test_df.printSchema()"
      ],
      "execution_count": 7,
      "outputs": [
        {
          "output_type": "stream",
          "name": "stdout",
          "text": [
            "root\n",
            " |-- id: integer (nullable = true)\n",
            " |-- gender: string (nullable = true)\n",
            " |-- age: double (nullable = true)\n",
            " |-- hypertension: integer (nullable = true)\n",
            " |-- heart_disease: integer (nullable = true)\n",
            " |-- ever_married: string (nullable = true)\n",
            " |-- work_type: string (nullable = true)\n",
            " |-- Residence_type: string (nullable = true)\n",
            " |-- avg_glucose_level: double (nullable = true)\n",
            " |-- bmi: double (nullable = true)\n",
            " |-- smoking_status: string (nullable = true)\n",
            " |-- stroke: integer (nullable = true)\n",
            "\n",
            "root\n",
            " |-- id: integer (nullable = true)\n",
            " |-- gender: string (nullable = true)\n",
            " |-- age: double (nullable = true)\n",
            " |-- hypertension: integer (nullable = true)\n",
            " |-- heart_disease: integer (nullable = true)\n",
            " |-- ever_married: string (nullable = true)\n",
            " |-- work_type: string (nullable = true)\n",
            " |-- Residence_type: string (nullable = true)\n",
            " |-- avg_glucose_level: double (nullable = true)\n",
            " |-- bmi: double (nullable = true)\n",
            " |-- smoking_status: string (nullable = true)\n",
            "\n"
          ]
        }
      ]
    },
    {
      "cell_type": "markdown",
      "metadata": {
        "id": "G0IiWOVFPLr9"
      },
      "source": [
        "Input the tables to SPARK SQL"
      ]
    },
    {
      "cell_type": "code",
      "metadata": {
        "id": "DA8Ys3ADPLZL"
      },
      "source": [
        "train_df.createOrReplaceTempView(\"train_tab\")\n",
        "\n",
        "test_df.createOrReplaceTempView(\"test_tab\")"
      ],
      "execution_count": 8,
      "outputs": []
    },
    {
      "cell_type": "code",
      "metadata": {
        "id": "YLno0bXKpO7O",
        "colab": {
          "base_uri": "https://localhost:8080/"
        },
        "outputId": "5d3c94b9-4003-4987-aa0d-2b6823f450e4"
      },
      "source": [
        "n_train = train_df.count()\n",
        "print(\"There are\", n_train, \"samples in the training data.\")\n",
        "\n",
        "n_test = test_df.count()\n",
        "print(\"There are\", n_test, \"samples in the test data.\")"
      ],
      "execution_count": 9,
      "outputs": [
        {
          "output_type": "stream",
          "name": "stdout",
          "text": [
            "There are 43400 samples in the training data.\n",
            "There are 18601 samples in the test data.\n"
          ]
        }
      ]
    },
    {
      "cell_type": "markdown",
      "metadata": {
        "id": "ZHfj-ERPd0-S"
      },
      "source": [
        "## Imputation\n"
      ]
    },
    {
      "cell_type": "markdown",
      "metadata": {
        "id": "eKn_fziSeL-j"
      },
      "source": [
        "First, the missing values of the data are analysed. "
      ]
    },
    {
      "cell_type": "code",
      "metadata": {
        "id": "OzuFagq0edqC",
        "colab": {
          "base_uri": "https://localhost:8080/",
          "height": 81
        },
        "outputId": "f12c1ddc-f087-4bcb-d905-6ba88ee6429a"
      },
      "source": [
        "# train_df.apply(lambda x: sum(x.isnull()))\n",
        "from pyspark.sql.functions import isnull, when, count, col\n",
        "train_df.select([count(when(isnull(c), c)).alias(c) for c in train_df.columns]).toPandas()"
      ],
      "execution_count": 10,
      "outputs": [
        {
          "output_type": "execute_result",
          "data": {
            "text/html": [
              "<div>\n",
              "<style scoped>\n",
              "    .dataframe tbody tr th:only-of-type {\n",
              "        vertical-align: middle;\n",
              "    }\n",
              "\n",
              "    .dataframe tbody tr th {\n",
              "        vertical-align: top;\n",
              "    }\n",
              "\n",
              "    .dataframe thead th {\n",
              "        text-align: right;\n",
              "    }\n",
              "</style>\n",
              "<table border=\"1\" class=\"dataframe\">\n",
              "  <thead>\n",
              "    <tr style=\"text-align: right;\">\n",
              "      <th></th>\n",
              "      <th>id</th>\n",
              "      <th>gender</th>\n",
              "      <th>age</th>\n",
              "      <th>hypertension</th>\n",
              "      <th>heart_disease</th>\n",
              "      <th>ever_married</th>\n",
              "      <th>work_type</th>\n",
              "      <th>Residence_type</th>\n",
              "      <th>avg_glucose_level</th>\n",
              "      <th>bmi</th>\n",
              "      <th>smoking_status</th>\n",
              "      <th>stroke</th>\n",
              "    </tr>\n",
              "  </thead>\n",
              "  <tbody>\n",
              "    <tr>\n",
              "      <th>0</th>\n",
              "      <td>0</td>\n",
              "      <td>0</td>\n",
              "      <td>0</td>\n",
              "      <td>0</td>\n",
              "      <td>0</td>\n",
              "      <td>0</td>\n",
              "      <td>0</td>\n",
              "      <td>0</td>\n",
              "      <td>0</td>\n",
              "      <td>1462</td>\n",
              "      <td>13292</td>\n",
              "      <td>0</td>\n",
              "    </tr>\n",
              "  </tbody>\n",
              "</table>\n",
              "</div>"
            ],
            "text/plain": [
              "   id  gender  age  ...   bmi  smoking_status  stroke\n",
              "0   0       0    0  ...  1462           13292       0\n",
              "\n",
              "[1 rows x 12 columns]"
            ]
          },
          "metadata": {},
          "execution_count": 10
        }
      ]
    },
    {
      "cell_type": "markdown",
      "metadata": {
        "id": "GA6zOCYMdHhY"
      },
      "source": [
        "There are missing values in `bmi` and `smoking_status`."
      ]
    },
    {
      "cell_type": "markdown",
      "metadata": {
        "id": "vgVG27n7m0di"
      },
      "source": [
        "Use [`fillna()`](https://spark.apache.org/docs/latest/api/python/reference/api/pyspark.sql.DataFrame.fillna.html#pyspark.sql.DataFrame.fillna) to fill in missing values.\n",
        "\n",
        "**Imputation Method 1**: impute with mean of data in `bmi` (bmi is normal distributed normally)\n",
        "\n",
        "Other option: impute with global mean ([WHO](https://www.who.int/data/gho/data/indicators/indicator-details/GHO/mean-bmi-(kg-m-)-(crude-estimate))) or here [Meta-Study](https://www.ncbi.nlm.nih.gov/pmc/articles/PMC5735219/), [Meta-Study 2](https://globalizationandhealth.biomedcentral.com/articles/10.1186/s12992-019-0457-y), would be 24"
      ]
    },
    {
      "cell_type": "code",
      "metadata": {
        "id": "IJsh2_l7hb96",
        "colab": {
          "base_uri": "https://localhost:8080/",
          "height": 81
        },
        "outputId": "07003170-bd54-4a5e-d347-79ea232fd7ca"
      },
      "source": [
        "train_df = train_df.fillna({'bmi':train_df.groupBy().mean('bmi').head()[0]})\n",
        "train_df.select([count(when(isnull(c), c)).alias(c) for c in train_df.columns]).toPandas()"
      ],
      "execution_count": 11,
      "outputs": [
        {
          "output_type": "execute_result",
          "data": {
            "text/html": [
              "<div>\n",
              "<style scoped>\n",
              "    .dataframe tbody tr th:only-of-type {\n",
              "        vertical-align: middle;\n",
              "    }\n",
              "\n",
              "    .dataframe tbody tr th {\n",
              "        vertical-align: top;\n",
              "    }\n",
              "\n",
              "    .dataframe thead th {\n",
              "        text-align: right;\n",
              "    }\n",
              "</style>\n",
              "<table border=\"1\" class=\"dataframe\">\n",
              "  <thead>\n",
              "    <tr style=\"text-align: right;\">\n",
              "      <th></th>\n",
              "      <th>id</th>\n",
              "      <th>gender</th>\n",
              "      <th>age</th>\n",
              "      <th>hypertension</th>\n",
              "      <th>heart_disease</th>\n",
              "      <th>ever_married</th>\n",
              "      <th>work_type</th>\n",
              "      <th>Residence_type</th>\n",
              "      <th>avg_glucose_level</th>\n",
              "      <th>bmi</th>\n",
              "      <th>smoking_status</th>\n",
              "      <th>stroke</th>\n",
              "    </tr>\n",
              "  </thead>\n",
              "  <tbody>\n",
              "    <tr>\n",
              "      <th>0</th>\n",
              "      <td>0</td>\n",
              "      <td>0</td>\n",
              "      <td>0</td>\n",
              "      <td>0</td>\n",
              "      <td>0</td>\n",
              "      <td>0</td>\n",
              "      <td>0</td>\n",
              "      <td>0</td>\n",
              "      <td>0</td>\n",
              "      <td>0</td>\n",
              "      <td>13292</td>\n",
              "      <td>0</td>\n",
              "    </tr>\n",
              "  </tbody>\n",
              "</table>\n",
              "</div>"
            ],
            "text/plain": [
              "   id  gender  age  ...  bmi  smoking_status  stroke\n",
              "0   0       0    0  ...    0           13292       0\n",
              "\n",
              "[1 rows x 12 columns]"
            ]
          },
          "metadata": {},
          "execution_count": 11
        }
      ]
    },
    {
      "cell_type": "markdown",
      "metadata": {
        "id": "MzRV9w7Zd3gx"
      },
      "source": [
        "**Imputation Method 2**: impute with value from randomly selected record"
      ]
    },
    {
      "cell_type": "code",
      "metadata": {
        "id": "gndseFskd6FM",
        "colab": {
          "base_uri": "https://localhost:8080/",
          "height": 175
        },
        "outputId": "89dd4214-fc22-45f0-8ecc-bd5a46f3f7a5"
      },
      "source": [
        "spark.sql(\"SELECT smoking_status, COUNT(*) AS n FROM train_tab GROUP BY smoking_status;\").toPandas()"
      ],
      "execution_count": 12,
      "outputs": [
        {
          "output_type": "execute_result",
          "data": {
            "text/html": [
              "<div>\n",
              "<style scoped>\n",
              "    .dataframe tbody tr th:only-of-type {\n",
              "        vertical-align: middle;\n",
              "    }\n",
              "\n",
              "    .dataframe tbody tr th {\n",
              "        vertical-align: top;\n",
              "    }\n",
              "\n",
              "    .dataframe thead th {\n",
              "        text-align: right;\n",
              "    }\n",
              "</style>\n",
              "<table border=\"1\" class=\"dataframe\">\n",
              "  <thead>\n",
              "    <tr style=\"text-align: right;\">\n",
              "      <th></th>\n",
              "      <th>smoking_status</th>\n",
              "      <th>n</th>\n",
              "    </tr>\n",
              "  </thead>\n",
              "  <tbody>\n",
              "    <tr>\n",
              "      <th>0</th>\n",
              "      <td>None</td>\n",
              "      <td>13292</td>\n",
              "    </tr>\n",
              "    <tr>\n",
              "      <th>1</th>\n",
              "      <td>smokes</td>\n",
              "      <td>6562</td>\n",
              "    </tr>\n",
              "    <tr>\n",
              "      <th>2</th>\n",
              "      <td>never smoked</td>\n",
              "      <td>16053</td>\n",
              "    </tr>\n",
              "    <tr>\n",
              "      <th>3</th>\n",
              "      <td>formerly smoked</td>\n",
              "      <td>7493</td>\n",
              "    </tr>\n",
              "  </tbody>\n",
              "</table>\n",
              "</div>"
            ],
            "text/plain": [
              "    smoking_status      n\n",
              "0             None  13292\n",
              "1           smokes   6562\n",
              "2     never smoked  16053\n",
              "3  formerly smoked   7493"
            ]
          },
          "metadata": {},
          "execution_count": 12
        }
      ]
    },
    {
      "cell_type": "code",
      "metadata": {
        "id": "R6_6KHTbjqT7",
        "colab": {
          "base_uri": "https://localhost:8080/"
        },
        "outputId": "6daa84a5-ed87-4d68-fffa-5cde4b7df409"
      },
      "source": [
        "random_ss = train_df.sample(fraction=1.0/n_train, seed = 1243124).first()['smoking_status']\n",
        "print(\"NAs in smoking_status are replaced with random variable:\", random_ss)"
      ],
      "execution_count": 13,
      "outputs": [
        {
          "output_type": "stream",
          "name": "stdout",
          "text": [
            "NAs in smoking_status are replaced with random variable: never smoked\n"
          ]
        }
      ]
    },
    {
      "cell_type": "code",
      "metadata": {
        "id": "SD07SethmS_-",
        "colab": {
          "base_uri": "https://localhost:8080/",
          "height": 81
        },
        "outputId": "0b654467-dbce-4e41-d3fa-543103b16168"
      },
      "source": [
        "train_df = train_df.fillna({'smoking_status': 'never smoked'})\n",
        "train_df.select([count(when(isnull(c), c)).alias(c) for c in train_df.columns]).toPandas()"
      ],
      "execution_count": 14,
      "outputs": [
        {
          "output_type": "execute_result",
          "data": {
            "text/html": [
              "<div>\n",
              "<style scoped>\n",
              "    .dataframe tbody tr th:only-of-type {\n",
              "        vertical-align: middle;\n",
              "    }\n",
              "\n",
              "    .dataframe tbody tr th {\n",
              "        vertical-align: top;\n",
              "    }\n",
              "\n",
              "    .dataframe thead th {\n",
              "        text-align: right;\n",
              "    }\n",
              "</style>\n",
              "<table border=\"1\" class=\"dataframe\">\n",
              "  <thead>\n",
              "    <tr style=\"text-align: right;\">\n",
              "      <th></th>\n",
              "      <th>id</th>\n",
              "      <th>gender</th>\n",
              "      <th>age</th>\n",
              "      <th>hypertension</th>\n",
              "      <th>heart_disease</th>\n",
              "      <th>ever_married</th>\n",
              "      <th>work_type</th>\n",
              "      <th>Residence_type</th>\n",
              "      <th>avg_glucose_level</th>\n",
              "      <th>bmi</th>\n",
              "      <th>smoking_status</th>\n",
              "      <th>stroke</th>\n",
              "    </tr>\n",
              "  </thead>\n",
              "  <tbody>\n",
              "    <tr>\n",
              "      <th>0</th>\n",
              "      <td>0</td>\n",
              "      <td>0</td>\n",
              "      <td>0</td>\n",
              "      <td>0</td>\n",
              "      <td>0</td>\n",
              "      <td>0</td>\n",
              "      <td>0</td>\n",
              "      <td>0</td>\n",
              "      <td>0</td>\n",
              "      <td>0</td>\n",
              "      <td>0</td>\n",
              "      <td>0</td>\n",
              "    </tr>\n",
              "  </tbody>\n",
              "</table>\n",
              "</div>"
            ],
            "text/plain": [
              "   id  gender  age  ...  bmi  smoking_status  stroke\n",
              "0   0       0    0  ...    0               0       0\n",
              "\n",
              "[1 rows x 12 columns]"
            ]
          },
          "metadata": {},
          "execution_count": 14
        }
      ]
    },
    {
      "cell_type": "markdown",
      "metadata": {
        "id": "cAL2cfBgvsci"
      },
      "source": [
        "As you can see, all NA values are imputed/gone."
      ]
    },
    {
      "cell_type": "markdown",
      "metadata": {
        "id": "6h8Bgb2SVl2d"
      },
      "source": [
        "## Analyze Data\n",
        "\n",
        "This code uses `.toPandas()` to print tables better."
      ]
    },
    {
      "cell_type": "markdown",
      "metadata": {
        "id": "qZf9VJhuZw5A"
      },
      "source": [
        "View Head of Data to get a general overview and examples for all attributes."
      ]
    },
    {
      "cell_type": "code",
      "metadata": {
        "id": "YL9VOlVxZztq",
        "colab": {
          "base_uri": "https://localhost:8080/",
          "height": 206
        },
        "outputId": "9622f8a8-1e7e-49c0-cebb-530478f8517f"
      },
      "source": [
        "pandas_df = train_df.toPandas()\n",
        "pandas_df.head(5)"
      ],
      "execution_count": 15,
      "outputs": [
        {
          "output_type": "execute_result",
          "data": {
            "text/html": [
              "<div>\n",
              "<style scoped>\n",
              "    .dataframe tbody tr th:only-of-type {\n",
              "        vertical-align: middle;\n",
              "    }\n",
              "\n",
              "    .dataframe tbody tr th {\n",
              "        vertical-align: top;\n",
              "    }\n",
              "\n",
              "    .dataframe thead th {\n",
              "        text-align: right;\n",
              "    }\n",
              "</style>\n",
              "<table border=\"1\" class=\"dataframe\">\n",
              "  <thead>\n",
              "    <tr style=\"text-align: right;\">\n",
              "      <th></th>\n",
              "      <th>id</th>\n",
              "      <th>gender</th>\n",
              "      <th>age</th>\n",
              "      <th>hypertension</th>\n",
              "      <th>heart_disease</th>\n",
              "      <th>ever_married</th>\n",
              "      <th>work_type</th>\n",
              "      <th>Residence_type</th>\n",
              "      <th>avg_glucose_level</th>\n",
              "      <th>bmi</th>\n",
              "      <th>smoking_status</th>\n",
              "      <th>stroke</th>\n",
              "    </tr>\n",
              "  </thead>\n",
              "  <tbody>\n",
              "    <tr>\n",
              "      <th>0</th>\n",
              "      <td>30669</td>\n",
              "      <td>Male</td>\n",
              "      <td>3.0</td>\n",
              "      <td>0</td>\n",
              "      <td>0</td>\n",
              "      <td>No</td>\n",
              "      <td>children</td>\n",
              "      <td>Rural</td>\n",
              "      <td>95.12</td>\n",
              "      <td>18.0</td>\n",
              "      <td>never smoked</td>\n",
              "      <td>0</td>\n",
              "    </tr>\n",
              "    <tr>\n",
              "      <th>1</th>\n",
              "      <td>30468</td>\n",
              "      <td>Male</td>\n",
              "      <td>58.0</td>\n",
              "      <td>1</td>\n",
              "      <td>0</td>\n",
              "      <td>Yes</td>\n",
              "      <td>Private</td>\n",
              "      <td>Urban</td>\n",
              "      <td>87.96</td>\n",
              "      <td>39.2</td>\n",
              "      <td>never smoked</td>\n",
              "      <td>0</td>\n",
              "    </tr>\n",
              "    <tr>\n",
              "      <th>2</th>\n",
              "      <td>16523</td>\n",
              "      <td>Female</td>\n",
              "      <td>8.0</td>\n",
              "      <td>0</td>\n",
              "      <td>0</td>\n",
              "      <td>No</td>\n",
              "      <td>Private</td>\n",
              "      <td>Urban</td>\n",
              "      <td>110.89</td>\n",
              "      <td>17.6</td>\n",
              "      <td>never smoked</td>\n",
              "      <td>0</td>\n",
              "    </tr>\n",
              "    <tr>\n",
              "      <th>3</th>\n",
              "      <td>56543</td>\n",
              "      <td>Female</td>\n",
              "      <td>70.0</td>\n",
              "      <td>0</td>\n",
              "      <td>0</td>\n",
              "      <td>Yes</td>\n",
              "      <td>Private</td>\n",
              "      <td>Rural</td>\n",
              "      <td>69.04</td>\n",
              "      <td>35.9</td>\n",
              "      <td>formerly smoked</td>\n",
              "      <td>0</td>\n",
              "    </tr>\n",
              "    <tr>\n",
              "      <th>4</th>\n",
              "      <td>46136</td>\n",
              "      <td>Male</td>\n",
              "      <td>14.0</td>\n",
              "      <td>0</td>\n",
              "      <td>0</td>\n",
              "      <td>No</td>\n",
              "      <td>Never_worked</td>\n",
              "      <td>Rural</td>\n",
              "      <td>161.28</td>\n",
              "      <td>19.1</td>\n",
              "      <td>never smoked</td>\n",
              "      <td>0</td>\n",
              "    </tr>\n",
              "  </tbody>\n",
              "</table>\n",
              "</div>"
            ],
            "text/plain": [
              "      id  gender   age  ...   bmi   smoking_status stroke\n",
              "0  30669    Male   3.0  ...  18.0     never smoked      0\n",
              "1  30468    Male  58.0  ...  39.2     never smoked      0\n",
              "2  16523  Female   8.0  ...  17.6     never smoked      0\n",
              "3  56543  Female  70.0  ...  35.9  formerly smoked      0\n",
              "4  46136    Male  14.0  ...  19.1     never smoked      0\n",
              "\n",
              "[5 rows x 12 columns]"
            ]
          },
          "metadata": {},
          "execution_count": 15
        }
      ]
    },
    {
      "cell_type": "markdown",
      "metadata": {
        "id": "uF0zsDsk768A"
      },
      "source": [
        "The data is summarised "
      ]
    },
    {
      "cell_type": "code",
      "metadata": {
        "id": "qTcHw1t9kzj-",
        "colab": {
          "base_uri": "https://localhost:8080/",
          "height": 226
        },
        "outputId": "da7acdbc-ecc1-4f58-b461-83802c7dd1f6"
      },
      "source": [
        "train_df.drop('id').describe().toPandas()"
      ],
      "execution_count": 16,
      "outputs": [
        {
          "output_type": "execute_result",
          "data": {
            "text/html": [
              "<div>\n",
              "<style scoped>\n",
              "    .dataframe tbody tr th:only-of-type {\n",
              "        vertical-align: middle;\n",
              "    }\n",
              "\n",
              "    .dataframe tbody tr th {\n",
              "        vertical-align: top;\n",
              "    }\n",
              "\n",
              "    .dataframe thead th {\n",
              "        text-align: right;\n",
              "    }\n",
              "</style>\n",
              "<table border=\"1\" class=\"dataframe\">\n",
              "  <thead>\n",
              "    <tr style=\"text-align: right;\">\n",
              "      <th></th>\n",
              "      <th>summary</th>\n",
              "      <th>gender</th>\n",
              "      <th>age</th>\n",
              "      <th>hypertension</th>\n",
              "      <th>heart_disease</th>\n",
              "      <th>ever_married</th>\n",
              "      <th>work_type</th>\n",
              "      <th>Residence_type</th>\n",
              "      <th>avg_glucose_level</th>\n",
              "      <th>bmi</th>\n",
              "      <th>smoking_status</th>\n",
              "      <th>stroke</th>\n",
              "    </tr>\n",
              "  </thead>\n",
              "  <tbody>\n",
              "    <tr>\n",
              "      <th>0</th>\n",
              "      <td>count</td>\n",
              "      <td>43400</td>\n",
              "      <td>43400</td>\n",
              "      <td>43400</td>\n",
              "      <td>43400</td>\n",
              "      <td>43400</td>\n",
              "      <td>43400</td>\n",
              "      <td>43400</td>\n",
              "      <td>43400</td>\n",
              "      <td>43400</td>\n",
              "      <td>43400</td>\n",
              "      <td>43400</td>\n",
              "    </tr>\n",
              "    <tr>\n",
              "      <th>1</th>\n",
              "      <td>mean</td>\n",
              "      <td>None</td>\n",
              "      <td>42.21789400921646</td>\n",
              "      <td>0.09357142857142857</td>\n",
              "      <td>0.04751152073732719</td>\n",
              "      <td>None</td>\n",
              "      <td>None</td>\n",
              "      <td>None</td>\n",
              "      <td>104.48274999999916</td>\n",
              "      <td>28.605038390005145</td>\n",
              "      <td>None</td>\n",
              "      <td>0.01804147465437788</td>\n",
              "    </tr>\n",
              "    <tr>\n",
              "      <th>2</th>\n",
              "      <td>stddev</td>\n",
              "      <td>None</td>\n",
              "      <td>22.519648680503554</td>\n",
              "      <td>0.291234906309397</td>\n",
              "      <td>0.21273274050209726</td>\n",
              "      <td>None</td>\n",
              "      <td>None</td>\n",
              "      <td>None</td>\n",
              "      <td>43.1117509512961</td>\n",
              "      <td>7.638023372051845</td>\n",
              "      <td>None</td>\n",
              "      <td>0.13310292280179215</td>\n",
              "    </tr>\n",
              "    <tr>\n",
              "      <th>3</th>\n",
              "      <td>min</td>\n",
              "      <td>Female</td>\n",
              "      <td>0.08</td>\n",
              "      <td>0</td>\n",
              "      <td>0</td>\n",
              "      <td>No</td>\n",
              "      <td>Govt_job</td>\n",
              "      <td>Rural</td>\n",
              "      <td>55.0</td>\n",
              "      <td>10.1</td>\n",
              "      <td>formerly smoked</td>\n",
              "      <td>0</td>\n",
              "    </tr>\n",
              "    <tr>\n",
              "      <th>4</th>\n",
              "      <td>max</td>\n",
              "      <td>Other</td>\n",
              "      <td>82.0</td>\n",
              "      <td>1</td>\n",
              "      <td>1</td>\n",
              "      <td>Yes</td>\n",
              "      <td>children</td>\n",
              "      <td>Urban</td>\n",
              "      <td>291.05</td>\n",
              "      <td>97.6</td>\n",
              "      <td>smokes</td>\n",
              "      <td>1</td>\n",
              "    </tr>\n",
              "  </tbody>\n",
              "</table>\n",
              "</div>"
            ],
            "text/plain": [
              "  summary  gender  ...   smoking_status               stroke\n",
              "0   count   43400  ...            43400                43400\n",
              "1    mean    None  ...             None  0.01804147465437788\n",
              "2  stddev    None  ...             None  0.13310292280179215\n",
              "3     min  Female  ...  formerly smoked                    0\n",
              "4     max   Other  ...           smokes                    1\n",
              "\n",
              "[5 rows x 12 columns]"
            ]
          },
          "metadata": {},
          "execution_count": 16
        }
      ]
    },
    {
      "cell_type": "markdown",
      "metadata": {
        "id": "7T_-wQsJE_4C"
      },
      "source": [
        "### Histograms\n",
        "First, we create a histogram to view the distribution of each attribute. \n",
        "\n",
        "We can use PySpark for all numerical attributes with the [`histogram()`](https://spark.apache.org/docs/latest/api/python/reference/api/pyspark.RDD.histogram.html) function."
      ]
    },
    {
      "cell_type": "code",
      "metadata": {
        "colab": {
          "base_uri": "https://localhost:8080/",
          "height": 352
        },
        "id": "Oc2gGnCVFhSK",
        "outputId": "f5e46a68-fbb9-4d82-df39-e975bd15581b"
      },
      "source": [
        "import pandas as pd\n",
        "import numpy as np\n",
        "\n",
        "fig, axs = plt.subplots(ncols=3, sharey=False, sharex=False)\n",
        "# print(train_df.agg({'age':\"max\", 'age':'min'}).toPandas())\n",
        "\n",
        "for idx, col in enumerate(['age', 'bmi', 'avg_glucose_level']):#train_df.columns):\n",
        "  # print(train_df.agg({col:\"max\", col:\"min\"}).collect())\n",
        "  mini, maxi = train_df.agg({col:\"min\"}).collect()[0]['min('+col+')'], train_df.agg({col:\"max\"}).collect()[0]['max('+col+')']\n",
        "  buckets = np.arange(start=mini,\n",
        "                      stop=maxi,\n",
        "                      step=1).tolist()\n",
        "  # Doing the heavy lifting in Spark. We could leverage the `histogram` function from the RDD api\n",
        "  bins, count = train_df.select(col).rdd.flatMap(lambda x: x).histogram(buckets)\n",
        "  print(mini, maxi, idx, len(buckets))\n",
        "  # Loading the Computed Histogram into a Pandas Dataframe for plotting\n",
        "  axs[idx].bar(x=bins[:-1], height=count, width=1)\n",
        "  axs[idx].set_title(col)\n",
        "fig.tight_layout()"
      ],
      "execution_count": 18,
      "outputs": [
        {
          "output_type": "stream",
          "name": "stdout",
          "text": [
            "0.08 82.0 0 82\n",
            "10.1 97.6 1 88\n",
            "55.0 291.05 2 237\n"
          ]
        },
        {
          "output_type": "display_data",
          "data": {
            "image/png": "[encoded data removed]",
            "text/plain": [
              "<Figure size 432x288 with 3 Axes>"
            ]
          },
          "metadata": {
            "needs_background": "light"
          }
        }
      ]
    },
    {
      "cell_type": "markdown",
      "metadata": {
        "id": "Y0kBFvm8-K_7"
      },
      "source": [
        "For all categroical features we need to can't use `histogram()`, because the function can only be applied to numerical data. Instead, the counts can be implemented using `spark.sql()`."
      ]
    },
    {
      "cell_type": "code",
      "metadata": {
        "colab": {
          "base_uri": "https://localhost:8080/",
          "height": 729
        },
        "id": "9F_y9xEL-iyv",
        "outputId": "0b839bcc-51fd-454b-a780-c4a8961daabb"
      },
      "source": [
        "import seaborn as sns\n",
        "categories = ['hypertension', 'heart_disease', 'stroke', 'gender','ever_married', 'work_type', 'Residence_type', 'smoking_status']\n",
        "fig, axs = plt.subplots(3,3, figsize=(10,10), sharey='row')\n",
        "\n",
        "for idx, cat in enumerate(categories):\n",
        "   counts = spark.sql(\"SELECT \"+cat+\", COUNT(*) AS n FROM train_tab GROUP BY \"+cat+\";\").toPandas()\n",
        "   sns.barplot(data=counts, x=cat, y=\"n\", ax = axs[idx//3, idx%3])\n",
        "  #  axs[idx//3, idx%3].set_title(cat)\n",
        "   axs[idx//3, idx%3].tick_params(axis='x', labelrotation=45)\n",
        "   axs[idx//3, idx%3].set(xlabel=None, ylabel=None, title=cat)\n",
        "axs[-1,-1].axis('off')\n",
        "fig.tight_layout()"
      ],
      "execution_count": 19,
      "outputs": [
        {
          "output_type": "display_data",
          "data": {
            "image/png": "[encoded data removed]",
            "text/plain": [
              "<Figure size 720x720 with 9 Axes>"
            ]
          },
          "metadata": {
            "needs_background": "light"
          }
        }
      ]
    },
    {
      "cell_type": "markdown",
      "metadata": {
        "id": "o_NQOkb-WA__"
      },
      "source": [
        "Another approach is using pandas and seaborn to create a grid with all histograms at once."
      ]
    },
    {
      "cell_type": "code",
      "metadata": {
        "id": "oKXudxPZkt9L",
        "colab": {
          "base_uri": "https://localhost:8080/"
        },
        "outputId": "3ea5ac8c-c26e-43ab-add2-2308643c6e87"
      },
      "source": [
        "categories = ['hypertension', 'heart_disease', 'stroke']#, 'gender','ever_married', 'work_type', 'Residence_type', 'smoking_status']\n",
        "pandas_df[categories] = pandas_df[categories].apply(lambda col: col.astype(str))\n",
        "pandas_df.dtypes"
      ],
      "execution_count": 20,
      "outputs": [
        {
          "output_type": "execute_result",
          "data": {
            "text/plain": [
              "id                     int32\n",
              "gender                object\n",
              "age                  float64\n",
              "hypertension          object\n",
              "heart_disease         object\n",
              "ever_married          object\n",
              "work_type             object\n",
              "Residence_type        object\n",
              "avg_glucose_level    float64\n",
              "bmi                  float64\n",
              "smoking_status        object\n",
              "stroke                object\n",
              "dtype: object"
            ]
          },
          "metadata": {},
          "execution_count": 20
        }
      ]
    },
    {
      "cell_type": "code",
      "metadata": {
        "id": "zrdmSZQed0X8",
        "colab": {
          "base_uri": "https://localhost:8080/",
          "height": 657
        },
        "outputId": "83f14ab1-c9d7-4e86-b46e-bd6265919c39"
      },
      "source": [
        "hists = sns.FacetGrid(pandas_df.melt(id_vars='id', var_name='column'), \n",
        "                      col='column', col_wrap=4, sharex=False, sharey=False)\n",
        "hists.map(sns.histplot, 'value')\n",
        "hists.set_titles(col_template=\"{col_name}\")\n",
        "hists.set_xticklabels(rotation=45)\n",
        "hists.set(xlabel=None)\n",
        "hists.tight_layout()"
      ],
      "execution_count": 21,
      "outputs": [
        {
          "output_type": "display_data",
          "data": {
            "image/png": "[encoded data removed]",
            "text/plain": [
              "<Figure size 864x648 with 11 Axes>"
            ]
          },
          "metadata": {
            "needs_background": "light"
          }
        }
      ]
    },
    {
      "cell_type": "markdown",
      "metadata": {
        "id": "aaQa35oscP6Q"
      },
      "source": [
        "### Boxplots\n",
        "Visualization for numerical data: Boxplots"
      ]
    },
    {
      "cell_type": "code",
      "metadata": {
        "id": "1dI7IQsfcTeF",
        "colab": {
          "base_uri": "https://localhost:8080/",
          "height": 282
        },
        "outputId": "ddb9dde2-288d-4f5d-90da-0725060e832d"
      },
      "source": [
        "train_df_numeric = train_df.select(['age', 'avg_glucose_level', 'bmi'])\n",
        "boxes = sns.FacetGrid(data=train_df_numeric.toPandas().melt(var_name='column'),\n",
        "                      col='column', sharex=False)\n",
        "boxes.map(sns.boxplot, 'value')\n",
        "boxes.set_titles(col_template=\"{col_name}\")\n",
        "boxes.tight_layout()"
      ],
      "execution_count": 22,
      "outputs": [
        {
          "output_type": "stream",
          "name": "stderr",
          "text": [
            "/usr/local/lib/python3.7/dist-packages/seaborn/axisgrid.py:670: UserWarning: Using the boxplot function without specifying `order` is likely to produce an incorrect plot.\n",
            "  warnings.warn(warning)\n"
          ]
        },
        {
          "output_type": "display_data",
          "data": {
            "image/png": "[encoded data removed]",
            "text/plain": [
              "<Figure size 648x216 with 3 Axes>"
            ]
          },
          "metadata": {
            "needs_background": "light"
          }
        }
      ]
    },
    {
      "cell_type": "markdown",
      "metadata": {
        "id": "qZgvZmDTrXFN"
      },
      "source": [
        "### Correlation between all numerical attributes"
      ]
    },
    {
      "cell_type": "code",
      "metadata": {
        "id": "TRj0WRbSrjrr"
      },
      "source": [
        "from pyspark.ml.stat import Correlation\n",
        "from pyspark.ml.feature import VectorAssembler\n",
        "\n",
        "# convert to vector column first\n",
        "vector_col = \"corr_features\"\n",
        "assembler = VectorAssembler(inputCols=train_df_numeric.columns, outputCol=vector_col)\n",
        "df_vector = assembler.transform(train_df_numeric).select(vector_col)\n",
        "\n",
        "# get correlation matrix\n",
        "corr_matrix = Correlation.corr(df_vector, vector_col, method='pearson').collect()[0][0].values"
      ],
      "execution_count": 23,
      "outputs": []
    },
    {
      "cell_type": "code",
      "metadata": {
        "colab": {
          "base_uri": "https://localhost:8080/",
          "height": 300
        },
        "id": "dOYk44vJ3vHg",
        "outputId": "cae07797-5faf-43e9-89d5-4cdf09bd0bd7"
      },
      "source": [
        "corr_matrix.shape = (3,3)\n",
        "corr_matrix = np.tril(corr_matrix)\n",
        "sns.heatmap(corr_matrix, annot=True, \n",
        "            xticklabels=['age', 'avg_glucose_level', 'bmi'], yticklabels=['age', 'avg_glucose_level', 'bmi'],\n",
        "            mask=(corr_matrix==0),\n",
        "            linewidths=0.5)\n",
        "plt.yticks(rotation=0)\n",
        "plt.title(\"Correlation of numeric Attributes\")"
      ],
      "execution_count": 24,
      "outputs": [
        {
          "output_type": "execute_result",
          "data": {
            "text/plain": [
              "Text(0.5, 1.0, 'Correlation of numeric Attributes')"
            ]
          },
          "metadata": {},
          "execution_count": 24
        },
        {
          "output_type": "display_data",
          "data": {
            "image/png": "[encoded data removed]",
            "text/plain": [
              "<Figure size 432x288 with 2 Axes>"
            ]
          },
          "metadata": {
            "needs_background": "light"
          }
        }
      ]
    },
    {
      "cell_type": "markdown",
      "metadata": {
        "id": "Pv_FbGJUdalt"
      },
      "source": [
        "### Testing Data\n",
        "Now let's analyse the testing data."
      ]
    },
    {
      "cell_type": "code",
      "metadata": {
        "id": "QBwd2JczaObU",
        "colab": {
          "base_uri": "https://localhost:8080/",
          "height": 226
        },
        "outputId": "897120b7-02aa-4837-b00c-7026d0fba564"
      },
      "source": [
        "test_df.describe().toPandas()"
      ],
      "execution_count": 25,
      "outputs": [
        {
          "output_type": "execute_result",
          "data": {
            "text/html": [
              "<div>\n",
              "<style scoped>\n",
              "    .dataframe tbody tr th:only-of-type {\n",
              "        vertical-align: middle;\n",
              "    }\n",
              "\n",
              "    .dataframe tbody tr th {\n",
              "        vertical-align: top;\n",
              "    }\n",
              "\n",
              "    .dataframe thead th {\n",
              "        text-align: right;\n",
              "    }\n",
              "</style>\n",
              "<table border=\"1\" class=\"dataframe\">\n",
              "  <thead>\n",
              "    <tr style=\"text-align: right;\">\n",
              "      <th></th>\n",
              "      <th>summary</th>\n",
              "      <th>id</th>\n",
              "      <th>gender</th>\n",
              "      <th>age</th>\n",
              "      <th>hypertension</th>\n",
              "      <th>heart_disease</th>\n",
              "      <th>ever_married</th>\n",
              "      <th>work_type</th>\n",
              "      <th>Residence_type</th>\n",
              "      <th>avg_glucose_level</th>\n",
              "      <th>bmi</th>\n",
              "      <th>smoking_status</th>\n",
              "    </tr>\n",
              "  </thead>\n",
              "  <tbody>\n",
              "    <tr>\n",
              "      <th>0</th>\n",
              "      <td>count</td>\n",
              "      <td>18601</td>\n",
              "      <td>18601</td>\n",
              "      <td>18601</td>\n",
              "      <td>18601</td>\n",
              "      <td>18601</td>\n",
              "      <td>18601</td>\n",
              "      <td>18601</td>\n",
              "      <td>18601</td>\n",
              "      <td>18601</td>\n",
              "      <td>18010</td>\n",
              "      <td>12850</td>\n",
              "    </tr>\n",
              "    <tr>\n",
              "      <th>1</th>\n",
              "      <td>mean</td>\n",
              "      <td>36747.36804472878</td>\n",
              "      <td>None</td>\n",
              "      <td>42.056504489006024</td>\n",
              "      <td>0.09316703403042847</td>\n",
              "      <td>0.048061932154185256</td>\n",
              "      <td>None</td>\n",
              "      <td>None</td>\n",
              "      <td>None</td>\n",
              "      <td>104.3863593355191</td>\n",
              "      <td>28.545324819544625</td>\n",
              "      <td>None</td>\n",
              "    </tr>\n",
              "    <tr>\n",
              "      <th>2</th>\n",
              "      <td>stddev</td>\n",
              "      <td>21053.151123778684</td>\n",
              "      <td>None</td>\n",
              "      <td>22.528017622414048</td>\n",
              "      <td>0.29067418204733125</td>\n",
              "      <td>0.21390288127048365</td>\n",
              "      <td>None</td>\n",
              "      <td>None</td>\n",
              "      <td>None</td>\n",
              "      <td>42.606714400087824</td>\n",
              "      <td>7.757091805747331</td>\n",
              "      <td>None</td>\n",
              "    </tr>\n",
              "    <tr>\n",
              "      <th>3</th>\n",
              "      <td>min</td>\n",
              "      <td>2</td>\n",
              "      <td>Female</td>\n",
              "      <td>0.08</td>\n",
              "      <td>0</td>\n",
              "      <td>0</td>\n",
              "      <td>No</td>\n",
              "      <td>Govt_job</td>\n",
              "      <td>Rural</td>\n",
              "      <td>55.0</td>\n",
              "      <td>10.2</td>\n",
              "      <td>formerly smoked</td>\n",
              "    </tr>\n",
              "    <tr>\n",
              "      <th>4</th>\n",
              "      <td>max</td>\n",
              "      <td>72942</td>\n",
              "      <td>Other</td>\n",
              "      <td>82.0</td>\n",
              "      <td>1</td>\n",
              "      <td>1</td>\n",
              "      <td>Yes</td>\n",
              "      <td>children</td>\n",
              "      <td>Urban</td>\n",
              "      <td>275.72</td>\n",
              "      <td>88.3</td>\n",
              "      <td>smokes</td>\n",
              "    </tr>\n",
              "  </tbody>\n",
              "</table>\n",
              "</div>"
            ],
            "text/plain": [
              "  summary                  id  ...                 bmi   smoking_status\n",
              "0   count               18601  ...               18010            12850\n",
              "1    mean   36747.36804472878  ...  28.545324819544625             None\n",
              "2  stddev  21053.151123778684  ...   7.757091805747331             None\n",
              "3     min                   2  ...                10.2  formerly smoked\n",
              "4     max               72942  ...                88.3           smokes\n",
              "\n",
              "[5 rows x 12 columns]"
            ]
          },
          "metadata": {},
          "execution_count": 25
        }
      ]
    },
    {
      "cell_type": "markdown",
      "metadata": {
        "id": "edfXgjNHnLJa"
      },
      "source": [
        "## Subsampling\n",
        "Create a balanced data set and an unbalanced data set"
      ]
    },
    {
      "cell_type": "code",
      "metadata": {
        "id": "WnJwTWrjoID4"
      },
      "source": [
        "unbalanced_train = train_df"
      ],
      "execution_count": 26,
      "outputs": []
    },
    {
      "cell_type": "code",
      "metadata": {
        "id": "ia9mrAeWoOFs",
        "colab": {
          "base_uri": "https://localhost:8080/",
          "height": 112
        },
        "outputId": "138f8bd8-ab64-46c2-86f5-1f5e8e142d17"
      },
      "source": [
        "unbalanced_train.groupBy('stroke').count().toPandas()"
      ],
      "execution_count": 27,
      "outputs": [
        {
          "output_type": "execute_result",
          "data": {
            "text/html": [
              "<div>\n",
              "<style scoped>\n",
              "    .dataframe tbody tr th:only-of-type {\n",
              "        vertical-align: middle;\n",
              "    }\n",
              "\n",
              "    .dataframe tbody tr th {\n",
              "        vertical-align: top;\n",
              "    }\n",
              "\n",
              "    .dataframe thead th {\n",
              "        text-align: right;\n",
              "    }\n",
              "</style>\n",
              "<table border=\"1\" class=\"dataframe\">\n",
              "  <thead>\n",
              "    <tr style=\"text-align: right;\">\n",
              "      <th></th>\n",
              "      <th>stroke</th>\n",
              "      <th>count</th>\n",
              "    </tr>\n",
              "  </thead>\n",
              "  <tbody>\n",
              "    <tr>\n",
              "      <th>0</th>\n",
              "      <td>1</td>\n",
              "      <td>783</td>\n",
              "    </tr>\n",
              "    <tr>\n",
              "      <th>1</th>\n",
              "      <td>0</td>\n",
              "      <td>42617</td>\n",
              "    </tr>\n",
              "  </tbody>\n",
              "</table>\n",
              "</div>"
            ],
            "text/plain": [
              "   stroke  count\n",
              "0       1    783\n",
              "1       0  42617"
            ]
          },
          "metadata": {},
          "execution_count": 27
        }
      ]
    },
    {
      "cell_type": "code",
      "metadata": {
        "id": "UjFPHZ8fsGlr",
        "colab": {
          "base_uri": "https://localhost:8080/"
        },
        "outputId": "8b4a9418-e85a-4883-cdbc-c6ee1a8f5ba4"
      },
      "source": [
        "stroke_count = unbalanced_train.groupBy('stroke').count().first()['count']\n",
        "not_stroke_count = unbalanced_train.groupBy('stroke').count().tail(1)[0]['count']\n",
        "ratio = int(not_stroke_count/stroke_count)\n",
        "print(\"Percentage of strokes in complete data set\", stroke_count/n_train * 100,\n",
        "      \"\\nPercentage of not strokes in complete data set\", not_stroke_count/n_train * 100,\n",
        "      \"\\nRatio (not_stroke/stroke):\", ratio)"
      ],
      "execution_count": 28,
      "outputs": [
        {
          "output_type": "stream",
          "name": "stdout",
          "text": [
            "Percentage of strokes in complete data set 1.804147465437788 \n",
            "Percentage of not strokes in complete data set 98.1958525345622 \n",
            "Ratio (not_stroke/stroke): 54\n"
          ]
        }
      ]
    },
    {
      "cell_type": "markdown",
      "metadata": {
        "id": "sqJT7-0dpzsO"
      },
      "source": [
        "### Undersampling\n",
        "Ca. 1.8% (783) samples of the original dataset are strokes. "
      ]
    },
    {
      "cell_type": "code",
      "metadata": {
        "id": "LmLFyx6voKVG",
        "colab": {
          "base_uri": "https://localhost:8080/",
          "height": 112
        },
        "outputId": "eb4a434f-eb4e-49ad-fac4-81a16d23a3f5"
      },
      "source": [
        "undersampled_train = train_df.sampleBy('stroke', fractions={0:(stroke_count)/(n_train-stroke_count), 1: 1}, seed=42)\n",
        "undersampled_train.groupBy('stroke').count().toPandas()"
      ],
      "execution_count": 29,
      "outputs": [
        {
          "output_type": "execute_result",
          "data": {
            "text/html": [
              "<div>\n",
              "<style scoped>\n",
              "    .dataframe tbody tr th:only-of-type {\n",
              "        vertical-align: middle;\n",
              "    }\n",
              "\n",
              "    .dataframe tbody tr th {\n",
              "        vertical-align: top;\n",
              "    }\n",
              "\n",
              "    .dataframe thead th {\n",
              "        text-align: right;\n",
              "    }\n",
              "</style>\n",
              "<table border=\"1\" class=\"dataframe\">\n",
              "  <thead>\n",
              "    <tr style=\"text-align: right;\">\n",
              "      <th></th>\n",
              "      <th>stroke</th>\n",
              "      <th>count</th>\n",
              "    </tr>\n",
              "  </thead>\n",
              "  <tbody>\n",
              "    <tr>\n",
              "      <th>0</th>\n",
              "      <td>1</td>\n",
              "      <td>783</td>\n",
              "    </tr>\n",
              "    <tr>\n",
              "      <th>1</th>\n",
              "      <td>0</td>\n",
              "      <td>824</td>\n",
              "    </tr>\n",
              "  </tbody>\n",
              "</table>\n",
              "</div>"
            ],
            "text/plain": [
              "   stroke  count\n",
              "0       1    783\n",
              "1       0    824"
            ]
          },
          "metadata": {},
          "execution_count": 29
        }
      ]
    },
    {
      "cell_type": "markdown",
      "metadata": {
        "id": "VTsz3Ypyp3UG"
      },
      "source": [
        "### Oversampling\n",
        "\n",
        "Help from [medium](https://medium.com/@junwan01/oversampling-and-undersampling-with-pyspark-5dbc25cdf253)"
      ]
    },
    {
      "cell_type": "code",
      "metadata": {
        "id": "bRDUQXUBr-bP",
        "colab": {
          "base_uri": "https://localhost:8080/",
          "height": 112
        },
        "outputId": "030ae36f-4b89-4c48-c89e-4c17e38152fc"
      },
      "source": [
        "from pyspark.sql.functions import col, explode, array, lit\n",
        "a = range(ratio)\n",
        "# duplicate the minority rows\n",
        "oversampled_train = train_df.filter('stroke == 1').withColumn(\"dummy\", explode(array([lit(x) for x in a]))).drop('dummy')\n",
        "# oversampled_df.show()\n",
        "# combine both oversampled minority rows and previous majority rows \n",
        "oversampled_train = train_df.filter('stroke == 0').union(oversampled_train)\n",
        "\n",
        "# train_df.sampleBy('stroke', fractions={0: 0.9, 1:200 }, seed=42)\n",
        "oversampled_train.groupBy('stroke').count().toPandas()"
      ],
      "execution_count": 30,
      "outputs": [
        {
          "output_type": "execute_result",
          "data": {
            "text/html": [
              "<div>\n",
              "<style scoped>\n",
              "    .dataframe tbody tr th:only-of-type {\n",
              "        vertical-align: middle;\n",
              "    }\n",
              "\n",
              "    .dataframe tbody tr th {\n",
              "        vertical-align: top;\n",
              "    }\n",
              "\n",
              "    .dataframe thead th {\n",
              "        text-align: right;\n",
              "    }\n",
              "</style>\n",
              "<table border=\"1\" class=\"dataframe\">\n",
              "  <thead>\n",
              "    <tr style=\"text-align: right;\">\n",
              "      <th></th>\n",
              "      <th>stroke</th>\n",
              "      <th>count</th>\n",
              "    </tr>\n",
              "  </thead>\n",
              "  <tbody>\n",
              "    <tr>\n",
              "      <th>0</th>\n",
              "      <td>1</td>\n",
              "      <td>42282</td>\n",
              "    </tr>\n",
              "    <tr>\n",
              "      <th>1</th>\n",
              "      <td>0</td>\n",
              "      <td>42617</td>\n",
              "    </tr>\n",
              "  </tbody>\n",
              "</table>\n",
              "</div>"
            ],
            "text/plain": [
              "   stroke  count\n",
              "0       1  42282\n",
              "1       0  42617"
            ]
          },
          "metadata": {},
          "execution_count": 30
        }
      ]
    },
    {
      "cell_type": "markdown",
      "metadata": {
        "id": "qa8v7M4MOYwW"
      },
      "source": [
        "## Creating a pipeline for the models \n",
        "Define categorical Data (use code from [here](https://www.kaggle.com/njalan/healthcare-dataset-stroke-data-pyspark))\n",
        "and a pipeline to use for the models"
      ]
    },
    {
      "cell_type": "code",
      "metadata": {
        "id": "F41J7aq4OdkL"
      },
      "source": [
        "# indexing all categorical columns in the dataset\n",
        "from pyspark.ml.feature import StringIndexer\n",
        "indexer1 = StringIndexer(inputCol=\"gender\", outputCol=\"genderIndex\")\n",
        "indexer2 = StringIndexer(inputCol=\"ever_married\", outputCol=\"ever_marriedIndex\")\n",
        "indexer3 = StringIndexer(inputCol=\"work_type\", outputCol=\"work_typeIndex\")\n",
        "indexer4 = StringIndexer(inputCol=\"Residence_type\", outputCol=\"Residence_typeIndex\")\n",
        "indexer5 = StringIndexer(inputCol=\"smoking_status\", outputCol=\"smoking_statusIndex\")"
      ],
      "execution_count": 31,
      "outputs": []
    },
    {
      "cell_type": "code",
      "metadata": {
        "id": "7cCg6Pu2Vi05"
      },
      "source": [
        "from pyspark.ml.feature import OneHotEncoder\n",
        "encoder = OneHotEncoder(inputCols=[\"genderIndex\",\"ever_marriedIndex\",\"work_typeIndex\",\"Residence_typeIndex\",\"smoking_statusIndex\"],\n",
        "                        outputCols=[\"genderVec\",\"ever_marriedVec\",\"work_typeVec\",\"Residence_typeVec\",\"smoking_statusVec\"])"
      ],
      "execution_count": 32,
      "outputs": []
    },
    {
      "cell_type": "markdown",
      "metadata": {
        "id": "q-_0orCPYh0T"
      },
      "source": [
        "Use this pipeline to later apply the models!"
      ]
    },
    {
      "cell_type": "code",
      "metadata": {
        "id": "xVv8B-GGYJJo"
      },
      "source": [
        "from pyspark.ml import Pipeline\n",
        "pipeline = Pipeline(stages=[indexer1, indexer2, indexer3, indexer4, indexer5])\n",
        "indexed = pipeline.fit(train_df).transform(train_df)"
      ],
      "execution_count": 33,
      "outputs": []
    },
    {
      "cell_type": "markdown",
      "metadata": {
        "id": "tc5iQ-laToYM"
      },
      "source": [
        "# **Predictor 1 : Decision tree classifier** "
      ]
    },
    {
      "cell_type": "code",
      "metadata": {
        "id": "5X_-rcDMFiqe"
      },
      "source": [
        "from pyspark.ml.feature import VectorAssembler\n",
        "assembler = VectorAssembler(inputCols=['genderVec',\n",
        " 'age',\n",
        " 'hypertension',\n",
        " 'heart_disease',\n",
        " 'ever_marriedVec',\n",
        " 'work_typeVec',\n",
        " 'Residence_typeVec',\n",
        " 'avg_glucose_level',\n",
        " 'bmi',\n",
        " 'smoking_statusVec'],outputCol='features')"
      ],
      "execution_count": 34,
      "outputs": []
    },
    {
      "cell_type": "code",
      "metadata": {
        "id": "WSxhbW8_Fi4a"
      },
      "source": [
        "from pyspark.ml.classification import DecisionTreeClassifier\n",
        "dtc = DecisionTreeClassifier(labelCol='stroke',featuresCol='features')"
      ],
      "execution_count": 35,
      "outputs": []
    },
    {
      "cell_type": "code",
      "metadata": {
        "id": "1HYquylCFi87"
      },
      "source": [
        "pipeline = Pipeline(stages=[indexer1, indexer2, indexer3, indexer4, indexer5, encoder, assembler, dtc])"
      ],
      "execution_count": 36,
      "outputs": []
    },
    {
      "cell_type": "code",
      "metadata": {
        "id": "YItqUYs0FjBe"
      },
      "source": [
        "model1= pipeline.fit(unbalanced_train)\n",
        "model2= pipeline.fit(undersampled_train)\n",
        "model3= pipeline.fit(oversampled_train)"
      ],
      "execution_count": 37,
      "outputs": []
    },
    {
      "cell_type": "markdown",
      "metadata": {
        "id": "uXQQ12wtF18r"
      },
      "source": [
        "Making predictions with the model"
      ]
    },
    {
      "cell_type": "code",
      "metadata": {
        "id": "N2zqvLrnGEwp"
      },
      "source": [
        "dtc_predictions1 = model1.transform(unbalanced_train)\n",
        "dtc_predictions2 = model2.transform(undersampled_train)\n",
        "dtc_predictions3 = model3.transform(oversampled_train)"
      ],
      "execution_count": 38,
      "outputs": []
    },
    {
      "cell_type": "code",
      "metadata": {
        "colab": {
          "base_uri": "https://localhost:8080/"
        },
        "id": "ckHKvUsOGQt-",
        "outputId": "ea16384e-b645-4391-e987-17d4d2e8a8f5"
      },
      "source": [
        "dtc_predictions1.select(\"prediction\",\"probability\", \"stroke\", \"features\").show(5)\n",
        "dtc_predictions2.select(\"prediction\",\"probability\", \"stroke\", \"features\").show(5)\n",
        "dtc_predictions3.select(\"prediction\",\"probability\", \"stroke\", \"features\").show(5)"
      ],
      "execution_count": 39,
      "outputs": [
        {
          "output_type": "stream",
          "name": "stdout",
          "text": [
            "+----------+--------------------+------+--------------------+\n",
            "|prediction|         probability|stroke|            features|\n",
            "+----------+--------------------+------+--------------------+\n",
            "|       0.0|[0.99201255956151...|     0|(15,[1,2,8,11,12,...|\n",
            "|       0.0|[0.99201255956151...|     0|[0.0,1.0,58.0,1.0...|\n",
            "|       0.0|[0.99201255956151...|     0|(15,[0,2,6,10,11,...|\n",
            "|       0.0|[0.93911126187245...|     0|(15,[0,2,5,6,11,1...|\n",
            "|       0.0|[0.99201255956151...|     0|(15,[1,2,11,12,13...|\n",
            "+----------+--------------------+------+--------------------+\n",
            "only showing top 5 rows\n",
            "\n",
            "+----------+--------------------+------+--------------------+\n",
            "|prediction|         probability|stroke|            features|\n",
            "+----------+--------------------+------+--------------------+\n",
            "|       0.0|[0.97398843930635...|     0|(14,[0,1,5,9,10,1...|\n",
            "|       1.0|[0.12068965517241...|     1|(14,[1,3,4,5,9,10...|\n",
            "|       1.0|[0.24691358024691...|     1|(14,[0,1,4,6,10,1...|\n",
            "|       0.0|[0.97398843930635...|     0|(14,[0,1,5,10,11,...|\n",
            "|       0.0|[0.75675675675675...|     0|(14,[1,4,5,9,10,1...|\n",
            "+----------+--------------------+------+--------------------+\n",
            "only showing top 5 rows\n",
            "\n",
            "+----------+--------------------+------+--------------------+\n",
            "|prediction|         probability|stroke|            features|\n",
            "+----------+--------------------+------+--------------------+\n",
            "|       0.0|[0.98272110584922...|     0|(15,[1,2,9,11,12,...|\n",
            "|       0.0|[0.60143144710355...|     0|[0.0,1.0,58.0,1.0...|\n",
            "|       0.0|[0.98272110584922...|     0|(15,[0,2,6,10,11,...|\n",
            "|       1.0|[0.30782676247815...|     0|(15,[0,2,5,6,11,1...|\n",
            "|       0.0|[0.98272110584922...|     0|(15,[1,2,11,12,13...|\n",
            "+----------+--------------------+------+--------------------+\n",
            "only showing top 5 rows\n",
            "\n"
          ]
        }
      ]
    },
    {
      "cell_type": "code",
      "metadata": {
        "id": "qqJKiVYZGXLR"
      },
      "source": [
        "from pyspark.ml.evaluation import MulticlassClassificationEvaluator"
      ],
      "execution_count": 40,
      "outputs": []
    },
    {
      "cell_type": "code",
      "metadata": {
        "id": "j8PFl-9TGXW7"
      },
      "source": [
        "acc_evaluator = MulticlassClassificationEvaluator(labelCol=\"stroke\", predictionCol=\"prediction\", metricName=\"accuracy\")"
      ],
      "execution_count": 41,
      "outputs": []
    },
    {
      "cell_type": "code",
      "metadata": {
        "id": "vn9CqtYLGXhi"
      },
      "source": [
        "dtc_acc1 = acc_evaluator.evaluate(dtc_predictions1)\n",
        "dtc_acc2 = acc_evaluator.evaluate(dtc_predictions2)\n",
        "dtc_acc3 = acc_evaluator.evaluate(dtc_predictions3)"
      ],
      "execution_count": 42,
      "outputs": []
    },
    {
      "cell_type": "code",
      "metadata": {
        "colab": {
          "base_uri": "https://localhost:8080/"
        },
        "id": "BPXN9MZsGeZz",
        "outputId": "34d1a3ad-9cb5-409b-ac80-3016f92e6ea6"
      },
      "source": [
        "print('A Decision Tree algorithm had an accuracy of: {0:2.2f}%'.format(dtc_acc1*100))\n",
        "print('A Decision Tree algorithm had an accuracy of: {0:2.2f}%'.format(dtc_acc2*100))\n",
        "print('A Decision Tree algorithm had an accuracy of: {0:2.2f}%'.format(dtc_acc3*100))"
      ],
      "execution_count": 43,
      "outputs": [
        {
          "output_type": "stream",
          "name": "stdout",
          "text": [
            "A Decision Tree algorithm had an accuracy of: 98.20%\n",
            "A Decision Tree algorithm had an accuracy of: 79.53%\n",
            "A Decision Tree algorithm had an accuracy of: 78.93%\n"
          ]
        }
      ]
    },
    {
      "cell_type": "markdown",
      "metadata": {
        "id": "7P9gjb-2Uh8l"
      },
      "source": [
        "# **Predictor 2  Logistic Regression**"
      ]
    },
    {
      "cell_type": "markdown",
      "metadata": {
        "id": "EIGkg3nPreJ4"
      },
      "source": [
        "Importing packages to run our model"
      ]
    },
    {
      "cell_type": "code",
      "metadata": {
        "id": "c8-yN_xSqUoC"
      },
      "source": [
        "from pyspark.ml import Pipeline\n",
        "# from pyspark.ml.regression import LinearRegression\n",
        "from pyspark.ml.classification import LogisticRegression\n",
        "from pyspark.ml.feature import VectorIndexer\n",
        "from pyspark.ml.evaluation import RegressionEvaluator"
      ],
      "execution_count": 44,
      "outputs": []
    },
    {
      "cell_type": "markdown",
      "metadata": {
        "id": "HgqEOqmfr03z"
      },
      "source": [
        "Define LinearRegression algorithm"
      ]
    },
    {
      "cell_type": "code",
      "metadata": {
        "id": "J-9QIgr9qU5G"
      },
      "source": [
        "lr = LogisticRegression(labelCol='stroke',featuresCol='features')"
      ],
      "execution_count": 45,
      "outputs": []
    },
    {
      "cell_type": "code",
      "metadata": {
        "id": "a71iq5OMI8nJ"
      },
      "source": [
        "pipeline = Pipeline(stages=[indexer1, indexer2, indexer3, indexer4, indexer5, encoder, assembler, lr])"
      ],
      "execution_count": 46,
      "outputs": []
    },
    {
      "cell_type": "markdown",
      "metadata": {
        "id": "_aULsFmTr_it"
      },
      "source": [
        "Fitting the model "
      ]
    },
    {
      "cell_type": "code",
      "metadata": {
        "id": "iSA9S_tiqU8z"
      },
      "source": [
        "model4 = pipeline.fit(unbalanced_train)\n",
        "model5 = pipeline.fit(undersampled_train)\n",
        "model6 = pipeline.fit(oversampled_train)"
      ],
      "execution_count": 47,
      "outputs": []
    },
    {
      "cell_type": "markdown",
      "metadata": {
        "id": "Wh-yKH5LsEQs"
      },
      "source": [
        "Making the predictions"
      ]
    },
    {
      "cell_type": "code",
      "metadata": {
        "id": "DtQIl0RlqU_8"
      },
      "source": [
        "predictions4 = model4.transform(unbalanced_train)\n",
        "predictions5 = model5.transform(undersampled_train)\n",
        "predictions6 = model6.transform(oversampled_train)"
      ],
      "execution_count": 48,
      "outputs": []
    },
    {
      "cell_type": "markdown",
      "metadata": {
        "id": "CCdTtlTvsOlm"
      },
      "source": [
        "Example row to display"
      ]
    },
    {
      "cell_type": "code",
      "metadata": {
        "colab": {
          "base_uri": "https://localhost:8080/"
        },
        "id": "MvWzcBzxqVDx",
        "outputId": "4fc5bfdc-45a0-461d-a9dc-4c44ec7e7381"
      },
      "source": [
        "predictions4.select(\"prediction\", \"probability\", \"stroke\", \"features\").show(5)\n",
        "predictions5.select(\"prediction\", \"probability\", \"stroke\", \"features\").show(5)\n",
        "predictions6.select(\"prediction\", \"probability\", \"stroke\", \"features\").show(5)"
      ],
      "execution_count": 49,
      "outputs": [
        {
          "output_type": "stream",
          "name": "stdout",
          "text": [
            "+----------+--------------------+------+--------------------+\n",
            "|prediction|         probability|stroke|            features|\n",
            "+----------+--------------------+------+--------------------+\n",
            "|       0.0|[0.99977189129433...|     0|(15,[1,2,8,11,12,...|\n",
            "|       0.0|[0.98049371372286...|     0|[0.0,1.0,58.0,1.0...|\n",
            "|       0.0|[0.99943453784875...|     0|(15,[0,2,6,10,11,...|\n",
            "|       0.0|[0.97054944361764...|     0|(15,[0,2,5,6,11,1...|\n",
            "|       0.0|[0.99999395767818...|     0|(15,[1,2,11,12,13...|\n",
            "+----------+--------------------+------+--------------------+\n",
            "only showing top 5 rows\n",
            "\n",
            "+----------+--------------------+------+--------------------+\n",
            "|prediction|         probability|stroke|            features|\n",
            "+----------+--------------------+------+--------------------+\n",
            "|       0.0|[0.95150779333612...|     0|(14,[0,1,5,9,10,1...|\n",
            "|       1.0|[0.18882439337650...|     1|(14,[1,3,4,5,9,10...|\n",
            "|       1.0|[0.41203534344333...|     1|(14,[0,1,4,6,10,1...|\n",
            "|       0.0|[0.95948845517566...|     0|(14,[0,1,5,10,11,...|\n",
            "|       0.0|[0.76293004857244...|     0|(14,[1,4,5,9,10,1...|\n",
            "+----------+--------------------+------+--------------------+\n",
            "only showing top 5 rows\n",
            "\n",
            "+----------+--------------------+------+--------------------+\n",
            "|prediction|         probability|stroke|            features|\n",
            "+----------+--------------------+------+--------------------+\n",
            "|       0.0|[0.98749236006028...|     0|(15,[1,2,9,11,12,...|\n",
            "|       1.0|[0.45435736017559...|     0|[0.0,1.0,58.0,1.0...|\n",
            "|       0.0|[0.97980818326738...|     0|(15,[0,2,6,10,11,...|\n",
            "|       1.0|[0.37596718937265...|     0|(15,[0,2,5,6,11,1...|\n",
            "|       0.0|[0.99999449098723...|     0|(15,[1,2,11,12,13...|\n",
            "+----------+--------------------+------+--------------------+\n",
            "only showing top 5 rows\n",
            "\n"
          ]
        }
      ]
    },
    {
      "cell_type": "markdown",
      "metadata": {
        "id": "QPgOB4D7sV2I"
      },
      "source": [
        "# Evaluation of both models"
      ]
    },
    {
      "cell_type": "code",
      "metadata": {
        "id": "CP_9rUYjqVI2"
      },
      "source": [
        "from pyspark.ml.evaluation import RegressionEvaluator\n",
        "evaluator = RegressionEvaluator(labelCol =\"stroke\",\n",
        "                                predictionCol=\"prediction\",\n",
        "                                metricName=\"rmse\")"
      ],
      "execution_count": 50,
      "outputs": []
    },
    {
      "cell_type": "code",
      "metadata": {
        "id": "h8QbDwxCFpGB"
      },
      "source": [
        "from pyspark.mllib.evaluation import MulticlassMetrics"
      ],
      "execution_count": 51,
      "outputs": []
    },
    {
      "cell_type": "code",
      "metadata": {
        "id": "LIDK-DMMqV70"
      },
      "source": [
        "lr_acc1 = MulticlassMetrics(predictions4.select('prediction', col('stroke').alias('label').cast(\"double\")).rdd)\n",
        "lr_acc2 = MulticlassMetrics(predictions5.select('prediction', col('stroke').alias('label').cast(\"double\")).rdd)\n",
        "lr_acc3 = MulticlassMetrics(predictions6.select('prediction', col('stroke').alias('label').cast(\"double\")).rdd)"
      ],
      "execution_count": 52,
      "outputs": []
    },
    {
      "cell_type": "code",
      "metadata": {
        "colab": {
          "base_uri": "https://localhost:8080/"
        },
        "id": "6PxsS803G3SW",
        "outputId": "f3cb6698-4ffa-4185-a2dc-5f604fc9925d"
      },
      "source": [
        "print('A logistic regression algorithm had an accuracy of: {0:2.2%}'.format(lr_acc1.accuracy))\n",
        "print('A logistic regression algorithm had an accuracy of: {0:2.2%}'.format(lr_acc2.accuracy))\n",
        "print('A logistic regression algorithm had an accuracy of: {0:2.2%}'.format(lr_acc3.accuracy))"
      ],
      "execution_count": 53,
      "outputs": [
        {
          "output_type": "stream",
          "name": "stdout",
          "text": [
            "A logistic regression algorithm had an accuracy of: 98.20%\n",
            "A logistic regression algorithm had an accuracy of: 77.16%\n",
            "A logistic regression algorithm had an accuracy of: 78.08%\n"
          ]
        }
      ]
    },
    {
      "cell_type": "markdown",
      "metadata": {
        "id": "uB8M4zNrO9e-"
      },
      "source": [
        "Create Latex-Table for Accuracy, F-Measure, Precision, Recall"
      ]
    },
    {
      "cell_type": "code",
      "metadata": {
        "colab": {
          "base_uri": "https://localhost:8080/",
          "height": 645
        },
        "id": "ijYT8S9vO35v",
        "outputId": "27b9018f-b654-4225-bff0-453e35dd7bab"
      },
      "source": [
        "fig,axs = plt.subplots(nrows=2,ncols=3, figsize=(9,6))\n",
        "cbar_ax = fig.add_axes([.91, .3, .03, .4])\n",
        "\n",
        "conf_matr_list = []\n",
        "\n",
        "print(\"Model&{ds} & {acc} & {fm} & {pr} & {re}\\\\\\\\\".format(ds=\"Dataset\", acc=\"Accuracy\", fm=\"F-Measure\", pr=\"Precision\", re=\"Recall\"))\n",
        "model=\"Logistic Regression\"\n",
        "for idx, (data_set, prediction) in enumerate([('unbalanced', predictions4), ('undersampled', predictions5), ('oversampled', predictions6),\n",
        "                                              ('unbalanced', dtc_predictions1), ('undersampled', dtc_predictions2),('oversampled',dtc_predictions3)]):\n",
        "  metrics = MulticlassMetrics(prediction.select('prediction', col('stroke').alias('label').cast(\"double\")).rdd)\n",
        "  if idx%3==0:\n",
        "    print(\"\\\\midrule\", model)\n",
        "    model=\"Decision Tree Classifier\"\n",
        "  print(\"&{ds} & {acc:2.2%} & {fm:2.2%} & {pr:2.2%} & {re:2.2%}\\\\\\\\\".format(\n",
        "      ds=data_set, acc=metrics.accuracy, fm=metrics.fMeasure(1.0), pr=metrics.precision(1.0), re=metrics.recall(1.0)\n",
        "  ))\n",
        "  conf_matr_list+=[[\"Decision Tree Classifier\" if idx//3 > 0 else \"Logistic Regression\", \n",
        "                    data_set,metrics.confusionMatrix().toArray()]] #x,y, value] for (x,y), value in np.ndenumerate(metrics.confusionMatrix().toArray())]\n",
        "  sns.heatmap(data=metrics.confusionMatrix().toArray(), \n",
        "              ax=axs[idx//3,idx%3], annot=True,\n",
        "              cbar_ax=cbar_ax).set_title(data_set + \" Data Set\")\n",
        "fig.tight_layout(rect=[0, 0, .9, 1])"
      ],
      "execution_count": 54,
      "outputs": [
        {
          "output_type": "stream",
          "name": "stdout",
          "text": [
            "Model&Dataset & Accuracy & F-Measure & Precision & Recall\\\\\n",
            "\\midrule Logistic Regression\n",
            "&unbalanced & 98.20% & 0.00% & 0.00% & 0.00%\\\\\n",
            "&undersampled & 77.16% & 77.30% & 74.94% & 79.82%\\\\\n",
            "&oversampled & 78.08% & 78.89% & 75.79% & 82.25%\\\\\n",
            "\\midrule Decision Tree Classifier\n",
            "&unbalanced & 98.20% & 0.51% & 100.00% & 0.26%\\\\\n",
            "&undersampled & 79.53% & 79.78% & 76.90% & 82.89%\\\\\n",
            "&oversampled & 78.93% & 79.52% & 77.08% & 82.12%\\\\\n"
          ]
        },
        {
          "output_type": "stream",
          "name": "stderr",
          "text": [
            "/usr/local/lib/python3.7/dist-packages/ipykernel_launcher.py:22: UserWarning: This figure includes Axes that are not compatible with tight_layout, so results might be incorrect.\n"
          ]
        },
        {
          "output_type": "display_data",
          "data": {
            "image/png": "[encoded data removed]",
            "text/plain": [
              "<Figure size 648x432 with 7 Axes>"
            ]
          },
          "metadata": {
            "needs_background": "light"
          }
        }
      ]
    }
  ]
}