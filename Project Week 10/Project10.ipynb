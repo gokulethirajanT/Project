{
  "cells": [
    {
      "cell_type": "markdown",
      "metadata": {
        "id": "EoUYFrbX9rQh"
      },
      "source": [
        "# Exercise 2.1: Accessing Protein Interaction Data\n",
        "There exist many different protein interaction databases that store information\n",
        "about the pairwise interaction between protein. For this project, we use the Biological General Repository for Interaction Datasets (BIOGRID; see [1]). It is available under https://thebiogrid.org/.\n",
        "\n",
        "BIOGRID stores information about experimentally measured pairwise interactions\n",
        "between proteins in \u0018 80 different species."
      ]
    },
    {
      "cell_type": "markdown",
      "metadata": {
        "id": "M-Qqv3lYC708"
      },
      "source": [
        "## 2.1.1 Downloading Protein Interaction Data\n",
        "Download the file BIOGRID-ORGANISM-4.4.205.tab3.zip from the database\n",
        "and unpack the zip file. You now have 79 files, each contains the protein interaction information of a different organism. Sort the files by size; which organisms have the most interaction data available?"
      ]
    },
    {
      "cell_type": "markdown",
      "metadata": {
        "id": "1H9zwaWPDqtC"
      },
      "source": [
        "We download the file from https://downloads.thebiogrid.org/File/BioGRID/Release-Archive/BIOGRID-4.4.205/BIOGRID-ORGANISM-4.4.205.tab3.zip.\n",
        "\n",
        "This file is uploaded to Google drive in the directory `Project10`. "
      ]
    },
    {
      "cell_type": "code",
      "execution_count": null,
      "metadata": {
        "colab": {
          "base_uri": "https://localhost:8080/"
        },
        "id": "pLvNd_bX9ntl",
        "outputId": "eb25707b-38c7-430a-e604-db8e2010f169"
      },
      "outputs": [
        {
          "output_type": "stream",
          "name": "stdout",
          "text": [
            "Mounted at /content/drive\n"
          ]
        }
      ],
      "source": [
        "from google.colab import drive\n",
        "drive.mount('/content/drive')"
      ]
    },
    {
      "cell_type": "code",
      "execution_count": null,
      "metadata": {
        "id": "nSt99QBIElmI"
      },
      "outputs": [],
      "source": [
        "!cp drive/My\\ Drive/Project10/BIOGRID-ORGANISM-4.4.205.tab3.zip BIOGRID-ORGANISM-4.4.205.tab3.zip "
      ]
    },
    {
      "cell_type": "markdown",
      "metadata": {
        "id": "krKdiQuoFX19"
      },
      "source": [
        "Now we unzip the file. "
      ]
    },
    {
      "cell_type": "code",
      "execution_count": null,
      "metadata": {
        "colab": {
          "base_uri": "https://localhost:8080/"
        },
        "id": "rbYzcSh3FcRh",
        "outputId": "b116213f-f5f1-4c33-82b4-02f4a510b8ee"
      },
      "outputs": [
        {
          "output_type": "stream",
          "name": "stdout",
          "text": [
            "Archive:  BIOGRID-ORGANISM-4.4.205.tab3.zip\n",
            "  inflating: BIOGRID-ORGANISM-Anas_platyrhynchos-4.4.205.tab3.txt  \n",
            "  inflating: BIOGRID-ORGANISM-Anopheles_gambiae_PEST-4.4.205.tab3.txt  \n",
            "  inflating: BIOGRID-ORGANISM-Apis_mellifera-4.4.205.tab3.txt  \n",
            "  inflating: BIOGRID-ORGANISM-Arabidopsis_thaliana_Columbia-4.4.205.tab3.txt  \n",
            "  inflating: BIOGRID-ORGANISM-Bacillus_subtilis_168-4.4.205.tab3.txt  \n",
            "  inflating: BIOGRID-ORGANISM-Bos_taurus-4.4.205.tab3.txt  \n",
            "  inflating: BIOGRID-ORGANISM-Caenorhabditis_elegans-4.4.205.tab3.txt  \n",
            "  inflating: BIOGRID-ORGANISM-Candida_albicans_SC5314-4.4.205.tab3.txt  \n",
            "  inflating: BIOGRID-ORGANISM-Canis_familiaris-4.4.205.tab3.txt  \n",
            "  inflating: BIOGRID-ORGANISM-Cavia_porcellus-4.4.205.tab3.txt  \n",
            "  inflating: BIOGRID-ORGANISM-Chlamydomonas_reinhardtii-4.4.205.tab3.txt  \n",
            "  inflating: BIOGRID-ORGANISM-Chlorocebus_sabaeus-4.4.205.tab3.txt  \n",
            "  inflating: BIOGRID-ORGANISM-Cricetulus_griseus-4.4.205.tab3.txt  \n",
            "  inflating: BIOGRID-ORGANISM-Danio_rerio-4.4.205.tab3.txt  \n",
            "  inflating: BIOGRID-ORGANISM-Dictyostelium_discoideum_AX4-4.4.205.tab3.txt  \n",
            "  inflating: BIOGRID-ORGANISM-Drosophila_melanogaster-4.4.205.tab3.txt  \n",
            "  inflating: BIOGRID-ORGANISM-Emericella_nidulans_FGSC_A4-4.4.205.tab3.txt  \n",
            "  inflating: BIOGRID-ORGANISM-Equus_caballus-4.4.205.tab3.txt  \n",
            "  inflating: BIOGRID-ORGANISM-Escherichia_coli_K12-4.4.205.tab3.txt  \n",
            "  inflating: BIOGRID-ORGANISM-Escherichia_coli_K12_MC4100_BW2952-4.4.205.tab3.txt  \n",
            "  inflating: BIOGRID-ORGANISM-Escherichia_coli_K12_MG1655-4.4.205.tab3.txt  \n",
            "  inflating: BIOGRID-ORGANISM-Escherichia_coli_K12_W3110-4.4.205.tab3.txt  \n",
            "  inflating: BIOGRID-ORGANISM-Felis_Catus-4.4.205.tab3.txt  \n",
            "  inflating: BIOGRID-ORGANISM-Gallus_gallus-4.4.205.tab3.txt  \n",
            "  inflating: BIOGRID-ORGANISM-Glycine_max-4.4.205.tab3.txt  \n",
            "  inflating: BIOGRID-ORGANISM-Hepatitus_C_Virus-4.4.205.tab3.txt  \n",
            "  inflating: BIOGRID-ORGANISM-Homo_sapiens-4.4.205.tab3.txt  \n",
            "  inflating: BIOGRID-ORGANISM-Human_Herpesvirus_1-4.4.205.tab3.txt  \n",
            "  inflating: BIOGRID-ORGANISM-Human_Herpesvirus_2-4.4.205.tab3.txt  \n",
            "  inflating: BIOGRID-ORGANISM-Human_Herpesvirus_3-4.4.205.tab3.txt  \n",
            "  inflating: BIOGRID-ORGANISM-Human_Herpesvirus_4-4.4.205.tab3.txt  \n",
            "  inflating: BIOGRID-ORGANISM-Human_Herpesvirus_5-4.4.205.tab3.txt  \n",
            "  inflating: BIOGRID-ORGANISM-Human_Herpesvirus_6A-4.4.205.tab3.txt  \n",
            "  inflating: BIOGRID-ORGANISM-Human_Herpesvirus_6B-4.4.205.tab3.txt  \n",
            "  inflating: BIOGRID-ORGANISM-Human_Herpesvirus_7-4.4.205.tab3.txt  \n",
            "  inflating: BIOGRID-ORGANISM-Human_Herpesvirus_8-4.4.205.tab3.txt  \n",
            "  inflating: BIOGRID-ORGANISM-Human_Immunodeficiency_Virus_1-4.4.205.tab3.txt  \n",
            "  inflating: BIOGRID-ORGANISM-Human_Immunodeficiency_Virus_2-4.4.205.tab3.txt  \n",
            "  inflating: BIOGRID-ORGANISM-Human_papillomavirus_10-4.4.205.tab3.txt  \n",
            "  inflating: BIOGRID-ORGANISM-Human_papillomavirus_16-4.4.205.tab3.txt  \n",
            "  inflating: BIOGRID-ORGANISM-Human_papillomavirus_32-4.4.205.tab3.txt  \n",
            "  inflating: BIOGRID-ORGANISM-Human_papillomavirus_5-4.4.205.tab3.txt  \n",
            "  inflating: BIOGRID-ORGANISM-Human_papillomavirus_6b-4.4.205.tab3.txt  \n",
            "  inflating: BIOGRID-ORGANISM-Human_papillomavirus_7-4.4.205.tab3.txt  \n",
            "  inflating: BIOGRID-ORGANISM-Human_papillomavirus_9-4.4.205.tab3.txt  \n",
            "  inflating: BIOGRID-ORGANISM-Leishmania_major_Friedlin-4.4.205.tab3.txt  \n",
            "  inflating: BIOGRID-ORGANISM-Macaca_mulatta-4.4.205.tab3.txt  \n",
            "  inflating: BIOGRID-ORGANISM-Meleagris_gallopavo-4.4.205.tab3.txt  \n",
            "  inflating: BIOGRID-ORGANISM-Middle-East_Respiratory_Syndrome-related_Coronavirus-4.4.205.tab3.txt  \n",
            "  inflating: BIOGRID-ORGANISM-Monodelphis_domestica-4.4.205.tab3.txt  \n",
            "  inflating: BIOGRID-ORGANISM-Mus_musculus-4.4.205.tab3.txt  \n",
            "  inflating: BIOGRID-ORGANISM-Mycobacterium_tuberculosis_H37Rv-4.4.205.tab3.txt  \n",
            "  inflating: BIOGRID-ORGANISM-Neurospora_crassa_OR74A-4.4.205.tab3.txt  \n",
            "  inflating: BIOGRID-ORGANISM-Nicotiana_tomentosiformis-4.4.205.tab3.txt  \n",
            "  inflating: BIOGRID-ORGANISM-Oryctolagus_cuniculus-4.4.205.tab3.txt  \n",
            "  inflating: BIOGRID-ORGANISM-Oryza_sativa_Japonica-4.4.205.tab3.txt  \n",
            "  inflating: BIOGRID-ORGANISM-Ovis_aries-4.4.205.tab3.txt  \n",
            "  inflating: BIOGRID-ORGANISM-Pan_troglodytes-4.4.205.tab3.txt  \n",
            "  inflating: BIOGRID-ORGANISM-Pediculus_humanus-4.4.205.tab3.txt  \n",
            "  inflating: BIOGRID-ORGANISM-Plasmodium_falciparum_3D7-4.4.205.tab3.txt  \n",
            "  inflating: BIOGRID-ORGANISM-Rattus_norvegicus-4.4.205.tab3.txt  \n",
            "  inflating: BIOGRID-ORGANISM-Ricinus_communis-4.4.205.tab3.txt  \n",
            "  inflating: BIOGRID-ORGANISM-Saccharomyces_cerevisiae_S288c-4.4.205.tab3.txt  \n",
            "  inflating: BIOGRID-ORGANISM-Schizosaccharomyces_pombe_972h-4.4.205.tab3.txt  \n",
            "  inflating: BIOGRID-ORGANISM-Selaginella_moellendorffii-4.4.205.tab3.txt  \n",
            "  inflating: BIOGRID-ORGANISM-Severe_acute_respiratory_syndrome_coronavirus-4.4.205.tab3.txt  \n",
            "  inflating: BIOGRID-ORGANISM-Severe_acute_respiratory_syndrome_coronavirus_2-4.4.205.tab3.txt  \n",
            "  inflating: BIOGRID-ORGANISM-Simian_Immunodeficiency_Virus-4.4.205.tab3.txt  \n",
            "  inflating: BIOGRID-ORGANISM-Simian_Virus_40-4.4.205.tab3.txt  \n",
            "  inflating: BIOGRID-ORGANISM-Solanum_lycopersicum-4.4.205.tab3.txt  \n",
            "  inflating: BIOGRID-ORGANISM-Solanum_tuberosum-4.4.205.tab3.txt  \n",
            "  inflating: BIOGRID-ORGANISM-Sorghum_bicolor-4.4.205.tab3.txt  \n",
            "  inflating: BIOGRID-ORGANISM-Streptococcus_pneumoniae_ATCCBAA255-4.4.205.tab3.txt  \n",
            "  inflating: BIOGRID-ORGANISM-Strongylocentrotus_purpuratus-4.4.205.tab3.txt  \n",
            "  inflating: BIOGRID-ORGANISM-Sus_scrofa-4.4.205.tab3.txt  \n",
            "  inflating: BIOGRID-ORGANISM-Tobacco_Mosaic_Virus-4.4.205.tab3.txt  \n",
            "  inflating: BIOGRID-ORGANISM-Ustilago_maydis_521-4.4.205.tab3.txt  \n",
            "  inflating: BIOGRID-ORGANISM-Vaccinia_Virus-4.4.205.tab3.txt  \n",
            "  inflating: BIOGRID-ORGANISM-Vitis_vinifera-4.4.205.tab3.txt  \n",
            "  inflating: BIOGRID-ORGANISM-Xenopus_laevis-4.4.205.tab3.txt  \n",
            "  inflating: BIOGRID-ORGANISM-Zea_mays-4.4.205.tab3.txt  \n"
          ]
        }
      ],
      "source": [
        "!unzip BIOGRID-ORGANISM-4.4.205.tab3.zip "
      ]
    },
    {
      "cell_type": "code",
      "execution_count": null,
      "metadata": {
        "id": "yLDL9dAYF4rh",
        "colab": {
          "base_uri": "https://localhost:8080/"
        },
        "outputId": "db3e7339-8fbc-4a0e-de14-4a2c80bd5a8c"
      },
      "outputs": [
        {
          "output_type": "stream",
          "name": "stdout",
          "text": [
            "81\n"
          ]
        }
      ],
      "source": [
        "!ls | grep 'BIOGRID-ORGANISM.*\\.tab3\\.txt' | wc -l"
      ]
    },
    {
      "cell_type": "markdown",
      "metadata": {
        "id": "fXMXRXAvIG5r"
      },
      "source": [
        "We have 81 files. Now we take a look at the 10 biggest files."
      ]
    },
    {
      "cell_type": "code",
      "execution_count": null,
      "metadata": {
        "id": "ZqP28mpeIIct",
        "colab": {
          "base_uri": "https://localhost:8080/"
        },
        "outputId": "903ac419-ea6d-4e15-875b-04ad319bb34b"
      },
      "outputs": [
        {
          "output_type": "stream",
          "name": "stdout",
          "text": [
            "total 1.4G\n",
            "-rw-rw-r-- 1 root root 523M Dec 29 14:44 BIOGRID-ORGANISM-Homo_sapiens-4.4.205.tab3.txt\n",
            "-rw-rw-r-- 1 root root 428M Dec 29 14:27 BIOGRID-ORGANISM-Saccharomyces_cerevisiae_S288c-4.4.205.tab3.txt\n",
            "-rw------- 1 root root 143M Jan 14 14:54 BIOGRID-ORGANISM-4.4.205.tab3.zip\n",
            "-rw-rw-r-- 1 root root  93M Dec 29 14:22 BIOGRID-ORGANISM-Escherichia_coli_K12_W3110-4.4.205.tab3.txt\n",
            "-rw-rw-r-- 1 root root  47M Dec 29 14:20 BIOGRID-ORGANISM-Schizosaccharomyces_pombe_972h-4.4.205.tab3.txt\n",
            "-rw-rw-r-- 1 root root  40M Dec 29 15:00 BIOGRID-ORGANISM-Arabidopsis_thaliana_Columbia-4.4.205.tab3.txt\n",
            "-rw-rw-r-- 1 root root  39M Dec 29 14:17 BIOGRID-ORGANISM-Drosophila_melanogaster-4.4.205.tab3.txt\n",
            "-rw-rw-r-- 1 root root  32M Dec 29 14:40 BIOGRID-ORGANISM-Mus_musculus-4.4.205.tab3.txt\n",
            "-rw-rw-r-- 1 root root  18M Dec 29 14:19 BIOGRID-ORGANISM-Severe_acute_respiratory_syndrome_coronavirus_2-4.4.205.tab3.txt\n"
          ]
        }
      ],
      "source": [
        "! ls -lSh | head "
      ]
    },
    {
      "cell_type": "markdown",
      "metadata": {
        "id": "fUquTRiCIpEW"
      },
      "source": [
        "The biggest file is `BIOGRID-ORGANISM-Homo_sapiens-4.4.205.tab3.txt`. "
      ]
    },
    {
      "cell_type": "markdown",
      "metadata": {
        "id": "qWz-AGduJrKh"
      },
      "source": [
        "## Subexercise 2.1.2 Investigate Protein Interaction Data\n",
        "Before we create a program that reads these files to create a PPIN, we want to\n",
        "investigate the files and their structure. The files are in a tab-separated format, which is very common for data files. It is basically a large table with the first line as header that gives a brief description about the contents contained in each column. Each of the following lines contains one entry, i.e., an interaction between two proteins. Each field value of an entry is separated from the next by a tab character. Open the file `BIOGRID-ORGANISM-Human_Herpesvirus_6B-4.4.205.tab3.txt` with OpenOffice Calc and with a Text Editor.\n",
        "\n",
        "**Question: How many interactions are in this file?**\n",
        "\n",
        "Each of these files contains a lot of information on the interactions. Most of these informations are not important for our project. Have a look at the description of this file format under https://wiki.thebiogrid.org/doku.php/biogrid_tab_version_3.0. \n",
        "\n",
        "**Question: The information of which columns are necessary to create a PPIN?There are different choices possible. Read the column definitions to\n",
        "identify which columns are best suited.**\n",
        "\n",
        "Have a look at one of the larger files. Is it still feasible to open them in OpenOffice Calc or with a Text Editor?"
      ]
    },
    {
      "cell_type": "code",
      "execution_count": null,
      "metadata": {
        "id": "Ior8r1XyMHHr"
      },
      "outputs": [],
      "source": [
        "import pandas as pd"
      ]
    },
    {
      "cell_type": "code",
      "execution_count": null,
      "metadata": {
        "id": "1pMDNUq0Jq-L",
        "colab": {
          "base_uri": "https://localhost:8080/",
          "height": 430
        },
        "outputId": "cac5ab1c-8794-42fd-bcf2-25b032e44b0a"
      },
      "outputs": [
        {
          "output_type": "execute_result",
          "data": {
            "text/html": [
              "\n",
              "  <div id=\"df-5665c4ce-2cad-43e7-9bb2-3dfe93ba9e33\">\n",
              "    <div class=\"colab-df-container\">\n",
              "      <div>\n",
              "<style scoped>\n",
              "    .dataframe tbody tr th:only-of-type {\n",
              "        vertical-align: middle;\n",
              "    }\n",
              "\n",
              "    .dataframe tbody tr th {\n",
              "        vertical-align: top;\n",
              "    }\n",
              "\n",
              "    .dataframe thead th {\n",
              "        text-align: right;\n",
              "    }\n",
              "</style>\n",
              "<table border=\"1\" class=\"dataframe\">\n",
              "  <thead>\n",
              "    <tr style=\"text-align: right;\">\n",
              "      <th></th>\n",
              "      <th>#BioGRID Interaction ID</th>\n",
              "      <th>Entrez Gene Interactor A</th>\n",
              "      <th>Entrez Gene Interactor B</th>\n",
              "      <th>BioGRID ID Interactor A</th>\n",
              "      <th>BioGRID ID Interactor B</th>\n",
              "      <th>Systematic Name Interactor A</th>\n",
              "      <th>Systematic Name Interactor B</th>\n",
              "      <th>Official Symbol Interactor A</th>\n",
              "      <th>Official Symbol Interactor B</th>\n",
              "      <th>Synonyms Interactor A</th>\n",
              "      <th>Synonyms Interactor B</th>\n",
              "      <th>Experimental System</th>\n",
              "      <th>Experimental System Type</th>\n",
              "      <th>Author</th>\n",
              "      <th>Publication Source</th>\n",
              "      <th>Organism ID Interactor A</th>\n",
              "      <th>Organism ID Interactor B</th>\n",
              "      <th>Throughput</th>\n",
              "      <th>Score</th>\n",
              "      <th>Modification</th>\n",
              "      <th>Qualifications</th>\n",
              "      <th>Tags</th>\n",
              "      <th>Source Database</th>\n",
              "      <th>SWISS-PROT Accessions Interactor A</th>\n",
              "      <th>TREMBL Accessions Interactor A</th>\n",
              "      <th>REFSEQ Accessions Interactor A</th>\n",
              "      <th>SWISS-PROT Accessions Interactor B</th>\n",
              "      <th>TREMBL Accessions Interactor B</th>\n",
              "      <th>REFSEQ Accessions Interactor B</th>\n",
              "      <th>Ontology Term IDs</th>\n",
              "      <th>Ontology Term Names</th>\n",
              "      <th>Ontology Term Categories</th>\n",
              "      <th>Ontology Term Qualifier IDs</th>\n",
              "      <th>Ontology Term Qualifier Names</th>\n",
              "      <th>Ontology Term Types</th>\n",
              "      <th>Organism Name Interactor A</th>\n",
              "      <th>Organism Name Interactor B</th>\n",
              "    </tr>\n",
              "  </thead>\n",
              "  <tbody>\n",
              "    <tr>\n",
              "      <th>0</th>\n",
              "      <td>692396</td>\n",
              "      <td>1497091</td>\n",
              "      <td>7329</td>\n",
              "      <td>1678317</td>\n",
              "      <td>113177</td>\n",
              "      <td>HhV6Bgp095</td>\n",
              "      <td>LA16c-358B7.1</td>\n",
              "      <td>U95</td>\n",
              "      <td>UBE2I</td>\n",
              "      <td>-</td>\n",
              "      <td>C358B7.1|P18|UBC9</td>\n",
              "      <td>Two-hybrid</td>\n",
              "      <td>physical</td>\n",
              "      <td>Tomoiu A (2006)</td>\n",
              "      <td>PUBMED:17005699</td>\n",
              "      <td>32604</td>\n",
              "      <td>9606</td>\n",
              "      <td>Low Throughput</td>\n",
              "      <td>-</td>\n",
              "      <td>-</td>\n",
              "      <td>-</td>\n",
              "      <td>-</td>\n",
              "      <td>BIOGRID</td>\n",
              "      <td>Q9QJ12</td>\n",
              "      <td>-</td>\n",
              "      <td>NP_050270</td>\n",
              "      <td>P63279</td>\n",
              "      <td>B0QYN7|A8K503</td>\n",
              "      <td>NP_003336|NP_919236|NP_919237|NP_919235</td>\n",
              "      <td>-</td>\n",
              "      <td>-</td>\n",
              "      <td>-</td>\n",
              "      <td>-</td>\n",
              "      <td>-</td>\n",
              "      <td>-</td>\n",
              "      <td>Human Herpesvirus 6B</td>\n",
              "      <td>Homo sapiens</td>\n",
              "    </tr>\n",
              "    <tr>\n",
              "      <th>1</th>\n",
              "      <td>734278</td>\n",
              "      <td>1497087</td>\n",
              "      <td>7341</td>\n",
              "      <td>1678313</td>\n",
              "      <td>113188</td>\n",
              "      <td>HhV6Bgp091</td>\n",
              "      <td>OK/SW-cl.43</td>\n",
              "      <td>U90</td>\n",
              "      <td>SUMO1</td>\n",
              "      <td>-</td>\n",
              "      <td>DAP1|GMP1|OFC10|PIC1|SENP2|SMT3|SMT3C|SMT3H3|UBL1</td>\n",
              "      <td>Affinity Capture-Western</td>\n",
              "      <td>physical</td>\n",
              "      <td>Gravel A (2002)</td>\n",
              "      <td>PUBMED:11901159</td>\n",
              "      <td>32604</td>\n",
              "      <td>9606</td>\n",
              "      <td>Low Throughput</td>\n",
              "      <td>-</td>\n",
              "      <td>-</td>\n",
              "      <td>-</td>\n",
              "      <td>-</td>\n",
              "      <td>BIOGRID</td>\n",
              "      <td>Q77PU6</td>\n",
              "      <td>-</td>\n",
              "      <td>NP_050266</td>\n",
              "      <td>P63165</td>\n",
              "      <td>A0A024R3Z2</td>\n",
              "      <td>NP_001358323|NP_001358322|NP_001358321|NP_0010...</td>\n",
              "      <td>-</td>\n",
              "      <td>-</td>\n",
              "      <td>-</td>\n",
              "      <td>-</td>\n",
              "      <td>-</td>\n",
              "      <td>-</td>\n",
              "      <td>Human Herpesvirus 6B</td>\n",
              "      <td>Homo sapiens</td>\n",
              "    </tr>\n",
              "    <tr>\n",
              "      <th>2</th>\n",
              "      <td>2347266</td>\n",
              "      <td>1497013</td>\n",
              "      <td>7157</td>\n",
              "      <td>1678239</td>\n",
              "      <td>113010</td>\n",
              "      <td>HhV6Bgp020</td>\n",
              "      <td>-</td>\n",
              "      <td>U14</td>\n",
              "      <td>TP53</td>\n",
              "      <td>-</td>\n",
              "      <td>BCC7|LFS1|P53|TRP53</td>\n",
              "      <td>Affinity Capture-MS</td>\n",
              "      <td>physical</td>\n",
              "      <td>Mori J (2015)</td>\n",
              "      <td>PUBMED:26340541</td>\n",
              "      <td>32604</td>\n",
              "      <td>9606</td>\n",
              "      <td>High Throughput</td>\n",
              "      <td>-</td>\n",
              "      <td>-</td>\n",
              "      <td>-</td>\n",
              "      <td>-</td>\n",
              "      <td>BIOGRID</td>\n",
              "      <td>Q9QJ49</td>\n",
              "      <td>-</td>\n",
              "      <td>NP_050195</td>\n",
              "      <td>P04637</td>\n",
              "      <td>H2EHT1|A0A087WT22|A0A087WXZ1|Q53GA5|A0A087X1Q1...</td>\n",
              "      <td>NP_001119586|NP_001119590|NP_001119584|NP_0005...</td>\n",
              "      <td>-</td>\n",
              "      <td>-</td>\n",
              "      <td>-</td>\n",
              "      <td>-</td>\n",
              "      <td>-</td>\n",
              "      <td>-</td>\n",
              "      <td>Human Herpesvirus 6B</td>\n",
              "      <td>Homo sapiens</td>\n",
              "    </tr>\n",
              "    <tr>\n",
              "      <th>3</th>\n",
              "      <td>2347267</td>\n",
              "      <td>1497013</td>\n",
              "      <td>51366</td>\n",
              "      <td>1678239</td>\n",
              "      <td>119501</td>\n",
              "      <td>HhV6Bgp020</td>\n",
              "      <td>-</td>\n",
              "      <td>U14</td>\n",
              "      <td>UBR5</td>\n",
              "      <td>-</td>\n",
              "      <td>DD5|EDD|EDD1|HYD</td>\n",
              "      <td>Affinity Capture-MS</td>\n",
              "      <td>physical</td>\n",
              "      <td>Mori J (2015)</td>\n",
              "      <td>PUBMED:26340541</td>\n",
              "      <td>32604</td>\n",
              "      <td>9606</td>\n",
              "      <td>High Throughput</td>\n",
              "      <td>-</td>\n",
              "      <td>-</td>\n",
              "      <td>-</td>\n",
              "      <td>-</td>\n",
              "      <td>BIOGRID</td>\n",
              "      <td>Q9QJ49</td>\n",
              "      <td>-</td>\n",
              "      <td>NP_050195</td>\n",
              "      <td>O95071</td>\n",
              "      <td>E7EMW7</td>\n",
              "      <td>NP_056986|NP_001269802</td>\n",
              "      <td>-</td>\n",
              "      <td>-</td>\n",
              "      <td>-</td>\n",
              "      <td>-</td>\n",
              "      <td>-</td>\n",
              "      <td>-</td>\n",
              "      <td>Human Herpesvirus 6B</td>\n",
              "      <td>Homo sapiens</td>\n",
              "    </tr>\n",
              "  </tbody>\n",
              "</table>\n",
              "</div>\n",
              "      <button class=\"colab-df-convert\" onclick=\"convertToInteractive('df-5665c4ce-2cad-43e7-9bb2-3dfe93ba9e33')\"\n",
              "              title=\"Convert this dataframe to an interactive table.\"\n",
              "              style=\"display:none;\">\n",
              "        \n",
              "  <svg xmlns=\"http://www.w3.org/2000/svg\" height=\"24px\"viewBox=\"0 0 24 24\"\n",
              "       width=\"24px\">\n",
              "    <path d=\"M0 0h24v24H0V0z\" fill=\"none\"/>\n",
              "    <path d=\"M18.56 5.44l.94 2.06.94-2.06 2.06-.94-2.06-.94-.94-2.06-.94 2.06-2.06.94zm-11 1L8.5 8.5l.94-2.06 2.06-.94-2.06-.94L8.5 2.5l-.94 2.06-2.06.94zm10 10l.94 2.06.94-2.06 2.06-.94-2.06-.94-.94-2.06-.94 2.06-2.06.94z\"/><path d=\"M17.41 7.96l-1.37-1.37c-.4-.4-.92-.59-1.43-.59-.52 0-1.04.2-1.43.59L10.3 9.45l-7.72 7.72c-.78.78-.78 2.05 0 2.83L4 21.41c.39.39.9.59 1.41.59.51 0 1.02-.2 1.41-.59l7.78-7.78 2.81-2.81c.8-.78.8-2.07 0-2.86zM5.41 20L4 18.59l7.72-7.72 1.47 1.35L5.41 20z\"/>\n",
              "  </svg>\n",
              "      </button>\n",
              "      \n",
              "  <style>\n",
              "    .colab-df-container {\n",
              "      display:flex;\n",
              "      flex-wrap:wrap;\n",
              "      gap: 12px;\n",
              "    }\n",
              "\n",
              "    .colab-df-convert {\n",
              "      background-color: #E8F0FE;\n",
              "      border: none;\n",
              "      border-radius: 50%;\n",
              "      cursor: pointer;\n",
              "      display: none;\n",
              "      fill: #1967D2;\n",
              "      height: 32px;\n",
              "      padding: 0 0 0 0;\n",
              "      width: 32px;\n",
              "    }\n",
              "\n",
              "    .colab-df-convert:hover {\n",
              "      background-color: #E2EBFA;\n",
              "      box-shadow: 0px 1px 2px rgba(60, 64, 67, 0.3), 0px 1px 3px 1px rgba(60, 64, 67, 0.15);\n",
              "      fill: #174EA6;\n",
              "    }\n",
              "\n",
              "    [theme=dark] .colab-df-convert {\n",
              "      background-color: #3B4455;\n",
              "      fill: #D2E3FC;\n",
              "    }\n",
              "\n",
              "    [theme=dark] .colab-df-convert:hover {\n",
              "      background-color: #434B5C;\n",
              "      box-shadow: 0px 1px 3px 1px rgba(0, 0, 0, 0.15);\n",
              "      filter: drop-shadow(0px 1px 2px rgba(0, 0, 0, 0.3));\n",
              "      fill: #FFFFFF;\n",
              "    }\n",
              "  </style>\n",
              "\n",
              "      <script>\n",
              "        const buttonEl =\n",
              "          document.querySelector('#df-5665c4ce-2cad-43e7-9bb2-3dfe93ba9e33 button.colab-df-convert');\n",
              "        buttonEl.style.display =\n",
              "          google.colab.kernel.accessAllowed ? 'block' : 'none';\n",
              "\n",
              "        async function convertToInteractive(key) {\n",
              "          const element = document.querySelector('#df-5665c4ce-2cad-43e7-9bb2-3dfe93ba9e33');\n",
              "          const dataTable =\n",
              "            await google.colab.kernel.invokeFunction('convertToInteractive',\n",
              "                                                     [key], {});\n",
              "          if (!dataTable) return;\n",
              "\n",
              "          const docLinkHtml = 'Like what you see? Visit the ' +\n",
              "            '<a target=\"_blank\" href=https://colab.research.google.com/notebooks/data_table.ipynb>data table notebook</a>'\n",
              "            + ' to learn more about interactive tables.';\n",
              "          element.innerHTML = '';\n",
              "          dataTable['output_type'] = 'display_data';\n",
              "          await google.colab.output.renderOutput(dataTable, element);\n",
              "          const docLink = document.createElement('div');\n",
              "          docLink.innerHTML = docLinkHtml;\n",
              "          element.appendChild(docLink);\n",
              "        }\n",
              "      </script>\n",
              "    </div>\n",
              "  </div>\n",
              "  "
            ],
            "text/plain": [
              "   #BioGRID Interaction ID  ...  Organism Name Interactor B\n",
              "0                   692396  ...                Homo sapiens\n",
              "1                   734278  ...                Homo sapiens\n",
              "2                  2347266  ...                Homo sapiens\n",
              "3                  2347267  ...                Homo sapiens\n",
              "\n",
              "[4 rows x 37 columns]"
            ]
          },
          "metadata": {},
          "execution_count": 7
        }
      ],
      "source": [
        "pd.read_csv(\"BIOGRID-ORGANISM-Human_Herpesvirus_6B-4.4.205.tab3.txt\", sep =\"\\t\")"
      ]
    },
    {
      "cell_type": "markdown",
      "metadata": {
        "id": "an4b0HK4KhnO"
      },
      "source": [
        "There are 4 interactions.\n",
        "\n",
        "We only need IDs to uniquely identify the nodes. According to the website, the BioGRID ID Interactor A and\tBioGRID ID Interactor B are best in this case."
      ]
    },
    {
      "cell_type": "code",
      "execution_count": null,
      "metadata": {
        "id": "Ply3QdBkM_4W",
        "colab": {
          "base_uri": "https://localhost:8080/"
        },
        "outputId": "2118f838-c426-4569-f08f-1e85ca4a3105"
      },
      "outputs": [
        {
          "output_type": "execute_result",
          "data": {
            "text/plain": [
              "26457"
            ]
          },
          "metadata": {},
          "execution_count": 8
        }
      ],
      "source": [
        "len(pd.read_csv('BIOGRID-ORGANISM-Severe_acute_respiratory_syndrome_coronavirus_2-4.4.205.tab3.txt', sep='\\t'))"
      ]
    },
    {
      "cell_type": "markdown",
      "metadata": {
        "id": "R7rROi28NUpf"
      },
      "source": [
        "The 10th biggest file has 26457 rows, therefore the bigger files are not feasible to open."
      ]
    },
    {
      "cell_type": "markdown",
      "metadata": {
        "id": "bal--zKgNggK"
      },
      "source": [
        "# Exercise 2.2 Construct PPINs from BIOGRID data\n",
        "Now we will create PPINs from these files. First, we create a small PPIN manually to get an understanding of what our program is supposed to do. Second, we write a program that constructs a PPIN from a file."
      ]
    },
    {
      "cell_type": "markdown",
      "metadata": {
        "id": "LQ0pvQFLNp4D"
      },
      "source": [
        "## Subexercise 2.2.1 Create a PPIN manually\n",
        "To get an understanding of what the program is supposed to do automated, we do\n",
        "it first manually ourselves. Open the file `BIOGRID-ORGANISM-Human_Herpesvirus_6B-4.4.205.tab3.txt`. Draw a PPIN with pen and paper. \n",
        "\n",
        "**Question: How many nodes and edges are in this network? What is the size\n",
        "of the largest connected component?**"
      ]
    },
    {
      "cell_type": "code",
      "execution_count": null,
      "metadata": {
        "id": "lI4Z2E4eNzD5",
        "colab": {
          "base_uri": "https://localhost:8080/",
          "height": 430
        },
        "outputId": "4635690a-4167-4a1f-ce39-a959ff286637"
      },
      "outputs": [
        {
          "output_type": "execute_result",
          "data": {
            "text/html": [
              "\n",
              "  <div id=\"df-9f553dd3-ea11-4413-92f7-d6a10e5628df\">\n",
              "    <div class=\"colab-df-container\">\n",
              "      <div>\n",
              "<style scoped>\n",
              "    .dataframe tbody tr th:only-of-type {\n",
              "        vertical-align: middle;\n",
              "    }\n",
              "\n",
              "    .dataframe tbody tr th {\n",
              "        vertical-align: top;\n",
              "    }\n",
              "\n",
              "    .dataframe thead th {\n",
              "        text-align: right;\n",
              "    }\n",
              "</style>\n",
              "<table border=\"1\" class=\"dataframe\">\n",
              "  <thead>\n",
              "    <tr style=\"text-align: right;\">\n",
              "      <th></th>\n",
              "      <th>#BioGRID Interaction ID</th>\n",
              "      <th>Entrez Gene Interactor A</th>\n",
              "      <th>Entrez Gene Interactor B</th>\n",
              "      <th>BioGRID ID Interactor A</th>\n",
              "      <th>BioGRID ID Interactor B</th>\n",
              "      <th>Systematic Name Interactor A</th>\n",
              "      <th>Systematic Name Interactor B</th>\n",
              "      <th>Official Symbol Interactor A</th>\n",
              "      <th>Official Symbol Interactor B</th>\n",
              "      <th>Synonyms Interactor A</th>\n",
              "      <th>Synonyms Interactor B</th>\n",
              "      <th>Experimental System</th>\n",
              "      <th>Experimental System Type</th>\n",
              "      <th>Author</th>\n",
              "      <th>Publication Source</th>\n",
              "      <th>Organism ID Interactor A</th>\n",
              "      <th>Organism ID Interactor B</th>\n",
              "      <th>Throughput</th>\n",
              "      <th>Score</th>\n",
              "      <th>Modification</th>\n",
              "      <th>Qualifications</th>\n",
              "      <th>Tags</th>\n",
              "      <th>Source Database</th>\n",
              "      <th>SWISS-PROT Accessions Interactor A</th>\n",
              "      <th>TREMBL Accessions Interactor A</th>\n",
              "      <th>REFSEQ Accessions Interactor A</th>\n",
              "      <th>SWISS-PROT Accessions Interactor B</th>\n",
              "      <th>TREMBL Accessions Interactor B</th>\n",
              "      <th>REFSEQ Accessions Interactor B</th>\n",
              "      <th>Ontology Term IDs</th>\n",
              "      <th>Ontology Term Names</th>\n",
              "      <th>Ontology Term Categories</th>\n",
              "      <th>Ontology Term Qualifier IDs</th>\n",
              "      <th>Ontology Term Qualifier Names</th>\n",
              "      <th>Ontology Term Types</th>\n",
              "      <th>Organism Name Interactor A</th>\n",
              "      <th>Organism Name Interactor B</th>\n",
              "    </tr>\n",
              "  </thead>\n",
              "  <tbody>\n",
              "    <tr>\n",
              "      <th>0</th>\n",
              "      <td>692396</td>\n",
              "      <td>1497091</td>\n",
              "      <td>7329</td>\n",
              "      <td>1678317</td>\n",
              "      <td>113177</td>\n",
              "      <td>HhV6Bgp095</td>\n",
              "      <td>LA16c-358B7.1</td>\n",
              "      <td>U95</td>\n",
              "      <td>UBE2I</td>\n",
              "      <td>-</td>\n",
              "      <td>C358B7.1|P18|UBC9</td>\n",
              "      <td>Two-hybrid</td>\n",
              "      <td>physical</td>\n",
              "      <td>Tomoiu A (2006)</td>\n",
              "      <td>PUBMED:17005699</td>\n",
              "      <td>32604</td>\n",
              "      <td>9606</td>\n",
              "      <td>Low Throughput</td>\n",
              "      <td>-</td>\n",
              "      <td>-</td>\n",
              "      <td>-</td>\n",
              "      <td>-</td>\n",
              "      <td>BIOGRID</td>\n",
              "      <td>Q9QJ12</td>\n",
              "      <td>-</td>\n",
              "      <td>NP_050270</td>\n",
              "      <td>P63279</td>\n",
              "      <td>B0QYN7|A8K503</td>\n",
              "      <td>NP_003336|NP_919236|NP_919237|NP_919235</td>\n",
              "      <td>-</td>\n",
              "      <td>-</td>\n",
              "      <td>-</td>\n",
              "      <td>-</td>\n",
              "      <td>-</td>\n",
              "      <td>-</td>\n",
              "      <td>Human Herpesvirus 6B</td>\n",
              "      <td>Homo sapiens</td>\n",
              "    </tr>\n",
              "    <tr>\n",
              "      <th>1</th>\n",
              "      <td>734278</td>\n",
              "      <td>1497087</td>\n",
              "      <td>7341</td>\n",
              "      <td>1678313</td>\n",
              "      <td>113188</td>\n",
              "      <td>HhV6Bgp091</td>\n",
              "      <td>OK/SW-cl.43</td>\n",
              "      <td>U90</td>\n",
              "      <td>SUMO1</td>\n",
              "      <td>-</td>\n",
              "      <td>DAP1|GMP1|OFC10|PIC1|SENP2|SMT3|SMT3C|SMT3H3|UBL1</td>\n",
              "      <td>Affinity Capture-Western</td>\n",
              "      <td>physical</td>\n",
              "      <td>Gravel A (2002)</td>\n",
              "      <td>PUBMED:11901159</td>\n",
              "      <td>32604</td>\n",
              "      <td>9606</td>\n",
              "      <td>Low Throughput</td>\n",
              "      <td>-</td>\n",
              "      <td>-</td>\n",
              "      <td>-</td>\n",
              "      <td>-</td>\n",
              "      <td>BIOGRID</td>\n",
              "      <td>Q77PU6</td>\n",
              "      <td>-</td>\n",
              "      <td>NP_050266</td>\n",
              "      <td>P63165</td>\n",
              "      <td>A0A024R3Z2</td>\n",
              "      <td>NP_001358323|NP_001358322|NP_001358321|NP_0010...</td>\n",
              "      <td>-</td>\n",
              "      <td>-</td>\n",
              "      <td>-</td>\n",
              "      <td>-</td>\n",
              "      <td>-</td>\n",
              "      <td>-</td>\n",
              "      <td>Human Herpesvirus 6B</td>\n",
              "      <td>Homo sapiens</td>\n",
              "    </tr>\n",
              "    <tr>\n",
              "      <th>2</th>\n",
              "      <td>2347266</td>\n",
              "      <td>1497013</td>\n",
              "      <td>7157</td>\n",
              "      <td>1678239</td>\n",
              "      <td>113010</td>\n",
              "      <td>HhV6Bgp020</td>\n",
              "      <td>-</td>\n",
              "      <td>U14</td>\n",
              "      <td>TP53</td>\n",
              "      <td>-</td>\n",
              "      <td>BCC7|LFS1|P53|TRP53</td>\n",
              "      <td>Affinity Capture-MS</td>\n",
              "      <td>physical</td>\n",
              "      <td>Mori J (2015)</td>\n",
              "      <td>PUBMED:26340541</td>\n",
              "      <td>32604</td>\n",
              "      <td>9606</td>\n",
              "      <td>High Throughput</td>\n",
              "      <td>-</td>\n",
              "      <td>-</td>\n",
              "      <td>-</td>\n",
              "      <td>-</td>\n",
              "      <td>BIOGRID</td>\n",
              "      <td>Q9QJ49</td>\n",
              "      <td>-</td>\n",
              "      <td>NP_050195</td>\n",
              "      <td>P04637</td>\n",
              "      <td>H2EHT1|A0A087WT22|A0A087WXZ1|Q53GA5|A0A087X1Q1...</td>\n",
              "      <td>NP_001119586|NP_001119590|NP_001119584|NP_0005...</td>\n",
              "      <td>-</td>\n",
              "      <td>-</td>\n",
              "      <td>-</td>\n",
              "      <td>-</td>\n",
              "      <td>-</td>\n",
              "      <td>-</td>\n",
              "      <td>Human Herpesvirus 6B</td>\n",
              "      <td>Homo sapiens</td>\n",
              "    </tr>\n",
              "    <tr>\n",
              "      <th>3</th>\n",
              "      <td>2347267</td>\n",
              "      <td>1497013</td>\n",
              "      <td>51366</td>\n",
              "      <td>1678239</td>\n",
              "      <td>119501</td>\n",
              "      <td>HhV6Bgp020</td>\n",
              "      <td>-</td>\n",
              "      <td>U14</td>\n",
              "      <td>UBR5</td>\n",
              "      <td>-</td>\n",
              "      <td>DD5|EDD|EDD1|HYD</td>\n",
              "      <td>Affinity Capture-MS</td>\n",
              "      <td>physical</td>\n",
              "      <td>Mori J (2015)</td>\n",
              "      <td>PUBMED:26340541</td>\n",
              "      <td>32604</td>\n",
              "      <td>9606</td>\n",
              "      <td>High Throughput</td>\n",
              "      <td>-</td>\n",
              "      <td>-</td>\n",
              "      <td>-</td>\n",
              "      <td>-</td>\n",
              "      <td>BIOGRID</td>\n",
              "      <td>Q9QJ49</td>\n",
              "      <td>-</td>\n",
              "      <td>NP_050195</td>\n",
              "      <td>O95071</td>\n",
              "      <td>E7EMW7</td>\n",
              "      <td>NP_056986|NP_001269802</td>\n",
              "      <td>-</td>\n",
              "      <td>-</td>\n",
              "      <td>-</td>\n",
              "      <td>-</td>\n",
              "      <td>-</td>\n",
              "      <td>-</td>\n",
              "      <td>Human Herpesvirus 6B</td>\n",
              "      <td>Homo sapiens</td>\n",
              "    </tr>\n",
              "  </tbody>\n",
              "</table>\n",
              "</div>\n",
              "      <button class=\"colab-df-convert\" onclick=\"convertToInteractive('df-9f553dd3-ea11-4413-92f7-d6a10e5628df')\"\n",
              "              title=\"Convert this dataframe to an interactive table.\"\n",
              "              style=\"display:none;\">\n",
              "        \n",
              "  <svg xmlns=\"http://www.w3.org/2000/svg\" height=\"24px\"viewBox=\"0 0 24 24\"\n",
              "       width=\"24px\">\n",
              "    <path d=\"M0 0h24v24H0V0z\" fill=\"none\"/>\n",
              "    <path d=\"M18.56 5.44l.94 2.06.94-2.06 2.06-.94-2.06-.94-.94-2.06-.94 2.06-2.06.94zm-11 1L8.5 8.5l.94-2.06 2.06-.94-2.06-.94L8.5 2.5l-.94 2.06-2.06.94zm10 10l.94 2.06.94-2.06 2.06-.94-2.06-.94-.94-2.06-.94 2.06-2.06.94z\"/><path d=\"M17.41 7.96l-1.37-1.37c-.4-.4-.92-.59-1.43-.59-.52 0-1.04.2-1.43.59L10.3 9.45l-7.72 7.72c-.78.78-.78 2.05 0 2.83L4 21.41c.39.39.9.59 1.41.59.51 0 1.02-.2 1.41-.59l7.78-7.78 2.81-2.81c.8-.78.8-2.07 0-2.86zM5.41 20L4 18.59l7.72-7.72 1.47 1.35L5.41 20z\"/>\n",
              "  </svg>\n",
              "      </button>\n",
              "      \n",
              "  <style>\n",
              "    .colab-df-container {\n",
              "      display:flex;\n",
              "      flex-wrap:wrap;\n",
              "      gap: 12px;\n",
              "    }\n",
              "\n",
              "    .colab-df-convert {\n",
              "      background-color: #E8F0FE;\n",
              "      border: none;\n",
              "      border-radius: 50%;\n",
              "      cursor: pointer;\n",
              "      display: none;\n",
              "      fill: #1967D2;\n",
              "      height: 32px;\n",
              "      padding: 0 0 0 0;\n",
              "      width: 32px;\n",
              "    }\n",
              "\n",
              "    .colab-df-convert:hover {\n",
              "      background-color: #E2EBFA;\n",
              "      box-shadow: 0px 1px 2px rgba(60, 64, 67, 0.3), 0px 1px 3px 1px rgba(60, 64, 67, 0.15);\n",
              "      fill: #174EA6;\n",
              "    }\n",
              "\n",
              "    [theme=dark] .colab-df-convert {\n",
              "      background-color: #3B4455;\n",
              "      fill: #D2E3FC;\n",
              "    }\n",
              "\n",
              "    [theme=dark] .colab-df-convert:hover {\n",
              "      background-color: #434B5C;\n",
              "      box-shadow: 0px 1px 3px 1px rgba(0, 0, 0, 0.15);\n",
              "      filter: drop-shadow(0px 1px 2px rgba(0, 0, 0, 0.3));\n",
              "      fill: #FFFFFF;\n",
              "    }\n",
              "  </style>\n",
              "\n",
              "      <script>\n",
              "        const buttonEl =\n",
              "          document.querySelector('#df-9f553dd3-ea11-4413-92f7-d6a10e5628df button.colab-df-convert');\n",
              "        buttonEl.style.display =\n",
              "          google.colab.kernel.accessAllowed ? 'block' : 'none';\n",
              "\n",
              "        async function convertToInteractive(key) {\n",
              "          const element = document.querySelector('#df-9f553dd3-ea11-4413-92f7-d6a10e5628df');\n",
              "          const dataTable =\n",
              "            await google.colab.kernel.invokeFunction('convertToInteractive',\n",
              "                                                     [key], {});\n",
              "          if (!dataTable) return;\n",
              "\n",
              "          const docLinkHtml = 'Like what you see? Visit the ' +\n",
              "            '<a target=\"_blank\" href=https://colab.research.google.com/notebooks/data_table.ipynb>data table notebook</a>'\n",
              "            + ' to learn more about interactive tables.';\n",
              "          element.innerHTML = '';\n",
              "          dataTable['output_type'] = 'display_data';\n",
              "          await google.colab.output.renderOutput(dataTable, element);\n",
              "          const docLink = document.createElement('div');\n",
              "          docLink.innerHTML = docLinkHtml;\n",
              "          element.appendChild(docLink);\n",
              "        }\n",
              "      </script>\n",
              "    </div>\n",
              "  </div>\n",
              "  "
            ],
            "text/plain": [
              "   #BioGRID Interaction ID  ...  Organism Name Interactor B\n",
              "0                   692396  ...                Homo sapiens\n",
              "1                   734278  ...                Homo sapiens\n",
              "2                  2347266  ...                Homo sapiens\n",
              "3                  2347267  ...                Homo sapiens\n",
              "\n",
              "[4 rows x 37 columns]"
            ]
          },
          "metadata": {},
          "execution_count": 9
        }
      ],
      "source": [
        "pd.read_csv('BIOGRID-ORGANISM-Human_Herpesvirus_6B-4.4.205.tab3.txt', sep='\\t')"
      ]
    },
    {
      "cell_type": "markdown",
      "metadata": {
        "id": "eFauObNbQTEc"
      },
      "source": [
        "We drew a figure showing all interactions.\n",
        "- 7 Nodes\n",
        "- 4 edges\n",
        "- size of largest component: 3 nodes, 2 edges\n"
      ]
    },
    {
      "cell_type": "markdown",
      "metadata": {
        "id": "GtQQ5KqpQrXA"
      },
      "source": [
        "## Subexercise 2.2.2 Write a program to Construct PPINs from a BIOGRID file\n",
        "Write a program that reads the file `BIOGRID-ORGANISM-Human_Herpesvirus_6B-4.4.205.tab3.txt` and creates a NETWORKX graph from it."
      ]
    },
    {
      "cell_type": "code",
      "execution_count": null,
      "metadata": {
        "id": "5F0FijSuQ4In"
      },
      "outputs": [],
      "source": [
        "import networkx as nx # For networks\n",
        "import numpy as np\n",
        "import matplotlib.pyplot as plt\n",
        "import seaborn as sns\n",
        "sns.set_context(\"notebook\")"
      ]
    },
    {
      "cell_type": "code",
      "execution_count": null,
      "metadata": {
        "id": "JEJ5JdibRVyS",
        "colab": {
          "base_uri": "https://localhost:8080/"
        },
        "outputId": "2acfdff8-508c-4e07-f1c1-55cf7de54fbf"
      },
      "outputs": [
        {
          "output_type": "stream",
          "name": "stdout",
          "text": [
            "Number of nodes: 7\n",
            "Number of edges: 4\n"
          ]
        }
      ],
      "source": [
        "G_herpes = nx.from_pandas_edgelist(pd.read_csv('BIOGRID-ORGANISM-Human_Herpesvirus_6B-4.4.205.tab3.txt', sep='\\t'),\n",
        "                                   source='BioGRID ID Interactor A', target='BioGRID ID Interactor B')\n",
        "print(\"Number of nodes:\",G_herpes.number_of_nodes())\n",
        "print(\"Number of edges:\",G_herpes.number_of_edges())"
      ]
    },
    {
      "cell_type": "code",
      "execution_count": null,
      "metadata": {
        "id": "AQvvy6znTIC3",
        "colab": {
          "base_uri": "https://localhost:8080/",
          "height": 319
        },
        "outputId": "76893e56-a33b-4aa1-e4c2-31034390abd1"
      },
      "outputs": [
        {
          "output_type": "display_data",
          "data": {
            "image/png": "[encoded data removed]",
            "text/plain": [
              "<Figure size 432x288 with 1 Axes>"
            ]
          },
          "metadata": {}
        }
      ],
      "source": [
        "nx.draw(G_herpes)"
      ]
    },
    {
      "cell_type": "markdown",
      "metadata": {
        "id": "wEkdi7RGTVf6"
      },
      "source": [
        "## Subexercise 2.2.3 Use NetworkX to Illustrate Graphs\n",
        "Create a new program that draws the PPIN of Herpesvirus 6B by using NetworkX.\n",
        "\n",
        "**Question: Is this network the same as the one you drew? If not, check for\n",
        "errors**"
      ]
    },
    {
      "cell_type": "code",
      "execution_count": null,
      "metadata": {
        "id": "1MdjTu_aTVJU",
        "colab": {
          "base_uri": "https://localhost:8080/",
          "height": 319
        },
        "outputId": "78ae74d0-47bc-40e6-ff61-6eb6946dce5a"
      },
      "outputs": [
        {
          "output_type": "display_data",
          "data": {
            "image/png": "[encoded data removed]",
            "text/plain": [
              "<Figure size 432x288 with 1 Axes>"
            ]
          },
          "metadata": {}
        }
      ],
      "source": [
        "G_herpes = nx.from_pandas_edgelist(pd.read_csv('BIOGRID-ORGANISM-Human_Herpesvirus_6B-4.4.205.tab3.txt', sep='\\t'),\n",
        "                                   source='BioGRID ID Interactor A', target='BioGRID ID Interactor B')\n",
        "nx.draw(G_herpes)"
      ]
    },
    {
      "cell_type": "markdown",
      "metadata": {
        "id": "_5fOjBh-Tm4h"
      },
      "source": [
        "The layout is different. This happens, because the default spring layout is not consistent in drawing."
      ]
    },
    {
      "cell_type": "markdown",
      "metadata": {
        "id": "n3g4pViRUFLY"
      },
      "source": [
        "## Subexercise 2.2.4 Create PPINs for other Organisms\n",
        "Thus far, we wrote a program that constructs a PPIN for a single organism. Create a new version of your program that takes a file name as an input and so is able to create a PIN of any of the 79 organisms."
      ]
    },
    {
      "cell_type": "code",
      "execution_count": null,
      "metadata": {
        "id": "nIJ7o05LULW_",
        "colab": {
          "base_uri": "https://localhost:8080/",
          "height": 266
        },
        "outputId": "46ab85ca-be4f-4574-8730-3d5c38e7709b"
      },
      "outputs": [
        {
          "output_type": "display_data",
          "data": {
            "image/png": "[encoded data removed]",
            "text/plain": [
              "<Figure size 576x288 with 1 Axes>"
            ]
          },
          "metadata": {}
        }
      ],
      "source": [
        "inputname=\"BIOGRID-ORGANISM-Chlorocebus_sabaeus-4.4.205.tab3.txt\"\n",
        "G = nx.from_pandas_edgelist(pd.read_csv(inputname, sep='\\t'),\n",
        "                            source='BioGRID ID Interactor A', target='BioGRID ID Interactor B',\n",
        "                            )\n",
        "pos = nx.spring_layout(G, seed=3)\n",
        "fig, ax = plt.subplots(figsize=(8, 4))\n",
        "nx.draw_networkx_nodes(G, pos, ax=ax, node_size=20)\n",
        "nx.draw_networkx_edges(G, pos, ax=ax)\n",
        "ax.set_title(\"The protein interaction network of $\\it{Chlorocebus\\ sabaeus}$\")\n",
        "ax.set_axis_off()"
      ]
    },
    {
      "cell_type": "markdown",
      "metadata": {
        "id": "I4zasSBvUqEs"
      },
      "source": [
        "If `inputname` is changed, the given file will be read and the graph is shown.\n",
        "This example execution shows the network of _Chlorocebus sabaeus_."
      ]
    },
    {
      "cell_type": "markdown",
      "metadata": {
        "id": "tskvbvlWU3K3"
      },
      "source": [
        "##Subexercise 2.2.5 Cleaning PPINs\n",
        "Adapt you program such that it removes parallel edges (multiple edges connecting\n",
        "the same pair of nodes) and self-loops (edges connecting a node to itself)"
      ]
    },
    {
      "cell_type": "markdown",
      "metadata": {
        "id": "CCwv89aiWZhu"
      },
      "source": [
        "We apply this to the graph from the task above."
      ]
    },
    {
      "cell_type": "code",
      "execution_count": null,
      "metadata": {
        "id": "gkLf-9KjWWnX",
        "colab": {
          "base_uri": "https://localhost:8080/"
        },
        "outputId": "c90e5256-793e-4b68-edcc-bf935c76389b"
      },
      "outputs": [
        {
          "output_type": "stream",
          "name": "stdout",
          "text": [
            "There are 2 selfloops.\n"
          ]
        }
      ],
      "source": [
        "print(\"There are\", nx.number_of_selfloops(G), \"selfloops.\")\n",
        "G.remove_edges_from(nx.selfloop_edges(G))"
      ]
    },
    {
      "cell_type": "markdown",
      "metadata": {
        "id": "31Wq3jlBYxYN"
      },
      "source": [
        "There are no parallel edges, since undirected Graphs don't have them according to the definition. `NetworkX´ does not allow them either (see: [Doc](https://networkx.org/documentation/stable/reference/classes/graph.html))."
      ]
    },
    {
      "cell_type": "markdown",
      "metadata": {
        "id": "ub4ZLKZfYDKZ"
      },
      "source": [
        "Now we draw:"
      ]
    },
    {
      "cell_type": "code",
      "execution_count": null,
      "metadata": {
        "id": "DdRwYevSYEeA",
        "colab": {
          "base_uri": "https://localhost:8080/",
          "height": 266
        },
        "outputId": "c4e1998b-e98e-4848-972b-9764b540f9b2"
      },
      "outputs": [
        {
          "output_type": "display_data",
          "data": {
            "image/png": "[encoded data removed]",
            "text/plain": [
              "<Figure size 576x288 with 1 Axes>"
            ]
          },
          "metadata": {}
        }
      ],
      "source": [
        "pos = nx.spring_layout(G, seed=3)\n",
        "fig, ax = plt.subplots(figsize=(8,4))\n",
        "nx.draw_networkx_nodes(G, pos, ax=ax, node_size=20)\n",
        "nx.draw_networkx_edges(G, pos, ax=ax)\n",
        "ax.set_title(\"The protein interaction network of $\\it{Chlorocebus\\ sabaeus}$\")\n",
        "ax.set_axis_off()"
      ]
    },
    {
      "cell_type": "markdown",
      "metadata": {
        "id": "NUJqZfY9ZGkY"
      },
      "source": [
        "# Exercise 2.3 Analysis of the human protein interaction network\n",
        "After defining a function that constructs protein interaction networks from BI-\n",
        "OGRID we will now analyse the network for Homo Sapiens. First, use your pro-\n",
        "gramme to construct the PIN for Homo Sapiens."
      ]
    },
    {
      "cell_type": "code",
      "execution_count": null,
      "metadata": {
        "colab": {
          "base_uri": "https://localhost:8080/"
        },
        "id": "0jugFsHJZNsa",
        "outputId": "d814dd9e-d77c-442c-d347-93654b8775bf"
      },
      "outputs": [
        {
          "output_type": "stream",
          "name": "stderr",
          "text": [
            "/usr/local/lib/python3.7/dist-packages/IPython/core/interactiveshell.py:2718: DtypeWarning: Columns (1,2,18) have mixed types.Specify dtype option on import or set low_memory=False.\n",
            "  interactivity=interactivity, compiler=compiler, result=result)\n"
          ]
        }
      ],
      "source": [
        "inputname=\"BIOGRID-ORGANISM-Homo_sapiens-4.4.205.tab3.txt\"\n",
        "G = nx.from_pandas_edgelist(pd.read_csv(inputname, sep='\\t'),\n",
        "                            source='BioGRID ID Interactor A', target='BioGRID ID Interactor B')\n",
        "G.remove_edges_from(nx.selfloop_edges(G))"
      ]
    },
    {
      "cell_type": "code",
      "source": [
        "print(\"Number of nodes:\",G.number_of_nodes())\n",
        "print(\"Number of edges:\",G.number_of_edges())"
      ],
      "metadata": {
        "colab": {
          "base_uri": "https://localhost:8080/"
        },
        "id": "UpsTCXl2M9m0",
        "outputId": "e421b549-3432-417c-912b-75160b40ff91"
      },
      "execution_count": null,
      "outputs": [
        {
          "output_type": "stream",
          "name": "stdout",
          "text": [
            "Number of nodes: 27274\n",
            "Number of edges: 732761\n"
          ]
        }
      ]
    },
    {
      "cell_type": "markdown",
      "metadata": {
        "id": "RvVlsafrZmG7"
      },
      "source": [
        "## Subexercise 2.3.1 Largest component\n",
        "Identify the largest component and what percentage of nodes are in it. For the\n",
        "remainder of this work, work only with the largest component."
      ]
    },
    {
      "cell_type": "code",
      "execution_count": null,
      "metadata": {
        "id": "UQu28hRuaDM6"
      },
      "outputs": [],
      "source": [
        "Gcc = G.subgraph(sorted(nx.connected_components(G), key=len, reverse=True)[0])"
      ]
    },
    {
      "cell_type": "code",
      "execution_count": 110,
      "metadata": {
        "id": "rP-fsbMyZQs1",
        "colab": {
          "base_uri": "https://localhost:8080/",
          "height": 538
        },
        "outputId": "33aff029-730d-4fae-e0b8-d4520fd39cbb"
      },
      "outputs": [
        {
          "output_type": "display_data",
          "data": {
            "image/png": "[encoded data removed]",
            "text/plain": [
              "<Figure size 1152x648 with 1 Axes>"
            ]
          },
          "metadata": {}
        }
      ],
      "source": [
        "pos = nx.spring_layout(Gcc, seed=3)\n",
        "fig, ax = plt.subplots(figsize=(16, 9))\n",
        "nx.draw_networkx_nodes(Gcc, pos, ax=ax, node_size=20)\n",
        "nx.draw_networkx_edges(Gcc, pos, ax=ax)\n",
        "ax.set_title(\"The protein interaction network of $\\it{Homo\\ Sapiens}$\")\n",
        "ax.set_axis_off()"
      ]
    },
    {
      "cell_type": "code",
      "execution_count": null,
      "metadata": {
        "id": "qea5aC7gat9y",
        "colab": {
          "base_uri": "https://localhost:8080/"
        },
        "outputId": "fd0dab3d-2ac9-4094-a16b-f61920869bb8"
      },
      "outputs": [
        {
          "output_type": "stream",
          "name": "stdout",
          "text": [
            "The size of the whole network is 27274\n",
            "The size of the largest connected component is 27269\n",
            "Therefore, approximately 99.98166752218229 % of all nodes are in the largest connected component.\n"
          ]
        }
      ],
      "source": [
        "sizeWholeNetwork = G.number_of_nodes()\n",
        "sizeLargestConnectedComponent = Gcc.number_of_nodes()\n",
        "\n",
        "print('The size of the whole network is', sizeWholeNetwork)\n",
        "print('The size of the largest connected component is', sizeLargestConnectedComponent)\n",
        "print('Therefore, approximately', 100*sizeLargestConnectedComponent/sizeWholeNetwork, '% of all nodes are in the largest connected component.')"
      ]
    },
    {
      "cell_type": "code",
      "source": [
        "print(\"Number of nodes:\",Gcc.number_of_nodes())\n",
        "print(\"Number of edges:\",Gcc.number_of_edges())"
      ],
      "metadata": {
        "colab": {
          "base_uri": "https://localhost:8080/"
        },
        "id": "tLiWSJU3NEHc",
        "outputId": "3a51229a-e16b-4905-c5d0-c96a6fe2d95a"
      },
      "execution_count": null,
      "outputs": [
        {
          "output_type": "stream",
          "name": "stdout",
          "text": [
            "Number of nodes: 27269\n",
            "Number of edges: 732760\n"
          ]
        }
      ]
    },
    {
      "cell_type": "markdown",
      "metadata": {
        "id": "JSJ401sCZplE"
      },
      "source": [
        "## Subexercise 2.3.2 Degree distribution\n",
        "Compute the mean degree and illustrate the degree distribution. Does the degree\n",
        "distribution resemble the one of an Erdös–Rényi (ER) network?"
      ]
    },
    {
      "cell_type": "code",
      "execution_count": null,
      "metadata": {
        "id": "ZfypwD8Ea-RY",
        "colab": {
          "base_uri": "https://localhost:8080/"
        },
        "outputId": "a46d90bf-b2e2-43f7-ac11-7ccf9421c37e"
      },
      "outputs": [
        {
          "output_type": "stream",
          "name": "stdout",
          "text": [
            "The mean degree of nodes is 53.74307822069016\n"
          ]
        }
      ],
      "source": [
        "meanDegree = 2*Gcc.number_of_edges()/Gcc.number_of_nodes()\n",
        "print('The mean degree of nodes is', meanDegree)"
      ]
    },
    {
      "cell_type": "code",
      "execution_count": null,
      "metadata": {
        "id": "eLgjRsPmbDKF",
        "colab": {
          "base_uri": "https://localhost:8080/",
          "height": 293
        },
        "outputId": "96f9a3ea-91bf-4bf8-85e7-22fa1ba8a209"
      },
      "outputs": [
        {
          "output_type": "display_data",
          "data": {
            "image/png": "[encoded data removed]",
            "text/plain": [
              "<Figure size 576x288 with 1 Axes>"
            ]
          },
          "metadata": {
            "needs_background": "light"
          }
        }
      ],
      "source": [
        "degree_sequence = sorted([d for n, d in Gcc.degree()], reverse=True)\n",
        "dmax = max(degree_sequence)\n",
        "\n",
        "fig, ax = plt.subplots(figsize=(8, 4))\n",
        "ax.bar(*np.unique(degree_sequence, return_counts=True),color='#001146')\n",
        "ax.set_title(\"Degree Distribution\")\n",
        "ax.set_xlabel(\"Degree\")\n",
        "ax.set_ylabel(\"Number of Nodes\")\n",
        "ax.set_yscale('log')\n",
        "ax.vlines(meanDegree,0,10**4,linestyles='dashed',label='mean degree',color='r')\n",
        "ax.set_ylim(top=10**3)\n",
        "\n",
        "fig.tight_layout()\n",
        "\n",
        "plt.show()"
      ]
    },
    {
      "cell_type": "markdown",
      "metadata": {
        "id": "uKAXn1LJZsnq"
      },
      "source": [
        "## Subexercise 2.3.3 Centrality measures\n",
        "Identify the hubs in the network. For this, compute at least two different centrality measures. Give their proper definitions with references in the write-up. Discuss the top-ranked proteins for different centrality measures. Do you find the identical proteins with different measures? Illustrate the centralities of the proteins in a scatterplot and compute the correlation between the centralities. Discuss your findings."
      ]
    },
    {
      "cell_type": "markdown",
      "metadata": {
        "id": "4Fgq8wlAeSsk"
      },
      "source": [
        "We use the degree centrality and the eigenvector centrality to identify the hubs. (See: [Linktext](https://networkx.org/documentation/stable/reference/algorithms/centrality.html))"
      ]
    },
    {
      "cell_type": "code",
      "execution_count": null,
      "metadata": {
        "id": "F5PYAtexZ130"
      },
      "outputs": [],
      "source": [
        "centrality_df = pd.DataFrame(Gcc.nodes,columns=['protein'])"
      ]
    },
    {
      "cell_type": "code",
      "source": [
        "centrality_df['closeness'] = nx.eigenvector_centrality(Gcc).values()"
      ],
      "metadata": {
        "id": "-11Cx_tOwN_k"
      },
      "execution_count": null,
      "outputs": []
    },
    {
      "cell_type": "code",
      "source": [
        "centrality_df['degree'] = nx.degree_centrality(Gcc).values()"
      ],
      "metadata": {
        "id": "aAC_F-gnwP4K"
      },
      "execution_count": null,
      "outputs": []
    },
    {
      "cell_type": "code",
      "execution_count": null,
      "metadata": {
        "id": "HIBWYwTueJ3_",
        "colab": {
          "base_uri": "https://localhost:8080/",
          "height": 424
        },
        "outputId": "bb98d783-c782-42df-d39b-2c111b72f005"
      },
      "outputs": [
        {
          "output_type": "execute_result",
          "data": {
            "text/html": [
              "\n",
              "  <div id=\"df-3eaf982b-37bb-42f8-9dcf-8ab6fd986328\">\n",
              "    <div class=\"colab-df-container\">\n",
              "      <div>\n",
              "<style scoped>\n",
              "    .dataframe tbody tr th:only-of-type {\n",
              "        vertical-align: middle;\n",
              "    }\n",
              "\n",
              "    .dataframe tbody tr th {\n",
              "        vertical-align: top;\n",
              "    }\n",
              "\n",
              "    .dataframe thead th {\n",
              "        text-align: right;\n",
              "    }\n",
              "</style>\n",
              "<table border=\"1\" class=\"dataframe\">\n",
              "  <thead>\n",
              "    <tr style=\"text-align: right;\">\n",
              "      <th></th>\n",
              "      <th>protein</th>\n",
              "      <th>closeness</th>\n",
              "      <th>degree</th>\n",
              "    </tr>\n",
              "  </thead>\n",
              "  <tbody>\n",
              "    <tr>\n",
              "      <th>5943</th>\n",
              "      <td>121697</td>\n",
              "      <td>1.050037e-01</td>\n",
              "      <td>0.108846</td>\n",
              "    </tr>\n",
              "    <tr>\n",
              "      <th>10195</th>\n",
              "      <td>117452</td>\n",
              "      <td>8.165155e-02</td>\n",
              "      <td>0.106829</td>\n",
              "    </tr>\n",
              "    <tr>\n",
              "      <th>6611</th>\n",
              "      <td>113500</td>\n",
              "      <td>6.906061e-02</td>\n",
              "      <td>0.090472</td>\n",
              "    </tr>\n",
              "    <tr>\n",
              "      <th>17</th>\n",
              "      <td>106848</td>\n",
              "      <td>4.698159e-02</td>\n",
              "      <td>0.083981</td>\n",
              "    </tr>\n",
              "    <tr>\n",
              "      <th>736</th>\n",
              "      <td>108404</td>\n",
              "      <td>7.344654e-02</td>\n",
              "      <td>0.083651</td>\n",
              "    </tr>\n",
              "    <tr>\n",
              "      <th>...</th>\n",
              "      <td>...</td>\n",
              "      <td>...</td>\n",
              "      <td>...</td>\n",
              "    </tr>\n",
              "    <tr>\n",
              "      <th>27085</th>\n",
              "      <td>126034</td>\n",
              "      <td>9.176227e-08</td>\n",
              "      <td>0.000037</td>\n",
              "    </tr>\n",
              "    <tr>\n",
              "      <th>25605</th>\n",
              "      <td>133388</td>\n",
              "      <td>7.532792e-08</td>\n",
              "      <td>0.000037</td>\n",
              "    </tr>\n",
              "    <tr>\n",
              "      <th>24408</th>\n",
              "      <td>248698</td>\n",
              "      <td>7.437023e-08</td>\n",
              "      <td>0.000037</td>\n",
              "    </tr>\n",
              "    <tr>\n",
              "      <th>20908</th>\n",
              "      <td>136533</td>\n",
              "      <td>6.409686e-08</td>\n",
              "      <td>0.000037</td>\n",
              "    </tr>\n",
              "    <tr>\n",
              "      <th>9929</th>\n",
              "      <td>127827</td>\n",
              "      <td>2.124956e-08</td>\n",
              "      <td>0.000037</td>\n",
              "    </tr>\n",
              "  </tbody>\n",
              "</table>\n",
              "<p>27269 rows × 3 columns</p>\n",
              "</div>\n",
              "      <button class=\"colab-df-convert\" onclick=\"convertToInteractive('df-3eaf982b-37bb-42f8-9dcf-8ab6fd986328')\"\n",
              "              title=\"Convert this dataframe to an interactive table.\"\n",
              "              style=\"display:none;\">\n",
              "        \n",
              "  <svg xmlns=\"http://www.w3.org/2000/svg\" height=\"24px\"viewBox=\"0 0 24 24\"\n",
              "       width=\"24px\">\n",
              "    <path d=\"M0 0h24v24H0V0z\" fill=\"none\"/>\n",
              "    <path d=\"M18.56 5.44l.94 2.06.94-2.06 2.06-.94-2.06-.94-.94-2.06-.94 2.06-2.06.94zm-11 1L8.5 8.5l.94-2.06 2.06-.94-2.06-.94L8.5 2.5l-.94 2.06-2.06.94zm10 10l.94 2.06.94-2.06 2.06-.94-2.06-.94-.94-2.06-.94 2.06-2.06.94z\"/><path d=\"M17.41 7.96l-1.37-1.37c-.4-.4-.92-.59-1.43-.59-.52 0-1.04.2-1.43.59L10.3 9.45l-7.72 7.72c-.78.78-.78 2.05 0 2.83L4 21.41c.39.39.9.59 1.41.59.51 0 1.02-.2 1.41-.59l7.78-7.78 2.81-2.81c.8-.78.8-2.07 0-2.86zM5.41 20L4 18.59l7.72-7.72 1.47 1.35L5.41 20z\"/>\n",
              "  </svg>\n",
              "      </button>\n",
              "      \n",
              "  <style>\n",
              "    .colab-df-container {\n",
              "      display:flex;\n",
              "      flex-wrap:wrap;\n",
              "      gap: 12px;\n",
              "    }\n",
              "\n",
              "    .colab-df-convert {\n",
              "      background-color: #E8F0FE;\n",
              "      border: none;\n",
              "      border-radius: 50%;\n",
              "      cursor: pointer;\n",
              "      display: none;\n",
              "      fill: #1967D2;\n",
              "      height: 32px;\n",
              "      padding: 0 0 0 0;\n",
              "      width: 32px;\n",
              "    }\n",
              "\n",
              "    .colab-df-convert:hover {\n",
              "      background-color: #E2EBFA;\n",
              "      box-shadow: 0px 1px 2px rgba(60, 64, 67, 0.3), 0px 1px 3px 1px rgba(60, 64, 67, 0.15);\n",
              "      fill: #174EA6;\n",
              "    }\n",
              "\n",
              "    [theme=dark] .colab-df-convert {\n",
              "      background-color: #3B4455;\n",
              "      fill: #D2E3FC;\n",
              "    }\n",
              "\n",
              "    [theme=dark] .colab-df-convert:hover {\n",
              "      background-color: #434B5C;\n",
              "      box-shadow: 0px 1px 3px 1px rgba(0, 0, 0, 0.15);\n",
              "      filter: drop-shadow(0px 1px 2px rgba(0, 0, 0, 0.3));\n",
              "      fill: #FFFFFF;\n",
              "    }\n",
              "  </style>\n",
              "\n",
              "      <script>\n",
              "        const buttonEl =\n",
              "          document.querySelector('#df-3eaf982b-37bb-42f8-9dcf-8ab6fd986328 button.colab-df-convert');\n",
              "        buttonEl.style.display =\n",
              "          google.colab.kernel.accessAllowed ? 'block' : 'none';\n",
              "\n",
              "        async function convertToInteractive(key) {\n",
              "          const element = document.querySelector('#df-3eaf982b-37bb-42f8-9dcf-8ab6fd986328');\n",
              "          const dataTable =\n",
              "            await google.colab.kernel.invokeFunction('convertToInteractive',\n",
              "                                                     [key], {});\n",
              "          if (!dataTable) return;\n",
              "\n",
              "          const docLinkHtml = 'Like what you see? Visit the ' +\n",
              "            '<a target=\"_blank\" href=https://colab.research.google.com/notebooks/data_table.ipynb>data table notebook</a>'\n",
              "            + ' to learn more about interactive tables.';\n",
              "          element.innerHTML = '';\n",
              "          dataTable['output_type'] = 'display_data';\n",
              "          await google.colab.output.renderOutput(dataTable, element);\n",
              "          const docLink = document.createElement('div');\n",
              "          docLink.innerHTML = docLinkHtml;\n",
              "          element.appendChild(docLink);\n",
              "        }\n",
              "      </script>\n",
              "    </div>\n",
              "  </div>\n",
              "  "
            ],
            "text/plain": [
              "       protein     closeness    degree\n",
              "5943    121697  1.050037e-01  0.108846\n",
              "10195   117452  8.165155e-02  0.106829\n",
              "6611    113500  6.906061e-02  0.090472\n",
              "17      106848  4.698159e-02  0.083981\n",
              "736     108404  7.344654e-02  0.083651\n",
              "...        ...           ...       ...\n",
              "27085   126034  9.176227e-08  0.000037\n",
              "25605   133388  7.532792e-08  0.000037\n",
              "24408   248698  7.437023e-08  0.000037\n",
              "20908   136533  6.409686e-08  0.000037\n",
              "9929    127827  2.124956e-08  0.000037\n",
              "\n",
              "[27269 rows x 3 columns]"
            ]
          },
          "metadata": {},
          "execution_count": 36
        }
      ],
      "source": [
        "centrality_df.sort_values(['degree', 'closeness'], ascending=False)"
      ]
    },
    {
      "cell_type": "code",
      "execution_count": null,
      "metadata": {
        "id": "R6Z-lg7WelwO",
        "colab": {
          "base_uri": "https://localhost:8080/",
          "height": 365
        },
        "outputId": "ce05e785-1779-4f40-a352-39c728be54f1"
      },
      "outputs": [
        {
          "output_type": "display_data",
          "data": {
            "image/png": "[encoded data removed]",
            "text/plain": [
              "<Figure size 360x360 with 1 Axes>"
            ]
          },
          "metadata": {
            "needs_background": "light"
          }
        }
      ],
      "source": [
        "fig, ax = plt.subplots(figsize=(5, 5))\n",
        "plt.scatter(x=centrality_df['closeness'], \n",
        "            y=centrality_df['degree'],\n",
        "           alpha=0.3)\n",
        "#ax.set_yscale('log')\n",
        "#ax.set_xscale('log')\n",
        "ax.set_title(\"Correlation between Centrality-Measures\")\n",
        "ax.set_xlabel(\"Closeness Centrality\")\n",
        "ax.set_ylabel(\"Degree Centrality\")\n",
        "fig.tight_layout()\n",
        "\n",
        "plt.show()"
      ]
    },
    {
      "cell_type": "markdown",
      "source": [
        "We also calculate the correlation between both measures. For this, the [`corr`](https://pandas.pydata.org/pandas-docs/stable/reference/api/pandas.Series.corr.html) function is used. "
      ],
      "metadata": {
        "id": "hulu1oDSG8R_"
      }
    },
    {
      "cell_type": "code",
      "source": [
        "centrality_df['closeness'].corr(centrality_df['degree'])"
      ],
      "metadata": {
        "colab": {
          "base_uri": "https://localhost:8080/"
        },
        "id": "WvFh3IWLHBZi",
        "outputId": "15afaff3-04b1-45b8-ca6b-8a78cb93125d"
      },
      "execution_count": null,
      "outputs": [
        {
          "output_type": "execute_result",
          "data": {
            "text/plain": [
              "0.9182610715629449"
            ]
          },
          "metadata": {},
          "execution_count": 31
        }
      ]
    },
    {
      "cell_type": "markdown",
      "metadata": {
        "id": "ozMIS7j9Zy-_"
      },
      "source": [
        "## Subexercise 2.3.4 Clustering coefficient\n",
        "Compute the average clustering coefficient for the PIN. Compare the result with\n",
        "the values that you obtain for an ER network and a lattice network of same size\n",
        "(i.e., number of nodes) and similar density."
      ]
    },
    {
      "cell_type": "code",
      "execution_count": null,
      "metadata": {
        "id": "dfWv2_VwjuYi"
      },
      "outputs": [],
      "source": [
        "#G_er =      nx.generators.random_graphs.erdos_renyi_graph(Gcc.number_of_nodes(), p=0.001) # too much ram\n",
        "G_er =      nx.generators.random_graphs.fast_gnp_random_graph(Gcc.number_of_nodes(), p=0.002) \n",
        "G_lattice = nx.generators.lattice.triangular_lattice_graph(m=165, n=400)"
      ]
    },
    {
      "cell_type": "code",
      "source": [
        "print(\"Number of nodes for ER:\", G_er.number_of_nodes())\n",
        "print(\"Number of edges for ER:\", G_er.number_of_edges())\n",
        "print(\"Number of nodes for Lattice:\", G_lattice.number_of_nodes())\n",
        "print(\"Number of edges for Lattice:\", G_lattice.number_of_edges())"
      ],
      "metadata": {
        "colab": {
          "base_uri": "https://localhost:8080/"
        },
        "id": "SZabh2DXKfkg",
        "outputId": "82191a64-7c82-4760-bfe3-cfbbe42cfefa"
      },
      "execution_count": null,
      "outputs": [
        {
          "output_type": "stream",
          "name": "stdout",
          "text": [
            "Number of nodes for ER: 27269\n",
            "Number of edges for ER: 743393\n",
            "Number of nodes for Lattice: 33366\n",
            "Number of edges for Lattice: 99365\n"
          ]
        }
      ]
    },
    {
      "cell_type": "code",
      "execution_count": null,
      "metadata": {
        "id": "XriZltZBgFxO",
        "colab": {
          "base_uri": "https://localhost:8080/"
        },
        "outputId": "19078bcf-f218-46ef-d318-10ce2bd1d7da"
      },
      "outputs": [
        {
          "output_type": "stream",
          "name": "stdout",
          "text": [
            "The Clustering Coefficient for the Human Network is 0.10643123728372343\n",
            "The Clustering Coefficient for the ER Network is 0.00199945115664579\n",
            "The Clustering Coefficient for the lattice Network is 0.40255549561406706\n"
          ]
        }
      ],
      "source": [
        "clusterings = [nx.average_clustering(G) for G in [Gcc, G_er, G_lattice]]\n",
        "print(\"The Clustering Coefficient for the Human Network is\", clusterings[0])\n",
        "print(\"The Clustering Coefficient for the ER Network is\", clusterings[1])\n",
        "print(\"The Clustering Coefficient for the lattice Network is\", clusterings[2])"
      ]
    },
    {
      "cell_type": "markdown",
      "metadata": {
        "id": "pPtD4YnxZ2bs"
      },
      "source": [
        "# Exercise 2.4 Average path lengths\n",
        "Next, we want to compute the average path lengths in the protein interaction network and compare it with ER and lattice networks. Fortunately, NETWORKX has\n",
        "a function called `AVERAGE_SHORTEST_PATH_LENGTH` for this. Unfortunately, computing the shortest paths between all pairs of nodes is very slow for large networks. To speed up the computation, we will use a common trick: subsampling, which means that we do not compute the average path length over all pairs of nodes but rather just a random sample (e.g., 500 pairs of nodes). Write a function that does this and compute the approximate average shortest path lengths for ER, Lattice, and PIN. Discuss your findings."
      ]
    },
    {
      "cell_type": "code",
      "execution_count": null,
      "metadata": {
        "id": "Nz5ra5zygRj7"
      },
      "outputs": [],
      "source": [
        "def sub_average_path(G, sample_size=1000):\n",
        "  print(\"Start\")\n",
        "  nodes=np.array(G.nodes)\n",
        "  # print(nodes)\n",
        "  if nodes.ndim != 1: # is a lattice graph\n",
        "    #random_indices = np.random.choice(nodes.shape[0], size=2, replace=False)\n",
        "    #random_rows = nodes[random_indices, :]\n",
        "    sub_G = nx.generators.lattice.triangular_lattice_graph(int(sample_size/10), n=10)\n",
        "  else:\n",
        "    random_rows = np.random.choice(G.nodes, sample_size)\n",
        "    sub_G = G.subgraph(random_rows)\n",
        "  sub_Gcc = sub_G.subgraph(max(nx.connected_components(sub_G), key=len))\n",
        "  print(\"Number of nodes for Subgraph:\", sub_G.number_of_nodes())\n",
        "  print(\"Number of edges for Subgraph:\", sub_G.number_of_edges())\n",
        "  print(\"Number of edges for Subgraph_cc:\", sub_Gcc.number_of_nodes())\n",
        "  print(\"Number of edges for Subgraph_cc:\", sub_Gcc.number_of_edges())\n",
        "  res = nx.average_shortest_path_length(sub_Gcc)\n",
        "  print(\"Average shortest Paths\", nx.average_shortest_path_length(sub_Gcc))\n",
        "  #([len(c) for c in nx.connected_components(sub_G)])\n",
        "  #([len(c) for c in nx.connected_components(sub_Gcc)])\n",
        "  return res\n"
      ]
    },
    {
      "cell_type": "code",
      "execution_count": null,
      "metadata": {
        "id": "2x4UKhH5jGoK",
        "colab": {
          "base_uri": "https://localhost:8080/"
        },
        "outputId": "1ae08531-bc5e-41e5-ef9e-4c00b7105f6e"
      },
      "outputs": [
        {
          "output_type": "stream",
          "name": "stdout",
          "text": [
            "Start\n",
            "Number of nodes for Subgraph: 987\n",
            "Number of edges for Subgraph: 814\n",
            "Number of edges for Subgraph_cc: 464\n",
            "Number of edges for Subgraph_cc: 810\n",
            "Average shortest Paths 4.532090191405377\n",
            "Start\n",
            "Number of nodes for Subgraph: 981\n",
            "Number of edges for Subgraph: 948\n",
            "Number of edges for Subgraph_cc: 777\n",
            "Number of edges for Subgraph_cc: 904\n",
            "Average shortest Paths 9.828288155607742\n",
            "Start\n",
            "Number of nodes for Subgraph: 606\n",
            "Number of edges for Subgraph: 1605\n",
            "Number of edges for Subgraph_cc: 606\n",
            "Number of edges for Subgraph_cc: 1605\n",
            "Average shortest Paths 33.83207593486621\n",
            "The human network has an average shortest path length of 4.532090191405377\n",
            "The ER network has an average shortest path length of 9.828288155607742\n",
            "The Lattice network has an average shortest path length of 33.83207593486621\n"
          ]
        }
      ],
      "source": [
        "averages=[0,0,0]\n",
        "averages[0]=sub_average_path(Gcc)# for G in [#Gcc, G_er, \n",
        "averages[1]=sub_average_path(G_er)# for G in [#Gcc, G_er, \n",
        "averages[2]=sub_average_path(G_lattice)# for G in [#Gcc, G_er, \n",
        "                                        \n",
        "print(\"The human network has an average shortest path length of\", averages[0])\n",
        "print(\"The ER network has an average shortest path length of\",  averages[1])\n",
        "print(\"The Lattice network has an average shortest path length of\", averages[2])"
      ]
    },
    {
      "cell_type": "markdown",
      "source": [
        "We print in table-form for latex"
      ],
      "metadata": {
        "id": "xuvGp0PwK8HB"
      }
    },
    {
      "cell_type": "code",
      "source": [
        "print(\"Network & Number of Nodes & Number of Edges & Clustering Coefficient & Average Path Length \\\\\\\\\")\n",
        "print(\"Human & {nodes} & {edges} & {cluster} & {paths} \\\\\\\\\".format(nodes=Gcc.number_of_nodes(), edges=Gcc.number_of_edges(), cluster=clusterings[0], paths=averages[0]))\n",
        "print(\"ER & {nodes} & {edges} & {cluster} & {paths} \\\\\\\\\".format(nodes=G_er.number_of_nodes(), edges=G_er.number_of_edges(), cluster=clusterings[1], paths=averages[1]))\n",
        "print(\"Lattice & {nodes} & {edges} & {cluster} & {paths}\".format(nodes=G_lattice.number_of_nodes(), edges=G_lattice.number_of_edges(), cluster=clusterings[2], paths=averages[2]))"
      ],
      "metadata": {
        "colab": {
          "base_uri": "https://localhost:8080/"
        },
        "id": "g9sKQyzWK_u7",
        "outputId": "78952bd1-a47b-45be-c1e4-cb1d89790246"
      },
      "execution_count": null,
      "outputs": [
        {
          "output_type": "stream",
          "name": "stdout",
          "text": [
            "Network & Number of Nodes & Number of Edges & Clustering Coefficient & Average Path Length \\\\\n",
            "Human & 27269 & 732760 & 0.10643123728372343 & 4.532090191405377 \\\\\n",
            "ER & 27269 & 743393 & 0.00199945115664579 & 9.828288155607742 \\\\\n",
            "Lattice & 33366 & 99365 & 0.40255549561406706 & 33.83207593486621\n"
          ]
        }
      ]
    },
    {
      "cell_type": "markdown",
      "source": [
        "#Exercise 2.5 Small world network"
      ],
      "metadata": {
        "id": "BWNVfqeC2ldj"
      }
    },
    {
      "cell_type": "markdown",
      "source": [
        "\n",
        "Reproduce their findings from Fig. 2. For this, compute the characteristic path length L(p) and the clustering coefficient C(p) for the family of randomly rewired graphs described in their manuscript"
      ],
      "metadata": {
        "id": "l_ea0B_q6eOt"
      }
    },
    {
      "cell_type": "code",
      "source": [
        "G_elegans = nx.from_pandas_edgelist(pd.read_csv('/content/BIOGRID-ORGANISM-Caenorhabditis_elegans-4.4.205.tab3.txt', sep='\\t'),\n",
        "                                   source='BioGRID ID Interactor A', target='BioGRID ID Interactor B')\n",
        "print(\"Number of nodes:\",G_elegans.number_of_nodes())\n",
        "print(\"Number of edges:\",G_elegans.number_of_edges())"
      ],
      "metadata": {
        "colab": {
          "base_uri": "https://localhost:8080/"
        },
        "id": "L6Q320-u2kEc",
        "outputId": "ad5ef531-2d64-4cde-cf72-6a21ef0f40ec"
      },
      "execution_count": null,
      "outputs": [
        {
          "output_type": "stream",
          "name": "stdout",
          "text": [
            "Number of nodes: 8276\n",
            "Number of edges: 35452\n"
          ]
        }
      ]
    },
    {
      "cell_type": "markdown",
      "source": [
        "#Characterization of Network Structure"
      ],
      "metadata": {
        "id": "DM_7PmHn6_Cb"
      }
    },
    {
      "cell_type": "code",
      "source": [
        "#We transfor the network into the undirected version.\n",
        "G_elegans = G_elegans.to_undirected()"
      ],
      "metadata": {
        "id": "RB1AVoXKy7g_"
      },
      "execution_count": null,
      "outputs": []
    },
    {
      "cell_type": "code",
      "source": [
        "\n",
        "#Sometimes the node labels are not in the sequential order or labels are used. To facilitate our implementation, let us convert the labels to integers starting with the index zero, because Python uses 0-based indexing\n",
        "G_elegans = nx.convert_node_labels_to_integers(G_elegans, first_label=0)"
      ],
      "metadata": {
        "id": "_fod3wftyvCx"
      },
      "execution_count": null,
      "outputs": []
    },
    {
      "cell_type": "code",
      "source": [
        "#Since the degree() function from Networkx provides an iterator for (node, degree) , we will use only the values of the degree and ignore the label of the nodes. We also convert the list to a numpy array, since this structure is easier to be manipuled than other structures.\n",
        "G_elegans_degree = dict(G_elegans.degree())\n",
        "G_elegans_degree = list(G_elegans_degree.values())\n",
        "print('Degree', G_elegans_degree)"
      ],
      "metadata": {
        "id": "jHndwk753IVu",
        "outputId": "0fee2417-6bdf-4b70-b8c4-2c5e589f40ef",
        "colab": {
          "base_uri": "https://localhost:8080/"
        }
      },
      "execution_count": null,
      "outputs": [
        {
          "output_type": "stream",
          "name": "stdout",
          "text": [
            "Degree [4, 4, 140, 8, 13, 109, 73, 49, 45, 12, 3, 4, 32, 1, 2, 2, 3, 30, 17, 12, 6, 3, 1, 1, 9, 2, 2, 10, 22, 34, 7, 12, 17, 4, 1, 20, 7, 37, 3, 4, 59, 86, 17, 52, 6, 4, 130, 2, 4, 4, 69, 93, 18, 1, 5, 1, 7, 32, 42, 102, 102, 21, 10, 1, 4, 101, 4, 1, 3, 1, 20, 18, 18, 47, 14, 17, 32, 18, 64, 4, 7, 16, 3, 9, 3, 8, 25, 8, 22, 1, 14, 10, 24, 6, 2, 4, 97, 1, 17, 5, 13, 54, 8, 8, 49, 117, 9, 44, 8, 134, 2, 38, 6, 12, 100, 103, 18, 2, 1, 10, 46, 15, 2, 112, 13, 15, 28, 2, 6, 2, 21, 5, 23, 4, 6, 2, 13, 94, 1, 37, 14, 6, 2, 10, 6, 20, 2, 1, 1, 29, 1, 1, 1, 5, 10, 1, 2, 2, 1, 5, 1, 1, 3, 1, 2, 4, 14, 33, 1, 1, 3, 6, 46, 30, 5, 11, 74, 19, 4, 11, 43, 27, 4, 12, 37, 6, 28, 7, 18, 2, 7, 46, 6, 18, 3, 13, 9, 17, 23, 1, 31, 47, 14, 9, 3, 21, 96, 97, 1, 2, 8, 7, 17, 51, 2, 47, 21, 33, 27, 89, 6, 1, 2, 38, 95, 3, 13, 1, 115, 14, 10, 18, 45, 6, 69, 12, 1, 2, 2, 66, 20, 29, 20, 6, 7, 11, 20, 1, 5, 77, 2, 21, 26, 6, 6, 4, 91, 3, 11, 22, 9, 9, 1, 5, 3, 1, 11, 13, 9, 3, 21, 22, 3, 3, 20, 33, 8, 3, 11, 6, 11, 5, 1, 13, 5, 116, 2, 28, 24, 3, 42, 2, 29, 33, 19, 6, 6, 5, 50, 97, 1, 2, 51, 8, 1, 1, 6, 25, 67, 7, 1, 10, 76, 1, 26, 1, 1, 8, 10, 26, 3, 1, 7, 4, 1, 2, 48, 34, 18, 6, 54, 9, 1, 8, 1, 18, 7, 1, 3, 7, 42, 42, 18, 1, 1, 36, 22, 2, 30, 10, 9, 1, 11, 21, 10, 5, 11, 11, 8, 1, 3, 7, 24, 51, 6, 1, 15, 2, 19, 25, 15, 8, 13, 24, 3, 27, 23, 29, 1, 1, 2, 2, 7, 7, 9, 2, 12, 27, 1, 17, 2, 2, 44, 4, 1, 18, 6, 95, 15, 140, 11, 8, 10, 9, 46, 10, 19, 15, 5, 9, 68, 47, 3, 8, 58, 2, 59, 15, 21, 1, 1, 36, 1, 5, 4, 83, 58, 5, 7, 90, 2, 2, 1, 13, 25, 7, 52, 7, 8, 1, 21, 1, 3, 1, 9, 1, 2, 39, 14, 3, 1, 2, 15, 51, 33, 6, 60, 53, 1, 4, 2, 3, 5, 8, 68, 11, 120, 12, 6, 14, 15, 10, 18, 81, 2, 4, 88, 6, 58, 67, 81, 7, 18, 21, 16, 8, 10, 2, 86, 15, 3, 67, 6, 19, 11, 2, 3, 1, 19, 3, 1, 20, 2, 23, 19, 31, 12, 5, 3, 5, 6, 93, 7, 16, 3, 1, 1, 6, 5, 6, 55, 1, 6, 32, 1, 25, 18, 21, 11, 20, 3, 8, 3, 50, 9, 78, 98, 4, 1, 87, 11, 22, 8, 10, 11, 114, 17, 36, 4, 7, 34, 119, 19, 2, 5, 7, 8, 4, 4, 3, 17, 66, 2, 46, 1, 1, 2, 10, 4, 7, 2, 1, 7, 1, 3, 1, 58, 1, 3, 5, 1, 3, 8, 1, 33, 3, 2, 5, 5, 5, 1, 4, 18, 8, 1, 8, 37, 17, 25, 11, 1, 24, 12, 4, 4, 34, 2, 16, 23, 1, 5, 22, 9, 9, 3, 89, 1, 3, 46, 52, 9, 7, 6, 7, 8, 1, 27, 90, 101, 7, 27, 2, 43, 15, 10, 2, 1, 8, 1, 6, 2, 2, 3, 1, 1, 9, 13, 1, 4, 40, 6, 2, 1, 19, 7, 2, 2, 4, 1, 12, 2, 1, 5, 1, 1, 14, 12, 86, 10, 4, 3, 9, 1, 66, 8, 2, 15, 6, 17, 5, 34, 3, 8, 56, 25, 3, 28, 42, 5, 34, 21, 1, 1, 2, 2, 21, 14, 2, 3, 2, 32, 1, 2, 10, 13, 13, 138, 1, 7, 3, 11, 20, 30, 1, 4, 16, 10, 5, 1, 11, 4, 5, 47, 39, 25, 1, 5, 6, 8, 8, 2, 1, 4, 9, 1, 8, 6, 31, 9, 12, 1, 28, 3, 30, 8, 12, 30, 26, 12, 3, 17, 2, 43, 7, 25, 2, 67, 1, 6, 1, 5, 31, 4, 1, 13, 3, 4, 8, 38, 4, 3, 3, 8, 11, 4, 1, 19, 16, 2, 31, 4, 42, 39, 40, 1, 36, 2, 2, 2, 3, 1, 12, 5, 38, 10, 16, 3, 7, 99, 7, 3, 2, 11, 1, 8, 28, 28, 2, 38, 5, 3, 21, 39, 44, 117, 4, 8, 7, 6, 2, 23, 2, 91, 4, 43, 3, 1, 1, 29, 3, 1, 2, 8, 1, 1, 1, 10, 1, 14, 2, 22, 1, 2, 23, 1, 1, 8, 1, 2, 1, 2, 18, 1, 6, 1, 8, 1, 1, 1, 4, 8, 1, 84, 20, 12, 5, 6, 6, 1, 2, 53, 1, 10, 6, 2, 1, 9, 4, 4, 2, 2, 3, 9, 16, 2, 66, 25, 35, 14, 1, 22, 3, 5, 2, 3, 9, 8, 1, 6, 6, 1, 36, 1, 6, 4, 15, 67, 9, 30, 2, 2, 92, 15, 10, 12, 4, 3, 7, 1, 1, 1, 2, 2, 4, 3, 9, 36, 20, 8, 1, 1, 46, 3, 7, 1, 14, 3, 13, 15, 2, 5, 2, 26, 2, 4, 2, 1, 78, 9, 2, 3, 1, 6, 2, 1, 8, 1, 3, 1, 5, 3, 12, 25, 4, 3, 3, 2, 4, 8, 5, 4, 2, 24, 1, 5, 6, 108, 44, 1, 6, 98, 8, 1, 5, 2, 1, 12, 4, 1, 7, 32, 21, 2, 4, 16, 2, 2, 5, 49, 10, 30, 1, 27, 4, 19, 5, 1, 27, 94, 6, 3, 2, 2, 2, 16, 7, 1, 23, 5, 3, 87, 36, 2, 58, 10, 28, 5, 20, 3, 6, 10, 32, 1, 7, 1, 3, 2, 11, 9, 95, 2, 5, 12, 24, 9, 57, 12, 41, 4, 26, 54, 5, 14, 2, 6, 11, 7, 1, 2, 4, 4, 2, 3, 2, 2, 2, 2, 1, 6, 4, 50, 1, 1, 10, 22, 3, 39, 2, 99, 2, 1, 98, 1, 42, 3, 6, 9, 13, 36, 2, 8, 54, 15, 2, 1, 3, 16, 9, 3, 6, 1, 1, 4, 39, 2, 6, 2, 11, 1, 9, 42, 70, 7, 14, 27, 18, 3, 11, 55, 19, 20, 65, 60, 14, 1, 10, 30, 7, 3, 3, 12, 3, 3, 3, 1, 52, 3, 3, 1, 7, 12, 1, 2, 1, 11, 20, 1, 49, 59, 31, 22, 1, 10, 6, 60, 21, 2, 72, 3, 1, 1, 3, 8, 3, 1, 1, 3, 1, 1, 1, 24, 4, 1, 6, 27, 7, 4, 18, 1, 7, 11, 16, 2, 8, 1, 7, 2, 13, 1, 11, 50, 96, 3, 9, 7, 3, 6, 2, 3, 10, 1, 8, 4, 1, 4, 61, 2, 59, 96, 2, 3, 2, 10, 1, 2, 15, 7, 2, 4, 6, 5, 1, 8, 4, 2, 1, 1, 12, 1, 1, 3, 6, 6, 9, 10, 1, 74, 91, 91, 1, 1, 14, 35, 3, 6, 28, 1, 529, 98, 4, 1, 20, 8, 19, 9, 1, 12, 2, 2, 1, 3, 1, 7, 1, 3, 2, 2, 10, 5, 2, 1, 4, 2, 1, 2, 1, 34, 5, 22, 9, 93, 2, 4, 5, 47, 15, 8, 29, 5, 40, 12, 2, 11, 6, 6, 2, 1, 2, 7, 3, 3, 6, 5, 21, 1, 8, 14, 2, 17, 5, 21, 23, 2, 2, 2, 14, 9, 1, 23, 8, 13, 5, 9, 1, 9, 10, 2, 10, 32, 1, 29, 4, 16, 15, 36, 9, 21, 3, 1, 30, 29, 50, 13, 6, 1, 20, 5, 15, 86, 1, 23, 4, 9, 1, 9, 1, 7, 9, 1, 12, 1, 1, 3, 8, 1, 3, 12, 2, 1, 1, 85, 3, 11, 2, 6, 20, 17, 6, 2, 1, 11, 44, 8, 7, 1, 15, 3, 6, 3, 1, 1, 13, 16, 1, 3, 3, 2, 10, 6, 9, 9, 6, 1, 85, 17, 37, 1, 1, 11, 2, 1, 2, 3, 5, 2, 37, 24, 11, 16, 1, 31, 2, 13, 5, 41, 11, 8, 10, 17, 2, 9, 10, 4, 6, 1, 2, 4, 2, 1, 7, 3, 1, 3, 10, 5, 2, 2, 76, 28, 38, 5, 3, 8, 1, 17, 2, 11, 13, 8, 2, 1, 2, 11, 6, 5, 2, 1, 1, 19, 45, 31, 2, 2, 5, 12, 1, 1, 4, 7, 11, 12, 5, 5, 1, 1, 14, 5, 2, 5, 15, 15, 21, 11, 2, 1, 3, 98, 19, 16, 21, 2, 3, 6, 2, 2, 13, 1, 11, 78, 7, 4, 1, 4, 5, 2, 1, 2, 22, 3, 1, 6, 1, 2, 3, 9, 6, 5, 5, 22, 6, 14, 2, 1, 4, 4, 23, 2, 2, 85, 22, 6, 1, 89, 2, 2, 5, 13, 6, 19, 4, 3, 70, 5, 5, 12, 5, 4, 3, 33, 5, 2, 2, 1, 1, 2, 4, 5, 1, 2, 1, 4, 1, 1, 1, 1, 1, 25, 3, 1, 1, 70, 1, 3, 1, 3, 1, 4, 1, 1, 12, 11, 55, 1, 2, 8, 21, 2, 1, 15, 1, 24, 1, 91, 2, 8, 1, 6, 17, 2, 34, 12, 1, 7, 2, 3, 3, 2, 1, 41, 479, 9, 32, 4, 20, 2, 1, 3, 3, 19, 53, 5, 5, 55, 51, 15, 3, 3, 1, 28, 9, 1, 5, 38, 9, 1, 4, 3, 1, 6, 12, 1, 16, 24, 2, 10, 5, 1, 19, 21, 2, 1, 1, 12, 3, 2, 1, 3, 26, 3, 1, 7, 1, 1, 5, 22, 3, 1, 18, 24, 10, 4, 2, 1, 4, 2, 2, 9, 2, 9, 14, 1, 1, 8, 77, 1, 8, 18, 11, 5, 13, 2, 1, 27, 2, 1, 2, 7, 6, 2, 5, 2, 3, 2, 15, 2, 1, 2, 1, 3, 1, 3, 11, 4, 7, 3, 11, 2, 6, 22, 1, 1, 5, 1, 1, 5, 1, 60, 9, 1, 1, 12, 1, 16, 2, 1, 2, 4, 1, 3, 2, 46, 7, 2, 8, 8, 1, 1, 7, 3, 77, 2, 2, 13, 9, 2, 25, 4, 4, 5, 1, 1, 16, 8, 1, 14, 7, 6, 1, 4, 23, 4, 5, 7, 1, 8, 6, 2, 1, 10, 12, 2, 1, 3, 3, 42, 10, 9, 8, 7, 2, 14, 5, 12, 19, 14, 1, 6, 24, 27, 3, 5, 3, 3, 10, 1, 2, 3, 3, 1, 1, 2, 2, 2, 11, 2, 1, 28, 4, 5, 6, 12, 48, 2, 29, 1, 3, 12, 8, 46, 14, 2, 8, 8, 5, 7, 8, 36, 20, 29, 5, 18, 10, 3, 78, 1, 6, 3, 6, 41, 8, 14, 11, 1, 1, 2, 17, 2, 1, 6, 1, 1, 12, 1, 1, 4, 5, 3, 20, 1, 5, 10, 11, 47, 1, 1, 1, 18, 1, 2, 14, 9, 5, 18, 5, 3, 25, 1, 3, 1, 5, 2, 44, 2, 3, 6, 22, 2, 3, 18, 22, 3, 13, 3, 1, 10, 3, 18, 7, 79, 57, 2, 1, 9, 5, 14, 2, 1, 10, 96, 4, 131, 56, 18, 5, 91, 1, 7, 1, 5, 4, 1, 6, 6, 2, 3, 2, 9, 2, 1, 2, 8, 5, 3, 4, 1, 1, 2, 25, 3, 1, 5, 2, 2, 14, 22, 3, 2, 5, 2, 3, 17, 19, 4, 4, 1, 16, 2, 4, 11, 59, 3, 1, 9, 1, 6, 3, 2, 10, 1, 7, 1, 1, 4, 1, 4, 4, 1, 1, 1, 3, 12, 5, 1, 1, 10, 2, 31, 8, 14, 37, 11, 1, 6, 14, 21, 1, 4, 1, 3, 1, 2, 11, 7, 1, 8, 10, 9, 1, 3, 3, 1, 3, 3, 13, 3, 2, 1, 2, 3, 1, 13, 1, 1, 1, 4, 2, 3, 3, 20, 2, 1, 6, 1, 1, 1, 4, 1, 12, 9, 33, 5, 2, 27, 1, 8, 133, 5, 1, 49, 1, 7, 10, 6, 3, 3, 6, 3, 23, 39, 3, 2, 6, 3, 17, 3, 28, 18, 6, 3, 1, 3, 2, 2, 1, 4, 1, 11, 2, 8, 1, 6, 4, 9, 10, 2, 5, 13, 2, 2, 1, 3, 62, 1, 48, 1, 4, 3, 8, 8, 10, 2, 1, 1, 59, 3, 1, 17, 12, 8, 1, 92, 28, 1, 7, 17, 6, 6, 11, 7, 8, 2, 1, 12, 4, 20, 4, 16, 1, 17, 1, 5, 13, 2, 87, 44, 2, 5, 1, 1, 1, 5, 8, 3, 11, 10, 1, 4, 7, 14, 3, 52, 3, 1, 1, 2, 7, 98, 1, 4, 8, 47, 1, 4, 2, 2, 1, 34, 91, 1, 20, 2, 1, 5, 1, 1, 1, 1, 5, 18, 10, 1, 1, 2, 15, 4, 3, 1, 1, 7, 45, 4, 37, 2, 1, 2, 23, 1, 2, 7, 27, 2, 6, 1, 25, 3, 1, 3, 19, 9, 19, 2, 2, 8, 22, 7, 1, 10, 1, 1, 23, 1, 1, 1, 1, 3, 5, 1, 1, 1, 1, 2, 1, 4, 6, 1, 5, 1, 3, 1, 139, 1, 1, 13, 1, 10, 1, 1, 9, 19, 14, 7, 2, 2, 2, 1, 1, 3, 2, 1, 1, 13, 1, 1, 17, 182, 3, 2, 1, 1, 4, 2, 28, 2, 20, 6, 1, 3, 1, 1, 13, 5, 1, 2, 2, 1, 2, 1, 1, 2, 1, 1, 9, 1, 1, 1, 9, 3, 36, 54, 15, 6, 8, 5, 2, 6, 1, 1, 1, 1, 2, 61, 1, 2, 4, 1, 1, 1, 3, 34, 8, 16, 1, 2, 3, 15, 15, 1, 15, 1, 4, 1, 5, 2, 2, 2, 1, 1, 3, 2, 17, 2, 43, 1, 11, 5, 16, 9, 5, 13, 3, 5, 2, 10, 2, 2, 5, 3, 1, 3, 12, 22, 1, 1, 1, 2, 1, 2, 4, 5, 2, 3, 2, 5, 9, 1, 49, 4, 3, 11, 1, 12, 1, 3, 16, 1, 1, 6, 11, 37, 14, 2, 9, 26, 1, 7, 4, 3, 18, 30, 2, 1, 5, 5, 1, 1, 3, 17, 15, 4, 13, 1, 9, 3, 3, 1, 3, 1, 10, 1, 37, 4, 1, 2, 2, 1, 5, 1, 1, 1, 12, 4, 6, 2, 18, 1, 5, 11, 1, 15, 2, 1, 3, 83, 3, 11, 4, 18, 7, 1, 1, 1, 1, 6, 1, 1, 1, 1, 1, 2, 3, 1, 1, 1, 13, 1, 1, 2, 1, 1, 19, 1, 1, 1, 1, 1, 1, 2, 4, 4, 2, 1, 2, 5, 11, 2, 4, 5, 4, 2, 7, 1, 89, 4, 1, 11, 30, 10, 19, 1, 2, 4, 2, 6, 8, 1, 5, 11, 38, 1, 1, 1, 20, 4, 2, 38, 1, 1, 1, 2, 10, 1, 1, 2, 1, 2, 2, 5, 1, 3, 4, 26, 5, 7, 6, 1, 4, 4, 5, 1, 4, 29, 27, 3, 1, 3, 12, 12, 1, 7, 1, 1, 2, 26, 15, 12, 6, 20, 16, 22, 1, 2, 8, 4, 2, 52, 9, 24, 18, 18, 5, 1, 8, 1, 8, 1, 4, 2, 27, 1, 1, 1, 1, 3, 10, 2, 10, 2, 31, 9, 1, 2, 14, 6, 2, 1, 1, 8, 15, 5, 33, 7, 37, 4, 7, 4, 1, 4, 1, 2, 3, 3, 14, 2, 1, 10, 6, 3, 41, 40, 27, 2, 10, 1, 3, 20, 15, 1, 26, 5, 1, 2, 1, 3, 7, 6, 1, 3, 6, 1, 6, 1, 2, 22, 1, 2, 1, 10, 2, 7, 2, 5, 1, 96, 1, 1, 2, 3, 19, 10, 8, 5, 10, 1, 1, 1, 42, 1, 34, 2, 1, 1, 2, 8, 1, 15, 2, 1, 1, 1, 3, 3, 1, 2, 3, 1, 1, 14, 13, 1, 1, 1, 1, 2, 10, 2, 13, 3, 1, 15, 94, 3, 1, 1, 2, 1, 6, 1, 3, 1, 5, 1, 1, 2, 4, 11, 2, 1, 11, 2, 85, 3, 2, 5, 3, 29, 12, 1, 15, 3, 12, 3, 5, 13, 199, 88, 3, 1, 1, 23, 52, 15, 1, 12, 19, 1, 2, 1, 8, 5, 3, 5, 3, 7, 19, 3, 1, 3, 1, 24, 9, 14, 3, 5, 9, 1, 27, 3, 1, 1, 1, 1, 8, 1, 2, 1, 1, 9, 1, 4, 1, 1, 2, 5, 9, 1, 2, 12, 1, 1, 28, 2, 1, 1, 2, 2, 1, 2, 1, 1, 4, 1, 12, 8, 13, 2, 6, 1, 11, 3, 19, 3, 18, 4, 2, 40, 10, 9, 7, 5, 7, 63, 1, 3, 3, 3, 12, 5, 1, 14, 4, 18, 1, 2, 44, 8, 7, 5, 11, 4, 7, 3, 1, 5, 37, 3, 8, 3, 16, 52, 5, 4, 5, 5, 16, 13, 2, 1, 4, 2, 2, 12, 1, 3, 7, 23, 4, 10, 11, 5, 10, 7, 1, 2, 2, 1, 3, 8, 3, 6, 2, 10, 2, 2, 18, 3, 60, 35, 5, 1, 7, 4, 4, 42, 1, 1, 2, 11, 2, 1, 2, 5, 25, 5, 18, 6, 3, 2, 1, 1, 11, 8, 9, 2, 7, 17, 22, 5, 1, 1, 4, 6, 1, 1, 19, 15, 2, 1, 2, 4, 1, 2, 2, 1, 3, 12, 1, 1, 10, 13, 4, 1, 5, 89, 6, 1, 2, 10, 1, 83, 2, 5, 6, 5, 2, 1, 5, 1, 3, 77, 2, 2, 2, 1, 3, 13, 15, 3, 2, 2, 1, 4, 1, 1, 1, 2, 2, 2, 6, 1, 1, 2, 53, 4, 12, 1, 1, 1, 1, 2, 49, 2, 6, 15, 2, 87, 10, 2, 4, 7, 1, 5, 5, 1, 1, 3, 8, 1, 1, 2, 3, 3, 1, 3, 1, 97, 4, 5, 1, 2, 1, 28, 1, 11, 54, 17, 8, 5, 2, 1, 1, 25, 2, 6, 3, 3, 2, 43, 1, 16, 1, 6, 1, 2, 1, 1, 1, 6, 18, 19, 4, 12, 2, 1, 1, 6, 1, 1, 95, 6, 3, 3, 11, 1, 4, 48, 2, 2, 1, 30, 8, 11, 88, 2, 3, 7, 1, 5, 3, 1, 1, 4, 3, 2, 1, 1, 1, 1, 3, 2, 1, 1, 9, 4, 2, 4, 6, 5, 1, 39, 5, 7, 17, 21, 16, 2, 2, 1, 1, 6, 23, 5, 1, 7, 1, 11, 1, 1, 15, 26, 1, 4, 1, 91, 1, 1, 31, 10, 1, 9, 203, 18, 11, 3, 4, 3, 3, 9, 23, 168, 24, 26, 16, 2, 15, 1, 11, 11, 57, 1, 56, 87, 1, 91, 161, 3, 1, 1, 1, 13, 1, 1, 11, 109, 6, 1, 1, 4, 2, 1, 2, 1, 1, 4, 23, 5, 3, 5, 1, 1, 5, 2, 14, 12, 13, 15, 1, 4, 5, 1, 2, 9, 47, 14, 3, 3, 5, 24, 10, 5, 5, 29, 23, 2, 4, 2, 4, 5, 6, 1, 2, 9, 9, 4, 11, 1, 1, 17, 1, 15, 1, 3, 12, 2, 3, 4, 1, 25, 2, 1, 5, 49, 21, 1, 1, 2, 11, 15, 2, 2, 1, 1, 1, 13, 9, 1, 11, 5, 2, 1, 2, 3, 1, 16, 1, 2, 2, 2, 1, 12, 24, 65, 11, 9, 22, 7, 12, 45, 6, 2, 2, 11, 3, 1, 7, 1, 1, 5, 13, 2, 14, 1, 5, 2, 4, 1, 20, 1, 12, 5, 7, 16, 5, 17, 3, 6, 3, 3, 1, 3, 1, 7, 4, 103, 2, 1, 2, 1, 1, 1, 1, 2, 6, 1, 5, 6, 49, 15, 9, 4, 2, 4, 2, 1, 2, 9, 2, 3, 1, 3, 4, 5, 1, 1, 6, 2, 4, 6, 14, 1, 2, 1, 11, 1, 1, 17, 5, 1, 2, 9, 19, 1, 2, 3, 23, 11, 6, 7, 31, 7, 3, 12, 4, 5, 5, 1, 2, 19, 7, 22, 4, 1, 2, 11, 417, 1, 6, 3, 1, 1, 3, 8, 2, 3, 4, 8, 24, 1, 12, 2, 2, 1, 18, 5, 1, 14, 1, 3, 1, 11, 2, 2, 13, 1, 3, 3, 2, 6, 2, 24, 1, 7, 1, 1, 2, 6, 31, 3, 1, 7, 31, 3, 23, 21, 37, 3, 1, 8, 11, 7, 7, 3, 4, 31, 23, 2, 4, 5, 6, 3, 2, 6, 2, 1, 14, 2, 18, 2, 1, 7, 5, 4, 1, 21, 2, 12, 4, 22, 9, 38, 3, 2, 7, 29, 15, 3, 10, 2, 5, 50, 1, 3, 3, 2, 2, 6, 4, 4, 2, 9, 1, 5, 1, 4, 3, 1, 3, 4, 4, 13, 10, 1, 2, 76, 4, 3, 1, 1, 1, 2, 1, 86, 12, 19, 2, 3, 8, 7, 3, 12, 23, 49, 5, 5, 4, 6, 5, 2, 7, 7, 7, 20, 1, 14, 14, 4, 10, 14, 14, 20, 4, 18, 12, 1, 12, 2, 5, 1, 1, 2, 3, 7, 4, 1, 2, 31, 13, 13, 6, 132, 3, 2, 2, 10, 7, 4, 22, 1, 159, 4, 22, 1, 4, 10, 7, 8, 2, 3, 7, 6, 1, 1, 10, 7, 23, 4, 2, 2, 1, 1, 16, 1, 3, 9, 2, 2, 4, 30, 3, 17, 6, 1, 1, 3, 1, 3, 3, 1, 40, 1, 4, 5, 1, 7, 3, 1, 4, 1, 2, 1, 10, 2, 1, 1, 1, 9, 1, 1, 1, 1, 1, 1, 1, 1, 1, 11, 5, 2, 5, 9, 3, 3, 23, 7, 2, 7, 10, 1, 1, 3, 3, 1, 85, 2, 4, 6, 2, 1, 11, 5, 3, 4, 3, 2, 6, 3, 2, 1, 4, 2, 5, 38, 17, 8, 3, 24, 4, 1, 1, 4, 3, 53, 1, 13, 2, 33, 2, 1, 1, 1, 2, 5, 2, 2, 3, 8, 2, 1, 3, 3, 6, 1, 1, 35, 2, 11, 6, 2, 3, 6, 2, 2, 32, 1, 15, 12, 4, 6, 14, 18, 1, 3, 5, 10, 28, 8, 2, 1, 16, 3, 20, 17, 18, 3, 18, 30, 15, 9, 2, 96, 11, 19, 9, 30, 15, 25, 4, 2, 6, 22, 3, 14, 22, 4, 11, 9, 2, 5, 34, 34, 2, 3, 13, 7, 20, 3, 2, 14, 5, 2, 12, 1, 2, 3, 72, 2, 2, 1, 3, 11, 3, 10, 37, 41, 2, 86, 3, 2, 20, 3, 7, 11, 1, 11, 1, 1, 2, 27, 23, 3, 9, 8, 5, 19, 4, 3, 1, 20, 5, 3, 9, 3, 4, 1, 3, 3, 106, 2, 23, 6, 3, 3, 4, 14, 18, 2, 6, 6, 2, 10, 1, 5, 3, 6, 3, 1, 7, 10, 1, 1, 1, 15, 16, 104, 5, 1, 15, 6, 14, 5, 39, 2, 1, 1, 5, 42, 2, 2, 3, 6, 4, 30, 2, 1, 229, 4, 1, 1, 7, 1, 22, 4, 1, 2, 49, 20, 8, 24, 74, 13, 3, 1, 3, 7, 17, 15, 4, 11, 1, 6, 1, 1, 3, 1, 13, 7, 31, 3, 11, 1, 5, 4, 1, 1, 1, 1, 24, 101, 8, 8, 16, 2, 2, 14, 6, 15, 2, 8, 6, 2, 11, 9, 3, 5, 3, 18, 2, 1, 2, 1, 1, 1, 1, 1, 1, 40, 1, 7, 4, 1, 1, 1, 1, 1, 11, 1, 1, 1, 1, 1, 2, 1, 6, 4, 36, 2, 59, 11, 28, 29, 84, 3, 94, 9, 17, 6, 84, 5, 4, 39, 20, 1, 8, 18, 6, 6, 6, 1, 41, 82, 45, 12, 24, 56, 2, 2, 9, 59, 88, 1, 16, 7, 26, 8, 81, 5, 9, 14, 10, 24, 84, 34, 20, 21, 7, 24, 45, 9, 5, 5, 4, 12, 9, 17, 11, 16, 29, 66, 57, 73, 22, 12, 42, 95, 1, 11, 17, 52, 5, 23, 10, 12, 19, 5, 17, 11, 2, 1, 1, 3, 21, 1, 13, 17, 2, 21, 11, 13, 16, 1, 4, 23, 34, 9, 21, 36, 5, 61, 27, 15, 12, 16, 28, 6, 7, 2, 41, 33, 38, 33, 10, 10, 39, 11, 9, 7, 59, 27, 4, 15, 2, 4, 13, 2, 14, 4, 3, 23, 8, 11, 21, 26, 86, 30, 31, 12, 3, 1, 1, 3, 59, 38, 39, 18, 24, 2, 7, 4, 5, 5, 45, 34, 6, 7, 13, 36, 4, 11, 49, 19, 3, 3, 5, 4, 11, 35, 9, 17, 11, 8, 10, 37, 1, 57, 14, 2, 4, 1, 13, 54, 56, 51, 47, 17, 30, 35, 13, 22, 2, 1, 10, 15, 32, 19, 9, 6, 3, 15, 19, 2, 6, 7, 12, 2, 23, 26, 16, 10, 22, 58, 18, 9, 6, 2, 7, 6, 9, 1, 6, 1, 1, 11, 29, 15, 8, 3, 1, 18, 21, 45, 6, 2, 2, 42, 6, 2, 6, 25, 24, 10, 6, 90, 2, 3, 4, 4, 5, 18, 58, 20, 8, 24, 2, 12, 9, 1, 2, 2, 4, 2, 18, 2, 3, 3, 17, 55, 39, 12, 86, 7, 8, 7, 1, 22, 1, 1, 3, 10, 12, 1, 9, 4, 5, 34, 14, 4, 2, 12, 13, 18, 9, 17, 11, 14, 5, 14, 3, 38, 10, 9, 35, 1, 10, 11, 35, 13, 9, 21, 28, 22, 2, 10, 9, 1, 19, 25, 4, 3, 2, 42, 2, 7, 9, 3, 6, 7, 9, 27, 57, 24, 9, 1, 10, 11, 19, 2, 1, 1, 1, 4, 42, 7, 16, 19, 1, 9, 2, 6, 3, 8, 12, 10, 13, 3, 4, 13, 13, 13, 1, 4, 1, 4, 1, 2, 17, 17, 17, 8, 2, 8, 3, 4, 12, 2, 3, 14, 1, 1, 6, 11, 39, 13, 3, 7, 7, 7, 16, 14, 9, 2, 2, 18, 9, 10, 1, 2, 33, 1, 7, 4, 7, 29, 18, 12, 8, 12, 1, 11, 37, 15, 12, 10, 10, 12, 20, 5, 1, 20, 1, 2, 34, 16, 21, 9, 36, 11, 3, 1, 5, 36, 2, 2, 13, 8, 8, 2, 2, 1, 12, 29, 21, 38, 54, 8, 19, 9, 11, 1, 5, 12, 2, 13, 2, 14, 4, 1, 8, 4, 6, 16, 9, 12, 3, 22, 8, 19, 5, 1, 2, 11, 29, 19, 2, 6, 10, 5, 1, 1, 2, 9, 7, 1, 1, 2, 11, 9, 17, 14, 1, 1, 9, 14, 1, 2, 3, 5, 23, 8, 8, 10, 4, 9, 1, 4, 1, 7, 16, 2, 9, 3, 11, 25, 20, 7, 11, 28, 8, 3, 20, 4, 12, 4, 7, 7, 7, 7, 14, 18, 12, 10, 8, 7, 2, 7, 8, 9, 13, 2, 3, 10, 8, 4, 43, 22, 9, 42, 4, 38, 24, 31, 7, 5, 8, 9, 5, 5, 30, 1, 4, 9, 4, 4, 13, 19, 12, 6, 16, 12, 2, 4, 4, 10, 14, 18, 1, 2, 13, 1, 8, 16, 2, 2, 1, 2, 4, 7, 1, 3, 4, 30, 48, 4, 19, 4, 9, 18, 1, 4, 16, 4, 22, 6, 5, 10, 1, 1, 1, 6, 5, 14, 2, 20, 3, 7, 7, 5, 10, 4, 4, 3, 3, 12, 10, 3, 5, 2, 5, 8, 3, 13, 6, 2, 2, 4, 2, 26, 7, 2, 4, 3, 4, 1, 2, 13, 3, 8, 8, 3, 9, 3, 11, 4, 5, 16, 3, 6, 2, 15, 5, 3, 3, 3, 2, 9, 2, 5, 5, 6, 33, 18, 4, 14, 6, 2, 1, 2, 1, 1, 7, 7, 6, 14, 1, 11, 6, 5, 3, 3, 3, 9, 1, 9, 10, 2, 9, 9, 15, 5, 8, 3, 6, 12, 2, 5, 11, 8, 1, 2, 27, 3, 2, 6, 6, 21, 2, 2, 4, 25, 7, 2, 24, 21, 5, 3, 1, 1, 3, 30, 13, 7, 13, 6, 6, 6, 2, 7, 5, 3, 7, 4, 1, 3, 21, 17, 4, 1, 1, 1, 1, 12, 1, 7, 7, 4, 5, 8, 7, 5, 5, 9, 18, 4, 7, 1, 15, 12, 17, 10, 5, 2, 8, 21, 1, 6, 2, 9, 6, 3, 12, 4, 4, 5, 3, 2, 14, 3, 6, 10, 5, 12, 4, 3, 1, 1, 1, 8, 24, 11, 2, 2, 4, 4, 1, 10, 7, 4, 5, 1, 6, 9, 1, 7, 9, 7, 2, 3, 3, 8, 4, 9, 6, 2, 19, 7, 6, 19, 43, 5, 5, 3, 3, 11, 1, 9, 16, 3, 12, 14, 1, 10, 6, 8, 6, 6, 2, 11, 1, 2, 1, 16, 1, 4, 3, 2, 11, 2, 9, 10, 3, 1, 3, 13, 16, 8, 5, 10, 9, 2, 6, 2, 2, 2, 3, 2, 4, 12, 20, 1, 3, 2, 9, 9, 3, 3, 12, 6, 3, 1, 3, 2, 4, 1, 4, 21, 6, 11, 2, 6, 10, 4, 1, 10, 10, 2, 5, 2, 17, 2, 20, 2, 5, 10, 3, 2, 7, 1, 1, 2, 3, 17, 1, 2, 5, 2, 1, 7, 5, 6, 1, 4, 5, 2, 4, 8, 10, 7, 3, 9, 6, 12, 2, 9, 3, 1, 8, 6, 14, 3, 3, 14, 1, 3, 1, 2, 2, 6, 9, 3, 4, 3, 1, 1, 40, 4, 3, 13, 5, 5, 16, 3, 9, 6, 5, 2, 2, 2, 18, 1, 1, 1, 2, 6, 1, 1, 3, 1, 1, 7, 3, 2, 1, 2, 2, 14, 8, 3, 1, 1, 8, 6, 8, 1, 2, 7, 3, 10, 6, 1, 15, 1, 4, 4, 3, 2, 6, 3, 3, 2, 2, 15, 4, 3, 7, 4, 1, 2, 7, 8, 1, 17, 3, 4, 3, 10, 20, 7, 7, 1, 5, 2, 7, 7, 6, 1, 1, 2, 3, 3, 7, 4, 6, 1, 2, 7, 2, 6, 6, 5, 5, 4, 3, 2, 10, 2, 2, 5, 2, 6, 2, 1, 8, 6, 1, 101, 1, 3, 19, 11, 7, 11, 13, 3, 22, 10, 2, 1, 8, 18, 4, 2, 3, 3, 14, 2, 2, 9, 4, 9, 2, 3, 10, 8, 1, 18, 13, 13, 4, 6, 5, 2, 9, 7, 18, 7, 1, 9, 4, 7, 5, 5, 2, 4, 2, 12, 1, 14, 3, 3, 1, 11, 6, 1, 4, 2, 5, 5, 7, 2, 6, 2, 12, 2, 5, 4, 8, 4, 4, 3, 4, 1, 2, 1, 8, 4, 4, 10, 4, 4, 11, 21, 3, 1, 4, 2, 2, 4, 5, 3, 10, 4, 2, 2, 4, 1, 6, 11, 1, 6, 1, 2, 7, 3, 15, 3, 3, 5, 10, 3, 14, 1, 4, 2, 3, 11, 1, 2, 1, 3, 13, 4, 9, 5, 18, 9, 2, 6, 1, 1, 1, 1, 7, 5, 3, 7, 1, 3, 1, 1, 14, 1, 6, 13, 5, 6, 8, 1, 2, 6, 4, 6, 3, 2, 2, 2, 3, 2, 1, 7, 32, 2, 1, 2, 6, 2, 4, 1, 1, 1, 2, 7, 2, 2, 1, 3, 3, 4, 2, 3, 11, 2, 6, 2, 3, 5, 4, 3, 1, 1, 6, 4, 3, 1, 1, 7, 9, 4, 3, 7, 3, 1, 2, 5, 1, 7, 1, 5, 5, 7, 3, 3, 1, 2, 9, 1, 6, 1, 1, 2, 1, 4, 2, 1, 2, 6, 2, 6, 4, 1, 12, 3, 5, 3, 2, 2, 2, 5, 22, 3, 1, 4, 1, 9, 4, 5, 1, 7, 4, 7, 6, 1, 2, 1, 4, 4, 2, 8, 3, 1, 8, 1, 2, 1, 7, 4, 5, 1, 9, 3, 3, 9, 3, 5, 2, 5, 6, 9, 9, 5, 4, 11, 2, 9, 1, 6, 2, 9, 5, 7, 2, 2, 4, 4, 2, 1, 1, 10, 2, 3, 5, 2, 2, 3, 2, 6, 10, 1, 1, 5, 5, 1, 2, 5, 1, 3, 2, 3, 1, 3, 2, 8, 2, 6, 5, 4, 8, 3, 9, 6, 9, 6, 2, 1, 3, 6, 2, 9, 1, 3, 4, 8, 7, 2, 2, 1, 6, 6, 1, 3, 5, 1, 3, 2, 3, 3, 2, 1, 7, 1, 1, 7, 4, 3, 1, 1, 1, 1, 4, 1, 3, 9, 5, 1, 4, 3, 3, 4, 1, 2, 6, 9, 4, 3, 4, 9, 5, 1, 4, 1, 1, 2, 4, 8, 4, 3, 7, 1, 1, 2, 10, 2, 2, 2, 1, 1, 3, 10, 1, 3, 1, 4, 1, 1, 7, 2, 4, 3, 13, 4, 5, 7, 1, 7, 3, 7, 10, 3, 2, 59, 2, 2, 11, 3, 2, 1, 2, 1, 6, 1, 1, 4, 2, 2, 1, 1, 2, 1, 1, 5, 3, 1, 1, 4, 1, 3, 3, 2, 1, 11, 1, 2, 1, 2, 1, 3, 4, 13, 4, 1, 2, 1, 4, 2, 5, 7, 4, 4, 3, 1, 6, 2, 1, 1, 8, 3, 3, 1, 1, 1, 2, 1, 2, 1, 1, 6, 3, 1, 5, 1, 3, 1, 2, 4, 1, 1, 3, 1, 1, 1, 2, 1, 2, 4, 1, 3, 2, 1, 1, 1, 1, 1, 4, 6, 6, 3, 2, 1, 1, 3, 2, 2, 2, 3, 8, 1, 5, 7, 3, 4, 9, 3, 6, 4, 1, 1, 2, 1, 6, 2, 3, 3, 6, 3, 2, 6, 1, 16, 5, 7, 1, 2, 4, 2, 1, 4, 2, 1, 4, 1, 2, 4, 2, 3, 3, 2, 2, 1, 7, 1, 2, 1, 1, 2, 7, 1, 2, 2, 2, 7, 1, 4, 6, 1, 2, 1, 2, 3, 1, 3, 3, 30, 5, 4, 3, 7, 2, 4, 4, 1, 3, 3, 1, 1, 2, 1, 1, 12, 1, 1, 2, 2, 1, 13, 3, 7, 2, 2, 1, 1, 2, 3, 6, 2, 1, 2, 3, 3, 5, 3, 3, 2, 5, 3, 6, 1, 2, 3, 1, 4, 2, 1, 2, 2, 2, 10, 9, 1, 1, 1, 1, 2, 2, 3, 2, 13, 3, 4, 4, 5, 7, 1, 1, 1, 1, 2, 2, 4, 2, 3, 1, 2, 4, 2, 5, 4, 2, 2, 4, 3, 1, 2, 4, 2, 1, 1, 1, 1, 2, 5, 1, 2, 1, 4, 4, 3, 3, 2, 2, 1, 2, 2, 2, 3, 1, 1, 1, 34, 3, 2, 3, 1, 3, 3, 1, 2, 3, 3, 1, 2, 1, 2, 1, 1, 1, 1, 3, 1, 2, 1, 1, 1, 5, 1, 2, 2, 2, 3, 1, 7, 5, 1, 2, 1, 3, 1, 1, 2, 1, 1, 1, 2, 2, 2, 1, 3, 2, 3, 1, 1, 1, 1, 6, 1, 2, 3, 2, 1, 3, 3, 31, 2, 1, 4, 1, 1, 4, 1, 1, 2, 3, 4, 3, 1, 22, 1, 1, 3, 2, 2, 2, 4, 2, 3, 2, 3, 1, 2, 3, 1, 3, 4, 4, 1, 2, 1, 1, 1, 1, 2, 1, 1, 2, 3, 2, 2, 2, 1, 1, 2, 2, 1, 2, 4, 2, 1, 2, 7, 2, 2, 3, 3, 1, 3, 8, 4, 1, 6, 2, 2, 3, 2, 4, 2, 3, 1, 1, 2, 3, 2, 6, 2, 3, 2, 1, 3, 2, 3, 8, 2, 2, 1, 2, 2, 2, 6, 10, 3, 1, 1, 2, 2, 2, 8, 2, 4, 2, 3, 2, 4, 5, 8, 1, 2, 1, 2, 78, 1, 4, 2, 2, 2, 6, 2, 3, 1, 1, 4, 1, 1, 3, 2, 3, 1, 1, 2, 3, 3, 2, 1, 4, 2, 1, 15, 2, 2, 1, 1, 6, 2, 3, 3, 4, 1, 1, 2, 3, 1, 1, 1, 3, 2, 1, 6, 3, 1, 1, 1, 4, 2, 1, 1, 3, 3, 2, 1, 1, 2, 2, 1, 2, 3, 1, 2, 10, 3, 4, 3, 2, 1, 6, 2, 2, 3, 1, 3, 1, 1, 1, 3, 2, 1, 2, 2, 2, 1, 2, 1, 1, 1, 1, 1, 1, 4, 2, 4, 2, 2, 2, 2, 4, 2, 2, 34, 1, 1, 1, 1, 2, 3, 1, 1, 3, 1, 2, 2, 1, 2, 2, 1, 6, 1, 1, 2, 2, 1, 2, 1, 1, 1, 2, 1, 4, 2, 4, 1, 1, 2, 7, 3, 1, 2, 1, 1, 1, 2, 2, 2, 1, 3, 1, 1, 2, 1, 3, 1, 1, 1, 3, 3, 7, 1, 4, 3, 4, 1, 1, 1, 3, 1, 1, 1, 1, 2, 5, 1, 1, 3, 1, 1, 1, 1, 1, 2, 5, 1, 1, 2, 1, 1, 2, 1, 7, 1, 1, 1, 1, 1, 3, 4, 1, 1, 2, 1, 1, 1, 2, 2, 2, 1, 1, 1, 2, 1, 3, 3, 2, 1, 1, 1, 3, 1, 1, 1, 1, 1, 1, 1, 1, 1, 4, 3, 1, 2, 2, 1, 3, 1, 1, 1, 2, 1, 2, 2, 1, 1, 1, 1, 3, 1, 2, 3, 1, 5, 1, 4, 2, 2, 1, 1, 1, 2, 1, 1, 3, 1, 4, 1, 2, 1, 1, 1, 1, 2, 3, 2, 1, 1, 1, 3, 1, 1, 1, 1, 1, 1, 1, 1, 1, 1, 1, 3, 2, 1, 3, 2, 1, 1, 1, 1, 1, 1, 7, 1, 1, 1, 1, 3, 1, 3, 18, 1, 1, 1, 7, 2, 5, 1, 1, 1, 1, 1, 2, 1, 1, 1, 3, 1, 1, 1, 1, 1, 1, 1, 1, 1, 4, 1, 1, 1, 1, 1, 1, 3, 1, 1, 1, 8, 4, 1, 1, 1, 1, 1, 1, 1, 1, 1, 2, 1, 1, 1, 1, 1, 1, 1, 1, 1, 1, 1, 1, 1, 1, 1, 1, 1, 2, 1, 1, 2, 1, 5, 1, 1, 2, 1, 1, 1, 1, 1, 2, 1, 1, 2, 3, 1, 2, 1, 2, 1, 3, 1, 1, 7, 1, 1, 3, 2, 1, 1, 3, 1, 1, 11, 17, 2, 2, 8, 10, 1, 1, 2, 1, 4, 3, 5, 8, 2, 2, 1, 1, 4, 4, 2, 1, 5, 1, 3, 4, 1, 1, 1, 1, 2, 2, 1, 1, 1, 2, 1, 1, 2, 1, 1, 2, 1, 1, 1, 1, 1, 4, 1, 1, 1, 1, 3, 4, 1, 18, 3, 21, 2, 6, 2, 4, 9, 4, 7, 1, 5, 1, 2, 4, 5, 5, 2, 1, 3, 2, 5, 1, 2, 1, 1, 3, 10, 1, 2, 2, 84, 1, 3, 2, 2, 2, 10, 1, 3, 3, 1, 5, 1, 1, 1, 2, 1, 2, 23, 2, 2, 30, 3, 1, 1, 3, 1, 1, 30, 5, 1, 1, 1, 3, 1, 6, 1, 2, 1, 7, 3, 1, 18, 18, 1, 1, 12, 5, 5, 4, 2, 13, 2, 2, 2, 1, 10, 4, 3, 4, 1, 1, 1, 1, 1, 24, 1, 1, 3, 1, 4, 17, 2, 2, 2, 1, 1, 1, 3, 12, 3, 2, 1, 1, 3, 2, 2, 13, 4, 7, 3, 3, 1, 1, 7, 1, 2, 1, 5, 3, 2, 2, 2, 1, 2, 1, 1, 1, 1, 4, 1, 1, 13, 15, 1, 1, 3, 8, 6, 1, 34, 1, 4, 1, 1, 4, 4, 1, 1, 2, 1, 1, 1, 1, 5, 5, 1, 1, 5, 2, 1, 1, 3, 1, 1, 2, 3, 4, 1, 1, 6, 1, 1, 1, 1, 2, 1, 2, 77, 5, 1, 2, 1, 18, 1, 1, 1, 1, 1, 1, 7, 2, 1, 1, 1, 1, 4, 1, 6, 4, 1, 4, 3, 1, 2, 3, 1, 1, 6, 1, 1, 1, 1, 2, 2, 1, 3, 1, 1, 1, 2, 1, 1, 2, 1, 1, 12, 2, 5, 1, 1, 1, 1, 1, 9, 1, 1, 1, 2, 1, 1, 1, 1, 7, 1, 1, 3, 1, 1, 19, 2, 1, 1, 1, 3, 1, 1, 1, 1, 1, 4, 3, 1, 4, 3, 1, 3, 9, 1, 1, 1, 1, 1, 1, 1, 2, 4, 1, 2, 1, 1, 1, 2, 7, 1, 1, 1, 1, 1, 2, 1, 1, 1, 5, 2, 6, 2, 1, 1, 1, 4, 29, 1, 1, 2, 2, 1, 1, 1, 1, 1, 3, 1, 2, 1, 1, 2, 1, 2, 1, 18, 2, 2, 1, 1, 1, 1, 1, 1, 1, 3, 1, 1, 3, 1, 2, 1, 1, 1, 2, 76, 1, 3, 4, 4, 1, 1, 1, 1, 1, 1, 1, 4, 3, 1, 1, 2, 7, 1, 7, 1, 3, 2, 1, 1, 3, 1, 4, 1, 2, 2, 2, 2, 1, 2, 1, 1, 1, 1, 1, 2, 1, 6, 1, 1, 1, 1, 1, 1, 1, 1, 2, 2, 1, 1, 1, 1, 26, 5, 1, 1, 1, 1, 2, 1, 1, 1, 1, 1, 1, 1, 3, 4, 1, 1, 3, 1, 3, 2, 3, 1, 3, 1, 1, 2, 1, 1, 1, 1, 1, 1, 1, 1, 1, 1, 2, 1, 1, 1, 1, 2, 1, 1, 1, 1, 1, 3, 1, 2, 1, 1, 1, 4, 1, 5, 1, 1, 1, 1, 1, 1, 1, 1, 1, 1, 1, 9, 1, 3, 10, 1, 1, 1, 1, 3, 1, 1, 1, 4, 2, 1, 1, 1, 1, 1, 1, 2, 1, 1, 1, 1, 1, 1, 55, 10, 18, 1, 2, 1, 1, 1, 2, 2, 1, 1, 3, 3, 1, 1, 1, 1, 1, 1, 1, 2, 31, 1, 6, 2, 15, 17, 123, 14, 9, 9, 17, 45, 20, 39, 54, 14, 34, 29, 54, 12, 14, 17, 29, 32, 6, 4, 17, 18, 2, 3, 17, 59, 1, 1, 6, 8, 1, 22, 10, 1, 4, 1, 9, 4, 19, 1, 1, 3, 21, 4, 20, 1, 1, 2, 6, 95, 7, 9, 5, 9, 47, 11, 7, 4, 6, 13, 13, 5, 4, 7, 2, 3, 8, 15, 5, 1, 1, 3, 1, 2, 14, 8, 2, 1, 12, 1, 3, 4, 3, 29, 2, 1, 4, 3, 2, 1, 1, 2, 1, 1, 4, 3, 4, 1, 2, 2, 3, 5, 11, 2, 7, 2, 2, 4, 2, 1, 1, 2, 6, 1, 3, 14, 8, 1, 3, 3, 3, 2, 6, 5, 4, 1, 2, 2, 8, 4, 2, 2, 2, 1, 2, 3, 1, 2, 4, 1, 8, 2, 38, 2, 1, 2, 3, 1, 2, 2, 4, 2, 4, 2, 83, 1, 6, 1, 1, 1, 2, 5, 1, 1, 5, 5, 2, 23, 1, 1, 3, 1, 1, 1, 1, 1, 1, 1, 1, 2, 1, 1, 1, 1, 2, 1, 1, 11, 1, 1, 1, 2, 1, 33, 11, 26, 1, 1, 1, 3, 3, 2, 1, 1, 1, 1, 1, 1, 1, 1, 1, 3, 2, 1, 1, 1, 1, 23, 239, 1, 1, 1, 2, 7, 5, 1, 1, 4, 1, 1, 3, 3, 3, 5, 4, 1, 5, 1, 2, 5, 1, 3, 1, 1, 1, 2, 2, 1, 1, 1, 1, 1, 1, 2, 1, 63, 1, 5, 4, 5, 1, 4, 3, 1, 5, 5, 1, 3, 2, 2, 3, 3, 3, 1, 2, 1, 1, 13, 6, 6, 1, 7, 5, 8, 3, 1, 1, 1, 3, 2, 1, 1, 1, 1, 1, 1, 3, 1, 6, 1, 5, 1, 1, 3, 2, 6, 4, 3, 2, 3, 2, 1, 2, 1, 3, 1, 3, 2, 6, 5, 5, 1, 1, 1, 2, 1, 3, 1, 1, 1, 2, 5, 2, 7, 1, 2, 1, 2, 3, 1, 3, 1, 2, 1, 3, 1, 2, 6, 3, 5, 3, 2, 9, 1, 1, 4, 28, 3, 1, 1, 6, 3, 1, 7, 2, 1, 1, 4, 1, 2, 3, 1, 1, 3, 3, 1, 1, 1, 2, 2, 3, 1, 1, 2, 3, 1, 5, 2, 1, 4, 2, 3, 1, 4, 1, 1, 1, 2, 5, 8, 1, 1, 2, 2, 7, 1, 1, 4, 7, 11, 2, 2, 2, 22, 1, 4, 1, 1, 11, 1, 2, 1, 2, 8, 8, 5, 1, 1, 1, 1, 1, 1, 1, 1, 1, 1, 1, 1, 1, 3, 1, 2, 1, 1, 2, 1, 1, 2, 36, 1, 2, 10, 2, 1, 9, 5, 2, 1, 12, 1, 1, 2, 2, 1, 1, 2, 19, 1, 3, 9, 2, 1, 1, 5, 1, 1, 1, 1, 2, 30, 1, 3, 1, 1, 2, 1, 1, 3, 1, 4, 3, 6, 1, 6, 1, 2, 1, 1, 1, 5, 3, 2, 2, 2, 4, 4, 1, 3, 1, 1, 2, 2, 1, 2, 2, 6, 2, 3, 2, 4, 3, 1, 1, 2, 1, 1, 1, 1, 1, 1, 1, 2, 1, 2, 2, 1, 1, 7, 3, 11, 5, 3, 2, 1, 1, 1, 4, 1, 1, 1, 1, 2, 3, 3, 1, 1, 1, 1, 1, 1, 4, 3, 2, 2, 1, 2, 2, 3, 3, 4, 3, 3, 4, 1, 1, 1, 2, 1, 1, 3, 2, 1, 1, 2, 2, 1, 1, 1, 1, 4, 2, 3, 1, 1, 1, 7, 4, 4, 3, 1, 1, 4, 2, 4, 3, 1, 2, 9, 9, 4, 8, 7, 1, 2, 1, 8, 3, 3, 2, 1, 1, 1, 3, 1, 1, 2, 4, 4, 1, 4, 2, 1, 4, 1, 1, 3, 1, 3, 1, 7, 5, 1, 1, 1, 2, 1, 3, 2, 5, 1, 1, 1, 1, 2, 2, 2, 4, 4, 1, 1, 2, 1, 2, 1, 1, 1, 3, 5, 1, 1, 1, 1, 1, 1, 3, 1, 2, 2, 1, 1, 2, 1, 1, 37, 2, 2, 1, 1, 1, 4, 1, 2, 1, 2, 1, 1, 1, 3, 2, 2, 1, 2, 2, 2, 1, 4, 3, 2, 1, 1, 1, 3, 1, 1, 1, 1, 2, 2, 1, 1, 5, 2, 1, 2, 1, 1, 1, 3, 2, 1, 1, 3, 2, 1, 1, 1, 2, 1, 5, 9, 6, 1, 1, 6, 4, 1, 1, 2, 1, 1, 1, 1, 1, 2, 1, 2, 1, 2, 1, 1, 1, 3, 1, 1, 1, 1, 1, 16, 1, 1, 1, 1, 1, 1, 1, 1, 1, 4, 10, 1, 4, 1, 1, 2, 1, 1, 1, 1, 1, 1, 1, 1, 1, 1, 1, 1, 1, 2, 5, 1, 1, 2, 3, 2, 2, 2, 1, 1, 1, 3, 2, 1, 2, 1, 2, 2, 2, 1, 1, 1, 1, 1, 1, 1, 1, 1, 1, 1, 1, 1, 1, 1, 1, 1, 1, 1, 1, 1, 1, 1, 1, 1, 1, 1, 1, 2, 1, 1, 1, 3, 1, 1, 7, 9, 1, 1, 1, 1, 1, 1, 2, 1, 3, 2, 1, 1, 35, 3, 1, 3, 2, 3, 4, 1, 2, 2, 2, 4, 1, 1, 2, 2, 1, 1, 2, 1, 1, 2, 4, 2, 4, 3, 1, 1, 1, 1, 1, 1, 1, 1, 1, 1, 2, 1, 2, 1, 1, 1, 1, 1, 2, 6, 1, 1, 1, 1, 1, 9, 3, 3, 4, 3, 1, 4, 1, 1, 3, 2, 1, 29, 2, 2, 1, 1, 1, 1, 2, 1, 1, 1, 1, 1, 1, 1, 1, 1, 1, 2, 1, 1, 1, 4, 1, 2, 2, 3, 11, 1, 1, 3, 2, 1, 2, 2, 1, 1, 2, 1, 1, 1, 3, 1, 2, 1, 17, 10, 4, 2, 3, 1, 2, 1, 2, 1, 1, 1, 11, 11, 1, 1, 1, 1, 1, 3, 9, 1, 1, 1, 1, 1, 1, 1, 1, 1, 1, 1, 1, 12, 3, 1, 1, 11, 1, 2, 31, 1, 1, 2, 1, 1, 3, 1, 1, 1, 1, 2, 18, 1, 1, 1, 3, 2, 1, 2, 2, 1, 1, 1, 1, 1, 64, 3, 1, 1, 1, 1, 1, 1, 1, 1, 1, 1, 2, 2, 1, 2, 1, 1, 2, 1, 2, 1, 1, 1, 1, 1, 2, 1, 1, 1, 2, 2, 2, 1, 2, 1, 1, 1, 1, 2, 2, 1, 1, 1, 1, 1, 2, 1, 1, 1, 1, 1, 1, 1, 1, 1, 1, 1, 1, 1, 1, 1, 1, 1, 1, 1, 1, 1, 1, 1, 1, 1, 1, 1, 1, 1, 1, 1, 1, 1, 1, 1, 1, 1, 1, 1, 1, 1, 1, 1, 1, 3, 1, 1, 1, 1, 1, 1, 1, 1, 1, 1, 1, 1, 1, 1, 1, 1, 1, 1, 1, 1, 1, 1, 1, 1, 1, 1, 1, 1, 1, 1, 1, 1, 3, 1, 1, 1, 1, 1, 3, 1, 3, 2, 1, 2, 1, 1, 2, 1, 2, 2, 1, 1, 1, 1, 1, 1, 1, 1, 1, 2, 1, 1, 1, 1, 2, 1, 1, 1, 2, 1, 1, 1, 1, 1, 1, 1, 1, 1, 1, 1, 1, 1, 1, 1, 1, 1, 1, 1, 1, 1, 1, 1, 1, 1, 1, 1, 1, 1, 1, 1, 1, 1, 1, 1, 1, 1, 1, 1, 1, 1, 1, 1, 1, 1, 1, 1, 1, 1, 1, 1, 2, 1, 1, 2, 1, 1, 1, 1, 1, 1, 1, 1, 1, 1, 1, 1, 1, 1, 1, 1, 1, 1, 1, 1, 1, 1, 1, 1, 1, 1, 1, 1, 3, 1, 1, 1, 1, 1, 1, 1, 1, 2, 1, 1, 2, 1, 1, 1, 6, 1, 1, 1, 1, 1, 1, 1, 1, 1, 1, 1, 1, 1, 1, 1, 1, 1, 1, 1, 1, 1, 1, 1, 1, 1, 1, 2, 2]\n"
          ]
        }
      ]
    },
    {
      "cell_type": "code",
      "source": [
        "def sub_average_path_C(G_elegans, sample_size=100):\n",
        "  sub_average_path_C = G_elegans.subgraph(np.random.choice(G_elegans.nodes, sample_size))"
      ],
      "metadata": {
        "id": "6e6JShSUuYEM"
      },
      "execution_count": null,
      "outputs": []
    },
    {
      "cell_type": "markdown",
      "source": [
        "#Clustering coefficient C(p)"
      ],
      "metadata": {
        "id": "ZwiLGsGH7ub0"
      }
    },
    {
      "cell_type": "code",
      "source": [
        "nx.average_clustering(G_elegans)"
      ],
      "metadata": {
        "colab": {
          "base_uri": "https://localhost:8080/"
        },
        "id": "FGFkM-Uf7wR0",
        "outputId": "bac1c48b-31a4-4888-c25d-8b9e8dcaed18"
      },
      "execution_count": null,
      "outputs": [
        {
          "output_type": "execute_result",
          "data": {
            "text/plain": [
              "0.11942253894153264"
            ]
          },
          "metadata": {},
          "execution_count": 31
        }
      ]
    },
    {
      "cell_type": "markdown",
      "source": [
        "#Characteristic path length L(p)"
      ],
      "metadata": {
        "id": "FctSaqJp7zAk"
      }
    },
    {
      "cell_type": "code",
      "source": [
        "G_elegans = nx.Graph([(1, 2), (3, 4)])\n",
        "for C in (G_elegans.subgraph(c).copy() for c in nx.connected_components(G_elegans)):\n",
        "    print(nx.average_shortest_path_length(C))\n",
        "    "
      ],
      "metadata": {
        "colab": {
          "base_uri": "https://localhost:8080/"
        },
        "id": "pFoZKdNm73EE",
        "outputId": "145ded8f-cd85-4525-841f-fbcbec5ad8f6"
      },
      "execution_count": null,
      "outputs": [
        {
          "output_type": "stream",
          "name": "stdout",
          "text": [
            "1.0\n",
            "1.0\n"
          ]
        }
      ]
    },
    {
      "cell_type": "markdown",
      "source": [
        "#Exercise 2.6 Community detection in protein interaction networks"
      ],
      "metadata": {
        "id": "SQoZWnyq79QO"
      }
    },
    {
      "cell_type": "markdown",
      "source": [
        "#Subexercise 2.6.1 Compute community structure"
      ],
      "metadata": {
        "id": "svNtmkHP7_RE"
      }
    },
    {
      "cell_type": "markdown",
      "source": [
        "NETWORKX has a modularity-maximisation for community detection available. Use this to compute community structure in the PIN of Homo sapiens. Illustrate the distribution of the community sizes."
      ],
      "metadata": {
        "id": "9wwSP4dG8Fxe"
      }
    },
    {
      "cell_type": "code",
      "source": [
        "inputname=\"BIOGRID-ORGANISM-Homo_sapiens-4.4.205.tab3.txt\"\n",
        "G_sapiens = nx.from_pandas_edgelist(pd.read_csv('/content/BIOGRID-ORGANISM-Homo_sapiens-4.4.205.tab3.txt', sep='\\t'),\n",
        "                            source='BioGRID ID Interactor A', target='BioGRID ID Interactor B')\n",
        "print(\"Number of nodes:\",G_sapiens.number_of_nodes())\n",
        "print(\"Number of edges:\",G_sapiens.number_of_edges())"
      ],
      "metadata": {
        "colab": {
          "base_uri": "https://localhost:8080/"
        },
        "id": "i_EBa22h8I3T",
        "outputId": "21e03bed-a6c5-4f12-e787-8932d4bb4c80"
      },
      "execution_count": null,
      "outputs": [
        {
          "output_type": "stream",
          "name": "stderr",
          "text": [
            "/usr/local/lib/python3.7/dist-packages/IPython/core/interactiveshell.py:2718: DtypeWarning: Columns (1,2,18) have mixed types.Specify dtype option on import or set low_memory=False.\n",
            "  interactivity=interactivity, compiler=compiler, result=result)\n"
          ]
        },
        {
          "output_type": "stream",
          "name": "stdout",
          "text": [
            "Number of nodes: 27274\n",
            "Number of edges: 736015\n"
          ]
        }
      ]
    },
    {
      "cell_type": "code",
      "source": [
        "def sub_average_path_C(G_sapiens, sample_sapiens=100):\n",
        "  sub_average_path_S = G_sapiens.subgraph(np.random.choice(G_sapiens.nodes, sample_size))"
      ],
      "metadata": {
        "id": "pvt2jSCs769l"
      },
      "execution_count": null,
      "outputs": []
    },
    {
      "cell_type": "code",
      "source": [
        "import networkx.algorithms.community as nx_comm\n",
        "G_sapiens = nx.barbell_graph(3, 0)\n",
        "nx_comm.modularity(G_sapiens, [{0, 1, 2}, {3, 4, 5}])"
      ],
      "metadata": {
        "colab": {
          "base_uri": "https://localhost:8080/"
        },
        "id": "4ALJ8pVv8jH3",
        "outputId": "d32f0ed3-13a9-4d16-a91d-412fd25cb644"
      },
      "execution_count": null,
      "outputs": [
        {
          "output_type": "execute_result",
          "data": {
            "text/plain": [
              "0.35714285714285715"
            ]
          },
          "metadata": {},
          "execution_count": 35
        }
      ]
    },
    {
      "cell_type": "code",
      "source": [
        "import networkx.algorithms.community as nx_comm\n",
        "G_sapiens = nx.barbell_graph(3, 0)\n",
        "nx_comm.modularity(G_sapiens, [{0, 1, 2}, {3, 4, 5}])"
      ],
      "metadata": {
        "colab": {
          "base_uri": "https://localhost:8080/"
        },
        "id": "-06K5ipS8otY",
        "outputId": "8e0a0629-0128-4b91-de2a-1356acdb4f96"
      },
      "execution_count": null,
      "outputs": [
        {
          "output_type": "execute_result",
          "data": {
            "text/plain": [
              "0.35714285714285715"
            ]
          },
          "metadata": {},
          "execution_count": 36
        }
      ]
    },
    {
      "cell_type": "code",
      "source": [
        "degree_sequence = sorted([d for n, d in G_sapiens.degree()], reverse=True)\n",
        "dmax = max(degree_sequence)\n",
        "fig, ax = plt.subplots(figsize=(8, 4))\n",
        "ax.bar(*np.unique(degree_sequence, return_counts=True),color='#001126')\n",
        "ax.set_title(\"Modularity\")\n",
        "ax.set_xlabel(\"Degree\")\n",
        "ax.set_ylabel(\"Number of Nodes\")\n",
        "ax.set_yscale('log')\n",
        "ax.vlines(meanDegree,0,10**4,linestyles='dashed',label='mean degree',color='r')\n",
        "ax.set_ylim(top=10)\n",
        "\n",
        "fig.tight_layout()\n",
        "\n",
        "plt.show()"
      ],
      "metadata": {
        "colab": {
          "base_uri": "https://localhost:8080/",
          "height": 293
        },
        "id": "-XIhMsFD8rIF",
        "outputId": "a31da3cb-8065-4ea4-abf5-77e1cbb569fb"
      },
      "execution_count": null,
      "outputs": [
        {
          "output_type": "display_data",
          "data": {
            "image/png": "[encoded data removed]",
            "text/plain": [
              "<Figure size 576x288 with 1 Axes>"
            ]
          },
          "metadata": {
            "needs_background": "light"
          }
        }
      ]
    }
  ],
  "metadata": {
    "colab": {
      "collapsed_sections": [],
      "name": "Project10.ipynb",
      "provenance": []
    },
    "kernelspec": {
      "display_name": "Python 3",
      "name": "python3"
    },
    "language_info": {
      "name": "python"
    }
  },
  "nbformat": 4,
  "nbformat_minor": 0
}