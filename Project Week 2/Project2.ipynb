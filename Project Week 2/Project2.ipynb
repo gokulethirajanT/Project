{
  "nbformat": 4,
  "nbformat_minor": 0,
  "metadata": {
    "colab": {
      "name": "Project2.ipynb",
      "provenance": [],
      "collapsed_sections": [],
      "toc_visible": true
    },
    "kernelspec": {
      "name": "python3",
      "display_name": "Python 3"
    },
    "language_info": {
      "name": "python"
    }
  },
  "cells": [
    {
      "cell_type": "markdown",
      "metadata": {
        "id": "1Lh357-FrMCI"
      },
      "source": [
        "# Project week 2 | TEAM 3\n",
        "\n",
        "---\n"
      ]
    },
    {
      "cell_type": "markdown",
      "metadata": {
        "id": "bd08JDlSrStn"
      },
      "source": [
        "# Imports"
      ]
    },
    {
      "cell_type": "markdown",
      "metadata": {
        "id": "u7vJclb0MUtB"
      },
      "source": [
        "Import Packages"
      ]
    },
    {
      "cell_type": "code",
      "metadata": {
        "id": "WxGzJjydrEwc"
      },
      "source": [
        "import pandas as pd\n",
        "import numpy as np\n",
        "import matplotlib.pyplot as plt\n",
        "import seaborn as sns \n",
        "import time"
      ],
      "execution_count": null,
      "outputs": []
    },
    {
      "cell_type": "markdown",
      "metadata": {
        "id": "QCXbQCDrMW2P"
      },
      "source": [
        "Import Data: Using files `breast-cancer-wisconsin.data` from the [Breast Cancer Wisconsin (Diagnostic) Data Set](https://archive.ics.uci.edu/ml/machine-learning-databases/breast-cancer-wisconsin/) with names from breast-cancer-wisconsin.names"
      ]
    },
    {
      "cell_type": "code",
      "metadata": {
        "colab": {
          "base_uri": "https://localhost:8080/",
          "height": 556
        },
        "id": "wHlFZDKCOMU6",
        "outputId": "a844a077-276c-46dc-8924-f18c0d65195c"
      },
      "source": [
        "data_df = pd.read_csv(\"breast-cancer-wisconsin.data\", sep=',',\n",
        "                      names=['ID number', 'Clump thickness', 'Uniformity of Cell Size', \n",
        "                             'Uniformity of Cell Shape', 'Marginal Adhesion', 'Single Epithelial Cell Size',\n",
        "                             'Bare Nuclei', 'Bland Chromatin', 'Normal Nucleoli', 'Mitoses',\n",
        "                             'Class'],\n",
        "                      na_values='?')\n",
        "data_df.info()\n",
        "data_df.head()"
      ],
      "execution_count": null,
      "outputs": [
        {
          "output_type": "stream",
          "name": "stdout",
          "text": [
            "<class 'pandas.core.frame.DataFrame'>\n",
            "RangeIndex: 699 entries, 0 to 698\n",
            "Data columns (total 11 columns):\n",
            " #   Column                       Non-Null Count  Dtype  \n",
            "---  ------                       --------------  -----  \n",
            " 0   ID number                    699 non-null    int64  \n",
            " 1   Clump thickness              699 non-null    int64  \n",
            " 2   Uniformity of Cell Size      699 non-null    int64  \n",
            " 3   Uniformity of Cell Shape     699 non-null    int64  \n",
            " 4   Marginal Adhesion            699 non-null    int64  \n",
            " 5   Single Epithelial Cell Size  699 non-null    int64  \n",
            " 6   Bare Nuclei                  683 non-null    float64\n",
            " 7   Bland Chromatin              699 non-null    int64  \n",
            " 8   Normal Nucleoli              699 non-null    int64  \n",
            " 9   Mitoses                      699 non-null    int64  \n",
            " 10  Class                        699 non-null    int64  \n",
            "dtypes: float64(1), int64(10)\n",
            "memory usage: 60.2 KB\n"
          ]
        },
        {
          "output_type": "execute_result",
          "data": {
            "text/html": [
              "<div>\n",
              "<style scoped>\n",
              "    .dataframe tbody tr th:only-of-type {\n",
              "        vertical-align: middle;\n",
              "    }\n",
              "\n",
              "    .dataframe tbody tr th {\n",
              "        vertical-align: top;\n",
              "    }\n",
              "\n",
              "    .dataframe thead th {\n",
              "        text-align: right;\n",
              "    }\n",
              "</style>\n",
              "<table border=\"1\" class=\"dataframe\">\n",
              "  <thead>\n",
              "    <tr style=\"text-align: right;\">\n",
              "      <th></th>\n",
              "      <th>ID number</th>\n",
              "      <th>Clump thickness</th>\n",
              "      <th>Uniformity of Cell Size</th>\n",
              "      <th>Uniformity of Cell Shape</th>\n",
              "      <th>Marginal Adhesion</th>\n",
              "      <th>Single Epithelial Cell Size</th>\n",
              "      <th>Bare Nuclei</th>\n",
              "      <th>Bland Chromatin</th>\n",
              "      <th>Normal Nucleoli</th>\n",
              "      <th>Mitoses</th>\n",
              "      <th>Class</th>\n",
              "    </tr>\n",
              "  </thead>\n",
              "  <tbody>\n",
              "    <tr>\n",
              "      <th>0</th>\n",
              "      <td>1000025</td>\n",
              "      <td>5</td>\n",
              "      <td>1</td>\n",
              "      <td>1</td>\n",
              "      <td>1</td>\n",
              "      <td>2</td>\n",
              "      <td>1.0</td>\n",
              "      <td>3</td>\n",
              "      <td>1</td>\n",
              "      <td>1</td>\n",
              "      <td>2</td>\n",
              "    </tr>\n",
              "    <tr>\n",
              "      <th>1</th>\n",
              "      <td>1002945</td>\n",
              "      <td>5</td>\n",
              "      <td>4</td>\n",
              "      <td>4</td>\n",
              "      <td>5</td>\n",
              "      <td>7</td>\n",
              "      <td>10.0</td>\n",
              "      <td>3</td>\n",
              "      <td>2</td>\n",
              "      <td>1</td>\n",
              "      <td>2</td>\n",
              "    </tr>\n",
              "    <tr>\n",
              "      <th>2</th>\n",
              "      <td>1015425</td>\n",
              "      <td>3</td>\n",
              "      <td>1</td>\n",
              "      <td>1</td>\n",
              "      <td>1</td>\n",
              "      <td>2</td>\n",
              "      <td>2.0</td>\n",
              "      <td>3</td>\n",
              "      <td>1</td>\n",
              "      <td>1</td>\n",
              "      <td>2</td>\n",
              "    </tr>\n",
              "    <tr>\n",
              "      <th>3</th>\n",
              "      <td>1016277</td>\n",
              "      <td>6</td>\n",
              "      <td>8</td>\n",
              "      <td>8</td>\n",
              "      <td>1</td>\n",
              "      <td>3</td>\n",
              "      <td>4.0</td>\n",
              "      <td>3</td>\n",
              "      <td>7</td>\n",
              "      <td>1</td>\n",
              "      <td>2</td>\n",
              "    </tr>\n",
              "    <tr>\n",
              "      <th>4</th>\n",
              "      <td>1017023</td>\n",
              "      <td>4</td>\n",
              "      <td>1</td>\n",
              "      <td>1</td>\n",
              "      <td>3</td>\n",
              "      <td>2</td>\n",
              "      <td>1.0</td>\n",
              "      <td>3</td>\n",
              "      <td>1</td>\n",
              "      <td>1</td>\n",
              "      <td>2</td>\n",
              "    </tr>\n",
              "  </tbody>\n",
              "</table>\n",
              "</div>"
            ],
            "text/plain": [
              "   ID number  Clump thickness  ...  Mitoses  Class\n",
              "0    1000025                5  ...        1      2\n",
              "1    1002945                5  ...        1      2\n",
              "2    1015425                3  ...        1      2\n",
              "3    1016277                6  ...        1      2\n",
              "4    1017023                4  ...        1      2\n",
              "\n",
              "[5 rows x 11 columns]"
            ]
          },
          "metadata": {},
          "execution_count": 4
        }
      ]
    },
    {
      "cell_type": "markdown",
      "metadata": {
        "id": "UIJUqWyJQMn7"
      },
      "source": [
        "Test for Null-Values"
      ]
    },
    {
      "cell_type": "code",
      "metadata": {
        "colab": {
          "base_uri": "https://localhost:8080/"
        },
        "id": "bBsfizj-O_7f",
        "outputId": "2b030fa9-b7b1-4338-a219-a1a7af61fe65"
      },
      "source": [
        "data_df.isnull().sum()"
      ],
      "execution_count": null,
      "outputs": [
        {
          "output_type": "execute_result",
          "data": {
            "text/plain": [
              "ID number                       0\n",
              "Clump thickness                 0\n",
              "Uniformity of Cell Size         0\n",
              "Uniformity of Cell Shape        0\n",
              "Marginal Adhesion               0\n",
              "Single Epithelial Cell Size     0\n",
              "Bare Nuclei                    16\n",
              "Bland Chromatin                 0\n",
              "Normal Nucleoli                 0\n",
              "Mitoses                         0\n",
              "Class                           0\n",
              "dtype: int64"
            ]
          },
          "metadata": {},
          "execution_count": 5
        }
      ]
    },
    {
      "cell_type": "markdown",
      "metadata": {
        "id": "Z32xgMZ7QO0q"
      },
      "source": [
        "The null-values in `\"Bare Nuclei\"` are replaced by the mean of the complete column"
      ]
    },
    {
      "cell_type": "code",
      "metadata": {
        "id": "mWU1ZfACZb0f"
      },
      "source": [
        "data_df['Bare Nuclei'] = data_df['Bare Nuclei'].fillna(data_df['Bare Nuclei'].mean())"
      ],
      "execution_count": null,
      "outputs": []
    },
    {
      "cell_type": "markdown",
      "metadata": {
        "id": "cGk_NtIN86vO"
      },
      "source": [
        ""
      ]
    },
    {
      "cell_type": "markdown",
      "metadata": {
        "id": "5xArpq7VSOa3"
      },
      "source": [
        "Make Target/Class binary by replacing values for benign tumors (2) with 0 and the malevolent tumor (4) with 1"
      ]
    },
    {
      "cell_type": "code",
      "metadata": {
        "id": "czxFAljqSauP"
      },
      "source": [
        "data_df[\"Class\"] = data_df.Class.map({2: 0, 4: 1})"
      ],
      "execution_count": null,
      "outputs": []
    },
    {
      "cell_type": "markdown",
      "metadata": {
        "id": "3-tQJhq1TjiA"
      },
      "source": [
        "This is what our data looks like now"
      ]
    },
    {
      "cell_type": "code",
      "metadata": {
        "colab": {
          "base_uri": "https://localhost:8080/",
          "height": 556
        },
        "id": "UYfyt4KVTn5V",
        "outputId": "611bb9f1-85fb-42a9-e868-c76d0d94974d"
      },
      "source": [
        "data_df.info()\n",
        "data_df.head()"
      ],
      "execution_count": null,
      "outputs": [
        {
          "output_type": "stream",
          "name": "stdout",
          "text": [
            "<class 'pandas.core.frame.DataFrame'>\n",
            "RangeIndex: 699 entries, 0 to 698\n",
            "Data columns (total 11 columns):\n",
            " #   Column                       Non-Null Count  Dtype  \n",
            "---  ------                       --------------  -----  \n",
            " 0   ID number                    699 non-null    int64  \n",
            " 1   Clump thickness              699 non-null    int64  \n",
            " 2   Uniformity of Cell Size      699 non-null    int64  \n",
            " 3   Uniformity of Cell Shape     699 non-null    int64  \n",
            " 4   Marginal Adhesion            699 non-null    int64  \n",
            " 5   Single Epithelial Cell Size  699 non-null    int64  \n",
            " 6   Bare Nuclei                  699 non-null    float64\n",
            " 7   Bland Chromatin              699 non-null    int64  \n",
            " 8   Normal Nucleoli              699 non-null    int64  \n",
            " 9   Mitoses                      699 non-null    int64  \n",
            " 10  Class                        699 non-null    int64  \n",
            "dtypes: float64(1), int64(10)\n",
            "memory usage: 60.2 KB\n"
          ]
        },
        {
          "output_type": "execute_result",
          "data": {
            "text/html": [
              "<div>\n",
              "<style scoped>\n",
              "    .dataframe tbody tr th:only-of-type {\n",
              "        vertical-align: middle;\n",
              "    }\n",
              "\n",
              "    .dataframe tbody tr th {\n",
              "        vertical-align: top;\n",
              "    }\n",
              "\n",
              "    .dataframe thead th {\n",
              "        text-align: right;\n",
              "    }\n",
              "</style>\n",
              "<table border=\"1\" class=\"dataframe\">\n",
              "  <thead>\n",
              "    <tr style=\"text-align: right;\">\n",
              "      <th></th>\n",
              "      <th>ID number</th>\n",
              "      <th>Clump thickness</th>\n",
              "      <th>Uniformity of Cell Size</th>\n",
              "      <th>Uniformity of Cell Shape</th>\n",
              "      <th>Marginal Adhesion</th>\n",
              "      <th>Single Epithelial Cell Size</th>\n",
              "      <th>Bare Nuclei</th>\n",
              "      <th>Bland Chromatin</th>\n",
              "      <th>Normal Nucleoli</th>\n",
              "      <th>Mitoses</th>\n",
              "      <th>Class</th>\n",
              "    </tr>\n",
              "  </thead>\n",
              "  <tbody>\n",
              "    <tr>\n",
              "      <th>0</th>\n",
              "      <td>1000025</td>\n",
              "      <td>5</td>\n",
              "      <td>1</td>\n",
              "      <td>1</td>\n",
              "      <td>1</td>\n",
              "      <td>2</td>\n",
              "      <td>1.0</td>\n",
              "      <td>3</td>\n",
              "      <td>1</td>\n",
              "      <td>1</td>\n",
              "      <td>0</td>\n",
              "    </tr>\n",
              "    <tr>\n",
              "      <th>1</th>\n",
              "      <td>1002945</td>\n",
              "      <td>5</td>\n",
              "      <td>4</td>\n",
              "      <td>4</td>\n",
              "      <td>5</td>\n",
              "      <td>7</td>\n",
              "      <td>10.0</td>\n",
              "      <td>3</td>\n",
              "      <td>2</td>\n",
              "      <td>1</td>\n",
              "      <td>0</td>\n",
              "    </tr>\n",
              "    <tr>\n",
              "      <th>2</th>\n",
              "      <td>1015425</td>\n",
              "      <td>3</td>\n",
              "      <td>1</td>\n",
              "      <td>1</td>\n",
              "      <td>1</td>\n",
              "      <td>2</td>\n",
              "      <td>2.0</td>\n",
              "      <td>3</td>\n",
              "      <td>1</td>\n",
              "      <td>1</td>\n",
              "      <td>0</td>\n",
              "    </tr>\n",
              "    <tr>\n",
              "      <th>3</th>\n",
              "      <td>1016277</td>\n",
              "      <td>6</td>\n",
              "      <td>8</td>\n",
              "      <td>8</td>\n",
              "      <td>1</td>\n",
              "      <td>3</td>\n",
              "      <td>4.0</td>\n",
              "      <td>3</td>\n",
              "      <td>7</td>\n",
              "      <td>1</td>\n",
              "      <td>0</td>\n",
              "    </tr>\n",
              "    <tr>\n",
              "      <th>4</th>\n",
              "      <td>1017023</td>\n",
              "      <td>4</td>\n",
              "      <td>1</td>\n",
              "      <td>1</td>\n",
              "      <td>3</td>\n",
              "      <td>2</td>\n",
              "      <td>1.0</td>\n",
              "      <td>3</td>\n",
              "      <td>1</td>\n",
              "      <td>1</td>\n",
              "      <td>0</td>\n",
              "    </tr>\n",
              "  </tbody>\n",
              "</table>\n",
              "</div>"
            ],
            "text/plain": [
              "   ID number  Clump thickness  ...  Mitoses  Class\n",
              "0    1000025                5  ...        1      0\n",
              "1    1002945                5  ...        1      0\n",
              "2    1015425                3  ...        1      0\n",
              "3    1016277                6  ...        1      0\n",
              "4    1017023                4  ...        1      0\n",
              "\n",
              "[5 rows x 11 columns]"
            ]
          },
          "metadata": {},
          "execution_count": 8
        }
      ]
    },
    {
      "cell_type": "markdown",
      "metadata": {
        "id": "0robzymTMMSH"
      },
      "source": [
        "# Statistics\n",
        "Task 1: Take a closer look at the data - Statistics\n",
        "\n",
        "Gather statistical information about the data, such as summary statistics, histograms, \n",
        "outliers, or variable relationships (e.g. correlation) about at least three of the attributes."
      ]
    },
    {
      "cell_type": "markdown",
      "metadata": {
        "id": "IGladHktQYCs"
      },
      "source": [
        "## Summary of data"
      ]
    },
    {
      "cell_type": "markdown",
      "metadata": {
        "id": "4vdhN7hSKp7z"
      },
      "source": [
        "**Get column data types and missing values in Columns**"
      ]
    },
    {
      "cell_type": "code",
      "metadata": {
        "colab": {
          "base_uri": "https://localhost:8080/"
        },
        "id": "McNzFh-7Idjy",
        "outputId": "c01d1312-0648-4719-aced-47764c7fed19"
      },
      "source": [
        "#data_df.isnull().sum()\n",
        "#data_df.isna().sum()\n",
        "# Get column data types and missing values in Columns\n",
        "data_df.info()"
      ],
      "execution_count": null,
      "outputs": [
        {
          "output_type": "stream",
          "name": "stdout",
          "text": [
            "<class 'pandas.core.frame.DataFrame'>\n",
            "RangeIndex: 699 entries, 0 to 698\n",
            "Data columns (total 11 columns):\n",
            " #   Column                       Non-Null Count  Dtype  \n",
            "---  ------                       --------------  -----  \n",
            " 0   ID number                    699 non-null    int64  \n",
            " 1   Clump thickness              699 non-null    int64  \n",
            " 2   Uniformity of Cell Size      699 non-null    int64  \n",
            " 3   Uniformity of Cell Shape     699 non-null    int64  \n",
            " 4   Marginal Adhesion            699 non-null    int64  \n",
            " 5   Single Epithelial Cell Size  699 non-null    int64  \n",
            " 6   Bare Nuclei                  699 non-null    float64\n",
            " 7   Bland Chromatin              699 non-null    int64  \n",
            " 8   Normal Nucleoli              699 non-null    int64  \n",
            " 9   Mitoses                      699 non-null    int64  \n",
            " 10  Class                        699 non-null    int64  \n",
            "dtypes: float64(1), int64(10)\n",
            "memory usage: 60.2 KB\n"
          ]
        }
      ]
    },
    {
      "cell_type": "markdown",
      "metadata": {
        "id": "CMI2sqvPJ5Ap"
      },
      "source": [
        "**Get column**"
      ]
    },
    {
      "cell_type": "code",
      "metadata": {
        "colab": {
          "base_uri": "https://localhost:8080/"
        },
        "id": "88rHnjE4Kahc",
        "outputId": "6bcd3b77-278b-4138-aee0-24d81050c4fe"
      },
      "source": [
        "# Get column names\n",
        "column_names = data_df.columns \n",
        "for i in column_names:\n",
        "  print('{} is unique: {}'.format(i, data_df[i].is_unique))"
      ],
      "execution_count": null,
      "outputs": [
        {
          "output_type": "stream",
          "name": "stdout",
          "text": [
            "ID number is unique: False\n",
            "Clump thickness is unique: False\n",
            "Uniformity of Cell Size is unique: False\n",
            "Uniformity of Cell Shape is unique: False\n",
            "Marginal Adhesion is unique: False\n",
            "Single Epithelial Cell Size is unique: False\n",
            "Bare Nuclei is unique: False\n",
            "Bland Chromatin is unique: False\n",
            "Normal Nucleoli is unique: False\n",
            "Mitoses is unique: False\n",
            "Class is unique: False\n"
          ]
        }
      ]
    },
    {
      "cell_type": "markdown",
      "metadata": {
        "id": "oU2geC6ELMda"
      },
      "source": [
        "**columns gives columns names in data**\n",
        "\n",
        "\n",
        "\n"
      ]
    },
    {
      "cell_type": "code",
      "metadata": {
        "id": "tAMu6rXbfNU6",
        "colab": {
          "base_uri": "https://localhost:8080/"
        },
        "outputId": "846c3a20-7d10-4a8c-f06d-f2155f4a0ab4"
      },
      "source": [
        "# Get column names\n",
        "col = data_df.columns # .columns gives columns names in data \n",
        "print(col)"
      ],
      "execution_count": null,
      "outputs": [
        {
          "output_type": "stream",
          "name": "stdout",
          "text": [
            "Index(['ID number', 'Clump thickness', 'Uniformity of Cell Size',\n",
            "       'Uniformity of Cell Shape', 'Marginal Adhesion',\n",
            "       'Single Epithelial Cell Size', 'Bare Nuclei', 'Bland Chromatin',\n",
            "       'Normal Nucleoli', 'Mitoses', 'Class'],\n",
            "      dtype='object')\n"
          ]
        }
      ]
    },
    {
      "cell_type": "markdown",
      "metadata": {
        "id": "_006SUs_LHs8"
      },
      "source": [
        "**define headers**"
      ]
    },
    {
      "cell_type": "code",
      "metadata": {
        "id": "dPEs-ZSrLH_t",
        "colab": {
          "base_uri": "https://localhost:8080/"
        },
        "outputId": "a45f2d2b-b4b5-4b64-c038-458c284deb2a"
      },
      "source": [
        "data_df.head()\n",
        "data_df.shape # (569, 31)\n",
        "data_df.columns"
      ],
      "execution_count": null,
      "outputs": [
        {
          "output_type": "execute_result",
          "data": {
            "text/plain": [
              "Index(['ID number', 'Clump thickness', 'Uniformity of Cell Size',\n",
              "       'Uniformity of Cell Shape', 'Marginal Adhesion',\n",
              "       'Single Epithelial Cell Size', 'Bare Nuclei', 'Bland Chromatin',\n",
              "       'Normal Nucleoli', 'Mitoses', 'Class'],\n",
              "      dtype='object')"
            ]
          },
          "metadata": {},
          "execution_count": 12
        }
      ]
    },
    {
      "cell_type": "markdown",
      "metadata": {
        "id": "Amh1Gn5tg2Aw"
      },
      "source": [
        "**Fundamental data description**"
      ]
    },
    {
      "cell_type": "code",
      "metadata": {
        "colab": {
          "base_uri": "https://localhost:8080/",
          "height": 318
        },
        "id": "FoJH5EOmJXB4",
        "outputId": "a81e3a3f-67c3-4138-9935-424c43a3f48c"
      },
      "source": [
        "data_df.describe()"
      ],
      "execution_count": null,
      "outputs": [
        {
          "output_type": "execute_result",
          "data": {
            "text/html": [
              "<div>\n",
              "<style scoped>\n",
              "    .dataframe tbody tr th:only-of-type {\n",
              "        vertical-align: middle;\n",
              "    }\n",
              "\n",
              "    .dataframe tbody tr th {\n",
              "        vertical-align: top;\n",
              "    }\n",
              "\n",
              "    .dataframe thead th {\n",
              "        text-align: right;\n",
              "    }\n",
              "</style>\n",
              "<table border=\"1\" class=\"dataframe\">\n",
              "  <thead>\n",
              "    <tr style=\"text-align: right;\">\n",
              "      <th></th>\n",
              "      <th>ID number</th>\n",
              "      <th>Clump thickness</th>\n",
              "      <th>Uniformity of Cell Size</th>\n",
              "      <th>Uniformity of Cell Shape</th>\n",
              "      <th>Marginal Adhesion</th>\n",
              "      <th>Single Epithelial Cell Size</th>\n",
              "      <th>Bare Nuclei</th>\n",
              "      <th>Bland Chromatin</th>\n",
              "      <th>Normal Nucleoli</th>\n",
              "      <th>Mitoses</th>\n",
              "      <th>Class</th>\n",
              "    </tr>\n",
              "  </thead>\n",
              "  <tbody>\n",
              "    <tr>\n",
              "      <th>count</th>\n",
              "      <td>6.990000e+02</td>\n",
              "      <td>699.000000</td>\n",
              "      <td>699.000000</td>\n",
              "      <td>699.000000</td>\n",
              "      <td>699.000000</td>\n",
              "      <td>699.000000</td>\n",
              "      <td>699.000000</td>\n",
              "      <td>699.000000</td>\n",
              "      <td>699.000000</td>\n",
              "      <td>699.000000</td>\n",
              "      <td>699.000000</td>\n",
              "    </tr>\n",
              "    <tr>\n",
              "      <th>mean</th>\n",
              "      <td>1.071704e+06</td>\n",
              "      <td>4.417740</td>\n",
              "      <td>3.134478</td>\n",
              "      <td>3.207439</td>\n",
              "      <td>2.806867</td>\n",
              "      <td>3.216023</td>\n",
              "      <td>3.544656</td>\n",
              "      <td>3.437768</td>\n",
              "      <td>2.866953</td>\n",
              "      <td>1.589413</td>\n",
              "      <td>0.344778</td>\n",
              "    </tr>\n",
              "    <tr>\n",
              "      <th>std</th>\n",
              "      <td>6.170957e+05</td>\n",
              "      <td>2.815741</td>\n",
              "      <td>3.051459</td>\n",
              "      <td>2.971913</td>\n",
              "      <td>2.855379</td>\n",
              "      <td>2.214300</td>\n",
              "      <td>3.601852</td>\n",
              "      <td>2.438364</td>\n",
              "      <td>3.053634</td>\n",
              "      <td>1.715078</td>\n",
              "      <td>0.475636</td>\n",
              "    </tr>\n",
              "    <tr>\n",
              "      <th>min</th>\n",
              "      <td>6.163400e+04</td>\n",
              "      <td>1.000000</td>\n",
              "      <td>1.000000</td>\n",
              "      <td>1.000000</td>\n",
              "      <td>1.000000</td>\n",
              "      <td>1.000000</td>\n",
              "      <td>1.000000</td>\n",
              "      <td>1.000000</td>\n",
              "      <td>1.000000</td>\n",
              "      <td>1.000000</td>\n",
              "      <td>0.000000</td>\n",
              "    </tr>\n",
              "    <tr>\n",
              "      <th>25%</th>\n",
              "      <td>8.706885e+05</td>\n",
              "      <td>2.000000</td>\n",
              "      <td>1.000000</td>\n",
              "      <td>1.000000</td>\n",
              "      <td>1.000000</td>\n",
              "      <td>2.000000</td>\n",
              "      <td>1.000000</td>\n",
              "      <td>2.000000</td>\n",
              "      <td>1.000000</td>\n",
              "      <td>1.000000</td>\n",
              "      <td>0.000000</td>\n",
              "    </tr>\n",
              "    <tr>\n",
              "      <th>50%</th>\n",
              "      <td>1.171710e+06</td>\n",
              "      <td>4.000000</td>\n",
              "      <td>1.000000</td>\n",
              "      <td>1.000000</td>\n",
              "      <td>1.000000</td>\n",
              "      <td>2.000000</td>\n",
              "      <td>1.000000</td>\n",
              "      <td>3.000000</td>\n",
              "      <td>1.000000</td>\n",
              "      <td>1.000000</td>\n",
              "      <td>0.000000</td>\n",
              "    </tr>\n",
              "    <tr>\n",
              "      <th>75%</th>\n",
              "      <td>1.238298e+06</td>\n",
              "      <td>6.000000</td>\n",
              "      <td>5.000000</td>\n",
              "      <td>5.000000</td>\n",
              "      <td>4.000000</td>\n",
              "      <td>4.000000</td>\n",
              "      <td>5.000000</td>\n",
              "      <td>5.000000</td>\n",
              "      <td>4.000000</td>\n",
              "      <td>1.000000</td>\n",
              "      <td>1.000000</td>\n",
              "    </tr>\n",
              "    <tr>\n",
              "      <th>max</th>\n",
              "      <td>1.345435e+07</td>\n",
              "      <td>10.000000</td>\n",
              "      <td>10.000000</td>\n",
              "      <td>10.000000</td>\n",
              "      <td>10.000000</td>\n",
              "      <td>10.000000</td>\n",
              "      <td>10.000000</td>\n",
              "      <td>10.000000</td>\n",
              "      <td>10.000000</td>\n",
              "      <td>10.000000</td>\n",
              "      <td>1.000000</td>\n",
              "    </tr>\n",
              "  </tbody>\n",
              "</table>\n",
              "</div>"
            ],
            "text/plain": [
              "          ID number  Clump thickness  ...     Mitoses       Class\n",
              "count  6.990000e+02       699.000000  ...  699.000000  699.000000\n",
              "mean   1.071704e+06         4.417740  ...    1.589413    0.344778\n",
              "std    6.170957e+05         2.815741  ...    1.715078    0.475636\n",
              "min    6.163400e+04         1.000000  ...    1.000000    0.000000\n",
              "25%    8.706885e+05         2.000000  ...    1.000000    0.000000\n",
              "50%    1.171710e+06         4.000000  ...    1.000000    0.000000\n",
              "75%    1.238298e+06         6.000000  ...    1.000000    1.000000\n",
              "max    1.345435e+07        10.000000  ...   10.000000    1.000000\n",
              "\n",
              "[8 rows x 11 columns]"
            ]
          },
          "metadata": {},
          "execution_count": 13
        }
      ]
    },
    {
      "cell_type": "markdown",
      "metadata": {
        "id": "Riz1j0TmiAbC"
      },
      "source": [
        "**Mean of the attributes selected**"
      ]
    },
    {
      "cell_type": "code",
      "metadata": {
        "id": "1gTlJwLofN6Q",
        "colab": {
          "base_uri": "https://localhost:8080/"
        },
        "outputId": "6db6aac2-5f69-4079-c259-e3341b36ad19"
      },
      "source": [
        "Mitoses_mean = data_df[\"Mitoses\"].mean()\n",
        "Marginal_Adhesion_mean = data_df[\"Marginal Adhesion\"].mean()\n",
        "Uniformity_of_Cell_Size_mean = data_df[\"Uniformity of Cell Size\"].mean()\n",
        "Clump_thickness_mean = data_df[\"Clump thickness\"].mean()\n",
        "Single_Epithelial_Cell_Size_mean = data_df[\"Single Epithelial Cell Size\"].mean()\n",
        "Bland_Chromatin_mean = data_df[\"Bland Chromatin\"].mean()\n",
        "print(\"Mean of Mitoses is: \",Mitoses_mean)\n",
        "print(\"Mean of Marginal Adhesion is: \",Marginal_Adhesion_mean)\n",
        "print(\"Mean of Uniformity of Cell Size is: \",Uniformity_of_Cell_Size_mean)\n",
        "print(\"Mean of Clump thickness is: \",Clump_thickness_mean)\n",
        "print(\"Mean of Single Epithelial Cell Size is: \",Single_Epithelial_Cell_Size_mean)\n",
        "print(\"Mean of Bland Chromatin is: \",Bland_Chromatin_mean)"
      ],
      "execution_count": null,
      "outputs": [
        {
          "output_type": "stream",
          "name": "stdout",
          "text": [
            "Mean of Mitoses is:  1.5894134477825466\n",
            "Mean of Marginal Adhesion is:  2.8068669527896994\n",
            "Mean of Uniformity of Cell Size is:  3.13447782546495\n",
            "Mean of Clump thickness is:  4.417739628040057\n",
            "Mean of Single Epithelial Cell Size is:  3.216022889842632\n",
            "Mean of Bland Chromatin is:  3.4377682403433476\n"
          ]
        }
      ]
    },
    {
      "cell_type": "markdown",
      "metadata": {
        "id": "2qZ8ttjYvc7d"
      },
      "source": [
        "Histograms of six chosen Attributes"
      ]
    },
    {
      "cell_type": "code",
      "metadata": {
        "colab": {
          "base_uri": "https://localhost:8080/",
          "height": 312
        },
        "id": "W5cQTnMZvb0s",
        "outputId": "96fec075-ce4a-45d6-fdcb-99ec92436299"
      },
      "source": [
        "six_attributes = [\"Mitoses\", \"Marginal Adhesion\", \"Uniformity of Cell Size\", \"Clump thickness\", \"Single Epithelial Cell Size\", \"Bland Chromatin\"]\n",
        "hist_fig, hist_axs = plt.subplots(2,3)\n",
        "for idx, attribute in enumerate(six_attributes):\n",
        "  hist_axs[idx % 2, idx%3].hist(x = data_df[attribute], histtype = \"bar\")\n",
        "  hist_axs[idx % 2, idx%3].set_title(attribute)\n",
        "  hist_axs[idx % 2, idx%3].axvline(data_df[attribute].mean(), color = \"red\")\n",
        "hist_fig.tight_layout(rect=[0, 0.03, 1, 0.95])\n",
        "hist_fig.suptitle(\"Histograms with Means for six Attributes\")\n",
        "hist_fig.savefig(\"histograms.png\")"
      ],
      "execution_count": null,
      "outputs": [
        {
          "output_type": "execute_result",
          "data": {
            "text/plain": [
              "Text(0.5, 0.98, 'Histograms with Means for six Attributes')"
            ]
          },
          "metadata": {},
          "execution_count": 15
        },
        {
          "output_type": "display_data",
          "data": {
            "image/png": "[encoded data removed]",
            "text/plain": [
              "<Figure size 432x288 with 6 Axes>"
            ]
          },
          "metadata": {
            "needs_background": "light"
          }
        }
      ]
    },
    {
      "cell_type": "markdown",
      "metadata": {
        "id": "UaGOUv12QiRF"
      },
      "source": [
        "## Variable Relationships"
      ]
    },
    {
      "cell_type": "markdown",
      "metadata": {
        "id": "FuA4NlZ7ihgv"
      },
      "source": [
        "**Co-variance between attributes**"
      ]
    },
    {
      "cell_type": "code",
      "metadata": {
        "id": "iInoikCJfOg-",
        "colab": {
          "base_uri": "https://localhost:8080/"
        },
        "outputId": "d5b8c2b9-5811-406b-d326-a7da95c7df6f"
      },
      "source": [
        "cov_mat = np.stack((Mitoses_mean,Marginal_Adhesion_mean), axis = 0)\n",
        "cov_mat1 = np.stack((Uniformity_of_Cell_Size_mean,Clump_thickness_mean), axis = 0)\n",
        "cov_mat2 = np.stack((Single_Epithelial_Cell_Size_mean,Bland_Chromatin_mean), axis = 0)\n",
        "print(np.cov(cov_mat))\n",
        "print(np.cov(cov_mat1))\n",
        "print(np.cov(cov_mat2))"
      ],
      "execution_count": null,
      "outputs": [
        {
          "output_type": "stream",
          "name": "stdout",
          "text": [
            "0.7410965184271008\n",
            "0.8233804269741568\n",
            "0.024585500234342566\n"
          ]
        }
      ]
    },
    {
      "cell_type": "code",
      "metadata": {
        "colab": {
          "base_uri": "https://localhost:8080/",
          "height": 397
        },
        "id": "Hzo4g3JTztMR",
        "outputId": "20257c22-6bb6-4048-e68e-5e5dc535fa74"
      },
      "source": [
        "f,ax=plt.subplots()\n",
        "sns.heatmap(data_df.drop(\"ID number\", axis = 1).corr(),annot= True,linewidths=0.5,fmt = \".1f\",ax=ax)\n",
        "plt.xticks(rotation=90)\n",
        "plt.yticks(rotation=0)\n",
        "plt.title('Correlation Map')\n",
        "plt.savefig('correlation_map.png')\n",
        "plt.show()"
      ],
      "execution_count": null,
      "outputs": [
        {
          "output_type": "display_data",
          "data": {
            "image/png": "[encoded data removed]",
            "text/plain": [
              "<Figure size 432x288 with 2 Axes>"
            ]
          },
          "metadata": {
            "needs_background": "light"
          }
        }
      ]
    },
    {
      "cell_type": "markdown",
      "metadata": {
        "id": "vFhUM1L8iz5w"
      },
      "source": [
        "**p-values**"
      ]
    },
    {
      "cell_type": "code",
      "metadata": {
        "colab": {
          "base_uri": "https://localhost:8080/"
        },
        "id": "80crOc70i6uc",
        "outputId": "2dc1d15d-5fda-4eb7-a506-e2a63f74663d"
      },
      "source": [
        "statistic, p_value1 = (Mitoses_mean,Marginal_Adhesion_mean)\n",
        "statistic, p_value2 = (Uniformity_of_Cell_Size_mean,Clump_thickness_mean)\n",
        "statistic, p_value3 = (Single_Epithelial_Cell_Size_mean,Bland_Chromatin_mean)\n",
        "\n",
        "\n",
        "print('p-value of Mitoses mean and Marginal Adhesion mean is: ',p_value1)\n",
        "print('p-value of Uniformity_of_Cell_Size_mean and Clump_thickness_meanis: ',p_value2)\n",
        "print('p-value of Single_Epithelial_Cell_Size_mean and Bland_Chromatin_mean: ',p_value3)"
      ],
      "execution_count": null,
      "outputs": [
        {
          "output_type": "stream",
          "name": "stdout",
          "text": [
            "p-value of Mitoses mean and Marginal Adhesion mean is:  2.8068669527896994\n",
            "p-value of Uniformity_of_Cell_Size_mean and Clump_thickness_meanis:  4.417739628040057\n",
            "p-value of Single_Epithelial_Cell_Size_mean and Bland_Chromatin_mean:  3.4377682403433476\n"
          ]
        }
      ]
    },
    {
      "cell_type": "code",
      "metadata": {
        "id": "4jBidC8Wipuf"
      },
      "source": [
        ""
      ],
      "execution_count": null,
      "outputs": []
    },
    {
      "cell_type": "markdown",
      "metadata": {
        "id": "-uB5erXSQoCF"
      },
      "source": [
        "# Classifiers\n",
        "\n",
        "**Task 2: Build (train) Classifiers**\n",
        "\n",
        "Develop (or: train) two classifiers to allow classification of the given class (diagnosis). Perform tuning of the hyper-parameters (if any). \n",
        "\n",
        "\n",
        "**Task 3: Analyze the Classifier**\n",
        "\n",
        "Find and use a method that gives you information about the most important features (or \n",
        "attributes) of the individual classifiers.\n",
        "\n",
        "**Task 4: Evaluate the Classifiers**\n",
        "\n",
        "Perform the evaluation as described in the lecture (accuracy, precision/recall, ROC analysis) \n",
        "and two more methods that you find from the literature. Compare the results for the two \n",
        "classifiers in each category – use a table to display the results. And make sure to discuss the \n",
        "evaluation results in the results section, for example what it means that a classifier is better \n",
        "in precision compared to recall (or the other way round) and what that means for a potential \n",
        "application.  "
      ]
    },
    {
      "cell_type": "markdown",
      "metadata": {
        "id": "r9fSNL1SeJhr"
      },
      "source": [
        "Create 2 Datasets: Training Data `X_train, y_train` and Test/Validation Data `X_test, y_test`"
      ]
    },
    {
      "cell_type": "code",
      "metadata": {
        "id": "AgfcWbVvRAbk"
      },
      "source": [
        "from sklearn.model_selection import train_test_split\n",
        "\n",
        "X = data_df.drop([\"ID number\", \"Class\"], axis = 1)#iloc[:, :-1].values\n",
        "y = data_df.Class\n",
        "\n",
        "X_train, X_test, y_train, y_test = train_test_split(X, y, \n",
        "                                                    test_size = 0.2, \n",
        "                                                    random_state = 42)"
      ],
      "execution_count": null,
      "outputs": []
    },
    {
      "cell_type": "markdown",
      "metadata": {
        "id": "b5XNpa7_pesP"
      },
      "source": [
        "Function for visualization"
      ]
    },
    {
      "cell_type": "code",
      "metadata": {
        "id": "-8tvAV3kpg3-"
      },
      "source": [
        "def imp_df(column_names, importances):\n",
        "  df = pd.DataFrame({'feature': column_names, 'feature_importance': importances}).sort_values('feature_importance', ascending = False).reset_index(drop = True)\n",
        "  return df"
      ],
      "execution_count": null,
      "outputs": []
    },
    {
      "cell_type": "markdown",
      "metadata": {
        "id": "RYdMqZ2LqvQ-"
      },
      "source": [
        "Function for feature Importance"
      ]
    },
    {
      "cell_type": "code",
      "metadata": {
        "id": "iv1ol-QiqyLz"
      },
      "source": [
        "from sklearn.base import clone \n",
        "from sklearn.inspection import permutation_importance\n",
        "def drop_col_feat_imp(model, X_train, y_train, random_state = 42):\n",
        "    \n",
        "    # clone the model to have the exact same specification as the one initially trained\n",
        "    model_clone = clone(model)\n",
        "    # set random_state for comparability\n",
        "    model_clone.random_state = random_state\n",
        "    # training and scoring the benchmark model\n",
        "    model_clone.fit(X_train, y_train)\n",
        "    benchmark_score = model_clone.score(X_train, y_train)\n",
        "    # list for storing feature importances\n",
        "    importances = []\n",
        "    \n",
        "    # iterating over all columns and storing feature importance (difference between benchmark and new model)\n",
        "    for col in X_train.columns:\n",
        "        model_clone = clone(model)\n",
        "        model_clone.random_state = random_state\n",
        "        model_clone.fit(X_train.drop(col, axis = 1), y_train)\n",
        "        drop_col_score = model_clone.score(X_train.drop(col, axis = 1), y_train)\n",
        "        importances.append(benchmark_score - drop_col_score)\n",
        "    \n",
        "    importances_df = imp_df(X_train.columns, importances)\n",
        "    return importances_df\n"
      ],
      "execution_count": null,
      "outputs": []
    },
    {
      "cell_type": "markdown",
      "metadata": {
        "id": "ubXB-WtfrhbN"
      },
      "source": [
        "For Evaluation"
      ]
    },
    {
      "cell_type": "code",
      "metadata": {
        "id": "tfdSC8rCrke-"
      },
      "source": [
        "from sklearn.metrics import confusion_matrix\n",
        "from sklearn.metrics import accuracy_score\n",
        "from sklearn.metrics import plot_roc_curve"
      ],
      "execution_count": null,
      "outputs": []
    },
    {
      "cell_type": "code",
      "metadata": {
        "colab": {
          "base_uri": "https://localhost:8080/",
          "height": 269
        },
        "id": "ky_92_nER1bp",
        "outputId": "31b11d0a-fcdd-4565-86e1-72710381a6ae"
      },
      "source": [
        "confusion_fig, confusion_axs = plt.subplots(1,2)"
      ],
      "execution_count": null,
      "outputs": [
        {
          "output_type": "display_data",
          "data": {
            "image/png": "[encoded data removed]",
            "text/plain": [
              "<Figure size 432x288 with 2 Axes>"
            ]
          },
          "metadata": {
            "needs_background": "light"
          }
        }
      ]
    },
    {
      "cell_type": "markdown",
      "metadata": {
        "id": "KLTc3o4qRzy5"
      },
      "source": [
        "## Random Forest"
      ]
    },
    {
      "cell_type": "markdown",
      "metadata": {
        "id": "l_BWBdCCeF7b"
      },
      "source": [
        "Create Model and train with Training-Data."
      ]
    },
    {
      "cell_type": "code",
      "metadata": {
        "id": "hvHPcm0WY_KS",
        "colab": {
          "base_uri": "https://localhost:8080/"
        },
        "outputId": "2c81c1a2-f4a9-4438-9673-c1f9b2d2dd8e"
      },
      "source": [
        "from sklearn.ensemble import RandomForestClassifier\n",
        "\n",
        "rf = RandomForestClassifier(random_state=43,\n",
        "                            oob_score = True,\n",
        "                            bootstrap = True)\n",
        "rf.fit(X_train, y_train)\n",
        "\n",
        "print('R^2 Training Score: {:.2f} \\nOOB Score: {:.2f} \\nR^2 Validation Score: {:.2f}'.format(\n",
        "    rf.score(X_train, y_train), rf.oob_score_, rf.score(X_test, y_test)))"
      ],
      "execution_count": null,
      "outputs": [
        {
          "output_type": "stream",
          "name": "stdout",
          "text": [
            "R^2 Training Score: 1.00 \n",
            "OOB Score: 0.96 \n",
            "R^2 Validation Score: 0.96\n"
          ]
        }
      ]
    },
    {
      "cell_type": "markdown",
      "metadata": {
        "id": "YzYB13j9efBe"
      },
      "source": [
        "Use Model to evaluate Test/Validation data:"
      ]
    },
    {
      "cell_type": "code",
      "metadata": {
        "id": "eRzYhAG_ekbp"
      },
      "source": [
        "rf_y_pred = rf.predict(X_test)"
      ],
      "execution_count": null,
      "outputs": []
    },
    {
      "cell_type": "markdown",
      "metadata": {
        "id": "bTsxEVjeeoh1"
      },
      "source": [
        "Analyze feature Importance with standard `sklearn`.\n",
        "\n"
      ]
    },
    {
      "cell_type": "code",
      "metadata": {
        "colab": {
          "base_uri": "https://localhost:8080/",
          "height": 381
        },
        "id": "qhemjtHbendw",
        "outputId": "df30cedf-300c-4d6a-c3cb-54650f398432"
      },
      "source": [
        "names = col.ravel()\n",
        "names = names[1:]\n",
        "names = names[:-1]\n",
        "\n",
        "# pd.Series(abs(rf.feature_importances_), index=names).sort_values().plot(kind='barh')\n",
        "# plt.title(\"Feature Importance according to sklearn\")\n",
        "# plt.show()\n",
        "\n",
        "rf_fig, axs = plt.subplots(2,2, sharey=True, figsize = (8, 5))\n",
        "rf_fig.tight_layout()\n",
        "axs[0,0].barh(y = X.columns, width = rf.feature_importances_)\n",
        "axs[0,0].set_title(\"Feature Importance according to sklearn\")\n",
        "#plt.tight_layout()\n",
        "plt.show()"
      ],
      "execution_count": null,
      "outputs": [
        {
          "output_type": "display_data",
          "data": {
            "image/png": "[encoded data removed]",
            "text/plain": [
              "<Figure size 576x360 with 4 Axes>"
            ]
          },
          "metadata": {
            "needs_background": "light"
          }
        }
      ]
    },
    {
      "cell_type": "markdown",
      "metadata": {
        "id": "Te_q-gd7jRbx"
      },
      "source": [
        "Permutation Feature Importance: source [scikit-learn.org](https://scikit-learn.org/stable/auto_examples/inspection/plot_permutation_importance.html)"
      ]
    },
    {
      "cell_type": "code",
      "metadata": {
        "id": "eqQMODyHjeyP"
      },
      "source": [
        "result = permutation_importance(\n",
        "    rf, X_test, y_test, n_repeats=10, random_state=42, n_jobs=2\n",
        ")\n",
        "sorted_idx = result.importances_mean.argsort()\n",
        "\n",
        "# fig, ax = plt.subplots()\n",
        "axs[0,1].boxplot(\n",
        "    result.importances[sorted_idx].T, vert=False, labels=X_test.columns[sorted_idx]\n",
        ")\n",
        "axs[0,1].set_title(\"Permutation Importances (test set)\")\n",
        "#fig.tight_layout()\n",
        "plt.show()"
      ],
      "execution_count": null,
      "outputs": []
    },
    {
      "cell_type": "code",
      "metadata": {
        "id": "UoEq9FismgKs"
      },
      "source": [
        "result = permutation_importance(\n",
        "    rf, X_train, y_train, n_repeats=10, random_state=42, n_jobs=2\n",
        ")\n",
        "sorted_idx = result.importances_mean.argsort()\n",
        "\n",
        "#fig, ax = plt.subplots()\n",
        "axs[1,1].boxplot(\n",
        "    result.importances[sorted_idx].T, vert=False, labels=X_train.columns[sorted_idx]\n",
        ")\n",
        "axs[1,1].set_title(\"Permutation Importances (train set)\")\n",
        "#fig.tight_layout()\n",
        "plt.show()"
      ],
      "execution_count": null,
      "outputs": []
    },
    {
      "cell_type": "markdown",
      "metadata": {
        "id": "ZHqakvbhlxyE"
      },
      "source": [
        "Drop Column Feature Importance (from [Here](https://gist.githubusercontent.com/erykml/6854134220276b1a50862aa486a44192/raw/4b2846f70d6ccba3e00efd5e5716dc2650850789/drop_col_feat_imp.py))"
      ]
    },
    {
      "cell_type": "code",
      "metadata": {
        "id": "87VKoQX6l0-6"
      },
      "source": [
        "drop_col_importances = drop_col_feat_imp(rf, X_train, y_train)\n",
        "# fig, ax = plt.subplots()\n",
        "axs[1,0].barh(drop_col_importances.feature, drop_col_importances.feature_importance)\n",
        "axs[1,0].set_title(\"Drop Column Importances (train set)\")\n",
        "#plt.tight_layout()\n",
        "plt.show()\n"
      ],
      "execution_count": null,
      "outputs": []
    },
    {
      "cell_type": "code",
      "metadata": {
        "id": "74FlZSbjOkq8",
        "colab": {
          "base_uri": "https://localhost:8080/",
          "height": 381
        },
        "outputId": "cb23bfff-696c-42b8-f027-c231e0d6472a"
      },
      "source": [
        "#rf_fig.tight_layout()\n",
        "rf_fig#.savefig(\"rf_features.png\")"
      ],
      "execution_count": null,
      "outputs": [
        {
          "output_type": "execute_result",
          "data": {
            "image/png": "[encoded data removed]",
            "text/plain": [
              "<Figure size 576x360 with 4 Axes>"
            ]
          },
          "metadata": {},
          "execution_count": 88
        }
      ]
    },
    {
      "cell_type": "markdown",
      "metadata": {
        "id": "hSEUpGDveDFz"
      },
      "source": [
        "Evaluate Training:"
      ]
    },
    {
      "cell_type": "code",
      "metadata": {
        "colab": {
          "base_uri": "https://localhost:8080/"
        },
        "id": "xVVAEmADkClc",
        "outputId": "d6cd5722-1ab9-4648-95ae-4337d0ee7e73"
      },
      "source": [
        "rf_accuracy = accuracy_score(y_test, rf_y_pred)\n",
        "print(\"Accuracy of Random Forest:\\t\\t\", rf_accuracy)\n",
        "rf_confusionmatrix = confusion_matrix(y_test, rf_y_pred)\n",
        "sns.heatmap(rf_confusionmatrix, annot = True, fmt = \"d\", ax = confusion_axs[0])\n",
        "confusion_axs[0].set_title(\"(A) Random Forest\")\n",
        "#plt.savefig(\"rf_confusionmatrix.png\")\n",
        "plt.show()\n",
        "tn, fp, fn, tp = rf_confusionmatrix.ravel()\n",
        "sens = tp / (tp + fn) # also known as Recall\n",
        "spec = tn / (tn + fp)\n",
        "prec = tp / (tp + fp)\n",
        "print(\"Sensitivity / Recall for RF:\\t\", sens, \"\\nSpecificity for RF:\\t\", spec, \n",
        "      \"\\nPrecision for RF:\\t\", prec)\n"
      ],
      "execution_count": null,
      "outputs": [
        {
          "output_type": "stream",
          "name": "stdout",
          "text": [
            "Accuracy of Random Forest:\t\t 0.9571428571428572\n",
            "Sensitivity / Recall for RF:\t 0.9333333333333333 \n",
            "Specificity for RF:\t 0.968421052631579 \n",
            "Precision for RF:\t 0.9333333333333333\n"
          ]
        }
      ]
    },
    {
      "cell_type": "code",
      "metadata": {
        "colab": {
          "base_uri": "https://localhost:8080/",
          "height": 279
        },
        "id": "-Y2lLRMnrB89",
        "outputId": "05e3835d-cb05-42a2-9fab-00c020b399f1"
      },
      "source": [
        "rf_roc = plot_roc_curve(rf, X_test, y_test)"
      ],
      "execution_count": null,
      "outputs": [
        {
          "output_type": "display_data",
          "data": {
            "image/png": "[encoded data removed]",
            "text/plain": [
              "<Figure size 432x288 with 1 Axes>"
            ]
          },
          "metadata": {
            "needs_background": "light"
          }
        }
      ]
    },
    {
      "cell_type": "code",
      "metadata": {
        "colab": {
          "base_uri": "https://localhost:8080/"
        },
        "id": "k_VLZ04Hd9-1",
        "outputId": "631a9953-9b80-40ac-d309-4644c8fedee8"
      },
      "source": [
        "from sklearn import metrics\n",
        "\n",
        "rf_fScore = metrics.f1_score(y_test, rf_y_pred)\n",
        "# rf_balAcc = metrics.balanced_accuracy_score(y_test, rf_y_pred)\n",
        "\n",
        "print(\"F1 score for RF:\\t\", rf_fScore)"
      ],
      "execution_count": null,
      "outputs": [
        {
          "output_type": "stream",
          "name": "stdout",
          "text": [
            "F1 score for RF:\t 0.9333333333333333\n"
          ]
        }
      ]
    },
    {
      "cell_type": "markdown",
      "metadata": {
        "id": "4R8k5qcYaI7Y"
      },
      "source": [
        "## SVM"
      ]
    },
    {
      "cell_type": "markdown",
      "metadata": {
        "id": "REo2ejlyUCOO"
      },
      "source": [
        "Create Model and train with Training-Data."
      ]
    },
    {
      "cell_type": "code",
      "metadata": {
        "id": "lDodP9Zum0F8",
        "colab": {
          "base_uri": "https://localhost:8080/"
        },
        "outputId": "7d16f6be-b2ec-4ad4-d07c-3cf7c192c060"
      },
      "source": [
        "from sklearn.svm import SVC\n",
        "\n",
        "svm = SVC(kernel = 'linear', probability = True)\n",
        "svm.fit(X_train, y_train)\n",
        "\n",
        "print('R^2 Training Score: {:.2f} \\nR^2 Validation Score: {:.2f}'.format(\n",
        "      svm.score(X_train, y_train), svm.score(X_test, y_test)))"
      ],
      "execution_count": null,
      "outputs": [
        {
          "output_type": "stream",
          "name": "stdout",
          "text": [
            "R^2 Training Score: 0.97 \n",
            "R^2 Validation Score: 0.96\n"
          ]
        }
      ]
    },
    {
      "cell_type": "markdown",
      "metadata": {
        "id": "r0EgMM86UwwX"
      },
      "source": [
        "Use Model to evaluate Test/Validation data:"
      ]
    },
    {
      "cell_type": "code",
      "metadata": {
        "id": "bBW5wbXZUxmF"
      },
      "source": [
        "svm_y_pred = svm.predict(X_test)"
      ],
      "execution_count": null,
      "outputs": []
    },
    {
      "cell_type": "markdown",
      "metadata": {
        "id": "7fFqUY7yU7kM"
      },
      "source": [
        "Analyze feature Importance"
      ]
    },
    {
      "cell_type": "code",
      "metadata": {
        "colab": {
          "base_uri": "https://localhost:8080/",
          "height": 390
        },
        "id": "a6z8N18iU9xt",
        "outputId": "3efb98a5-9977-4bce-df7e-f3bb2b3d57fa"
      },
      "source": [
        "names = col.ravel()\n",
        "names = names[1:]\n",
        "names = names[:-1]\n",
        "svm_fig, axs = plt.subplots(2,2, sharey=True, figsize = (8,6))\n",
        "axs[0,0].barh(y = X.columns, width = abs(svm.coef_[0])) # pd.Series(abs(svm.coef_[0]), index=names).sort_values().plot(kind='barh')\n",
        "axs[0,0].set_title(\"Feature Importance according to sklearn\")\n",
        "plt.show()"
      ],
      "execution_count": null,
      "outputs": [
        {
          "output_type": "display_data",
          "data": {
            "image/png": "[encoded data removed]",
            "text/plain": [
              "<Figure size 576x432 with 4 Axes>"
            ]
          },
          "metadata": {
            "needs_background": "light"
          }
        }
      ]
    },
    {
      "cell_type": "markdown",
      "metadata": {
        "id": "Ksls2MYgVQIC"
      },
      "source": [
        "Permutation Feature Importance: source [scikit-learn.org](https://scikit-learn.org/stable/auto_examples/inspection/plot_permutation_importance.html)"
      ]
    },
    {
      "cell_type": "code",
      "metadata": {
        "id": "TGD99PibVR9a"
      },
      "source": [
        "result = permutation_importance(\n",
        "    svm, X_test, y_test, n_repeats=10, random_state=42, n_jobs=2\n",
        ")\n",
        "sorted_idx = result.importances_mean.argsort()\n",
        "\n",
        "axs[0,1].boxplot(\n",
        "    result.importances[sorted_idx].T, vert=False, labels=X_test.columns[sorted_idx]\n",
        ")\n",
        "axs[0,1].set_title(\"Permutation Importances (test set)\")\n",
        "# fig.tight_layout()\n",
        "plt.show()"
      ],
      "execution_count": null,
      "outputs": []
    },
    {
      "cell_type": "code",
      "metadata": {
        "id": "HVDTEzkIVize"
      },
      "source": [
        "result = permutation_importance(\n",
        "    svm, X_train, y_train, n_repeats=10, random_state=42, n_jobs=2\n",
        ")\n",
        "sorted_idx = result.importances_mean.argsort()\n",
        "\n",
        "# fig, ax = plt.subplots()\n",
        "axs[1,1].boxplot(\n",
        "    result.importances[sorted_idx].T, vert=False, labels=X_train.columns[sorted_idx]\n",
        ")\n",
        "axs[1,1].set_title(\"Permutation Importances (train set)\")\n",
        "#fig.tight_layout()\n",
        "plt.show()"
      ],
      "execution_count": null,
      "outputs": []
    },
    {
      "cell_type": "markdown",
      "metadata": {
        "id": "FnlIPV8RVwda"
      },
      "source": [
        "Drop Column Feature Importance (from [Here](https://gist.githubusercontent.com/erykml/6854134220276b1a50862aa486a44192/raw/4b2846f70d6ccba3e00efd5e5716dc2650850789/drop_col_feat_imp.py))"
      ]
    },
    {
      "cell_type": "code",
      "metadata": {
        "id": "MDSr816xVyOV"
      },
      "source": [
        "drop_col_importances = drop_col_feat_imp(svm, X_train, y_train)\n",
        "# fig, ax = plt.subplots()\n",
        "axs[1,0].barh(drop_col_importances.feature, drop_col_importances.feature_importance)\n",
        "axs[1,0].set_title(\"Drop Column Importances (train set)\")\n",
        "plt.show()"
      ],
      "execution_count": null,
      "outputs": []
    },
    {
      "cell_type": "markdown",
      "metadata": {
        "id": "Ab_J6KuyMYpr"
      },
      "source": [
        "Show all"
      ]
    },
    {
      "cell_type": "code",
      "metadata": {
        "colab": {
          "base_uri": "https://localhost:8080/",
          "height": 390
        },
        "id": "0FCiVvbtMZ-D",
        "outputId": "04a40e39-5a2d-4256-b925-5d04355e6aa4"
      },
      "source": [
        "svm_fig"
      ],
      "execution_count": null,
      "outputs": [
        {
          "output_type": "execute_result",
          "data": {
            "image/png": "[encoded data removed]",
            "text/plain": [
              "<Figure size 576x432 with 4 Axes>"
            ]
          },
          "metadata": {},
          "execution_count": 99
        }
      ]
    },
    {
      "cell_type": "markdown",
      "metadata": {
        "id": "uPkB2cobV7uY"
      },
      "source": [
        "Evaluate Training:"
      ]
    },
    {
      "cell_type": "code",
      "metadata": {
        "colab": {
          "base_uri": "https://localhost:8080/",
          "height": 339
        },
        "id": "L0-Z7luOnnFr",
        "outputId": "bde1585a-7fda-48d4-9eba-45e275bf619f"
      },
      "source": [
        "svm_accuracy = accuracy_score(y_test, svm_y_pred)\n",
        "print(\"Accuracy of SVM:\\t\\t\", svm_accuracy)\n",
        "svm_confusionmatrix = confusion_matrix(y_test, svm_y_pred)\n",
        "sns.heatmap(svm_confusionmatrix, annot = True, fmt = \"d\")\n",
        "#confusion_axs[1].set_title(\"(B) SVM\")\n",
        "#plt.show()\n",
        "tn, fp, fn, tp = svm_confusionmatrix.ravel()\n",
        "sens = tp / (tp + fn) # also known as Recall\n",
        "spec = tn / (tn + fp)\n",
        "prec = tp / (tp + fp)\n",
        "print(\"Sensitivity / Recall for SVM:\\t\", sens, \"\\nSpecificity for SVM:\\t\", spec, \n",
        "      \"\\nPrecision for SVM:\\t\", prec)"
      ],
      "execution_count": null,
      "outputs": [
        {
          "output_type": "stream",
          "name": "stdout",
          "text": [
            "Accuracy of SVM:\t\t 0.9642857142857143\n",
            "Sensitivity / Recall for SVM:\t 0.9111111111111111 \n",
            "Specificity for SVM:\t 0.9894736842105263 \n",
            "Precision for SVM:\t 0.9761904761904762\n"
          ]
        },
        {
          "output_type": "display_data",
          "data": {
            "image/png": "[encoded data removed]",
            "text/plain": [
              "<Figure size 432x288 with 2 Axes>"
            ]
          },
          "metadata": {
            "needs_background": "light"
          }
        }
      ]
    },
    {
      "cell_type": "code",
      "metadata": {
        "colab": {
          "base_uri": "https://localhost:8080/",
          "height": 281
        },
        "id": "ab2-iO20SxUn",
        "outputId": "13320fff-50f7-4049-fa7b-cf9844e8cdfb"
      },
      "source": [
        "fig, axs = plt.subplots(ncols=2, figsize = (8, 4))\n",
        "\n",
        "sns.heatmap(rf_confusionmatrix,  ax=axs[0], annot=True).set_title(\"(A) Random Forest\")\n",
        "sns.heatmap(svm_confusionmatrix, ax=axs[1], annot=True).set_title(\"(B) SVM\")\n",
        "\n",
        "plt.show()"
      ],
      "execution_count": null,
      "outputs": [
        {
          "output_type": "display_data",
          "data": {
            "image/png": "[encoded data removed]",
            "text/plain": [
              "<Figure size 576x288 with 4 Axes>"
            ]
          },
          "metadata": {
            "needs_background": "light"
          }
        }
      ]
    },
    {
      "cell_type": "code",
      "metadata": {
        "colab": {
          "base_uri": "https://localhost:8080/",
          "height": 279
        },
        "id": "g_S55I3WSjbU",
        "outputId": "8e5762b9-8f1f-4508-d1b0-4e88df790761"
      },
      "source": [
        "svm_roc = plot_roc_curve(svm, X_test, y_test, ax = rf_roc.ax_)\n",
        "svm_roc.figure_"
      ],
      "execution_count": null,
      "outputs": [
        {
          "output_type": "execute_result",
          "data": {
            "image/png": "[encoded data removed]",
            "text/plain": [
              "<Figure size 432x288 with 1 Axes>"
            ]
          },
          "metadata": {},
          "execution_count": 42
        }
      ]
    },
    {
      "cell_type": "code",
      "metadata": {
        "colab": {
          "base_uri": "https://localhost:8080/"
        },
        "id": "eiGwHq4FWLR1",
        "outputId": "d23735e7-100b-4581-83b6-914a69fad4f1"
      },
      "source": [
        "svm_fScore = metrics.f1_score(y_test, svm_y_pred)\n",
        "# svm_balAcc = metrics.balanced_accuracy_score(y_test, svm_y_pred)\n",
        "\n",
        "print(\"F1 score for RF:\\t\", svm_fScore)"
      ],
      "execution_count": null,
      "outputs": [
        {
          "output_type": "stream",
          "name": "stdout",
          "text": [
            "F1 score for RF:\t 0.9425287356321839\n"
          ]
        }
      ]
    }
  ]
}